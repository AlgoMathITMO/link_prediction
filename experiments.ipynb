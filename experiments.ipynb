{
 "metadata": {
  "language_info": {
   "codemirror_mode": {
    "name": "ipython",
    "version": 3
   },
   "file_extension": ".py",
   "mimetype": "text/x-python",
   "name": "python",
   "nbconvert_exporter": "python",
   "pygments_lexer": "ipython3",
   "version": "3.8.5"
  },
  "orig_nbformat": 4,
  "kernelspec": {
   "name": "python3",
   "display_name": "Python 3.8.5 64-bit ('base': conda)"
  },
  "interpreter": {
   "hash": "2569654758497ea0148171e06cb07ecd9ac26e5685a9906bf4fb435b79c473d4"
  }
 },
 "nbformat": 4,
 "nbformat_minor": 2,
 "cells": [
  {
   "cell_type": "code",
   "execution_count": 1,
   "source": [
    "import networkx as nx\n",
    "import pandas as pd\n",
    "import seaborn as sn\n",
    "import matplotlib.pyplot as plt\n",
    "import random\n",
    "import numpy as np\n",
    "import math\n",
    "from bisect import bisect"
   ],
   "outputs": [],
   "metadata": {}
  },
  {
   "cell_type": "code",
   "execution_count": 2,
   "source": [
    "import matplotlib as mpl\n",
    "\n",
    "mpl.rcParams['figure.figsize'] = [12.0, 7.0]\n",
    "mpl.rcParams['figure.dpi'] = 100"
   ],
   "outputs": [],
   "metadata": {}
  },
  {
   "cell_type": "code",
   "execution_count": 3,
   "source": [
    "from lib.utils.data_spit import data_split\n",
    "\n",
    "from lib.generators.LFR import LFR\n",
    "from lib.generators.OLP import OLP"
   ],
   "outputs": [],
   "metadata": {}
  },
  {
   "cell_type": "code",
   "execution_count": 4,
   "source": [
    "# hyperparameters\n",
    "\n",
    "seed = random.randint(1, 1000)                              # random seed\n",
    "\n",
    "# CLASSIFIER PARAMETERS\n",
    "quality_class_intervals = [0, 0.25, 0.50, 0.75, 1.001]      # quality class intervals\n",
    "quality_class_labels = [0, 1, 2, 3]                         # quality class labels\n",
    "quality_class_names = ['exelent', 'good', 'ok', 'poor']     # quality classes names"
   ],
   "outputs": [],
   "metadata": {}
  },
  {
   "cell_type": "markdown",
   "source": [
    "# Step 1\n",
    "## Graph and features generation\n",
    "\n",
    "Generate/import graph and features based on avalible `generator` classes"
   ],
   "metadata": {}
  },
  {
   "cell_type": "code",
   "execution_count": 5,
   "source": [
    "generator = LFR(n=1000, t1=3, t2=1.5, m=0.1, seed=seed)\n",
    "#generator = OLP(network_index=0)\n",
    "\n",
    "ground_truth_df = generator.get_df()\n",
    "\n",
    "features_df = generator.get_features_df()\n",
    "feature_names = generator.feature_names\n",
    "\n",
    "feature_names"
   ],
   "outputs": [
    {
     "output_type": "execute_result",
     "data": {
      "text/plain": [
       "['RAI', 'JC', 'AAI', 'PA']"
      ]
     },
     "metadata": {},
     "execution_count": 5
    }
   ],
   "metadata": {}
  },
  {
   "cell_type": "code",
   "execution_count": 6,
   "source": [
    "ground_truth_df['goal'].value_counts()"
   ],
   "outputs": [
    {
     "output_type": "execute_result",
     "data": {
      "text/plain": [
       "1    5041\n",
       "0    5041\n",
       "Name: goal, dtype: int64"
      ]
     },
     "metadata": {},
     "execution_count": 6
    }
   ],
   "metadata": {}
  },
  {
   "cell_type": "code",
   "execution_count": 7,
   "source": [
    "features_df.head(5)"
   ],
   "outputs": [
    {
     "output_type": "execute_result",
     "data": {
      "text/plain": [
       "         node1  node2  RAI   JC  AAI        PA\n",
       "1210666    248   2874  0.0  0.0  0.0  0.011842\n",
       "7516734   1845   2625  0.0  0.0  0.0  0.018421\n",
       "9825359   2691   3085  0.0  0.0  0.0  0.015789\n",
       "9497352   2553   2748  0.0  0.0  0.0  0.015789\n",
       "8339716   2118   2607  0.0  0.0  0.0  0.009868"
      ],
      "text/html": [
       "<div>\n",
       "<style scoped>\n",
       "    .dataframe tbody tr th:only-of-type {\n",
       "        vertical-align: middle;\n",
       "    }\n",
       "\n",
       "    .dataframe tbody tr th {\n",
       "        vertical-align: top;\n",
       "    }\n",
       "\n",
       "    .dataframe thead th {\n",
       "        text-align: right;\n",
       "    }\n",
       "</style>\n",
       "<table border=\"1\" class=\"dataframe\">\n",
       "  <thead>\n",
       "    <tr style=\"text-align: right;\">\n",
       "      <th></th>\n",
       "      <th>node1</th>\n",
       "      <th>node2</th>\n",
       "      <th>RAI</th>\n",
       "      <th>JC</th>\n",
       "      <th>AAI</th>\n",
       "      <th>PA</th>\n",
       "    </tr>\n",
       "  </thead>\n",
       "  <tbody>\n",
       "    <tr>\n",
       "      <th>1210666</th>\n",
       "      <td>248</td>\n",
       "      <td>2874</td>\n",
       "      <td>0.0</td>\n",
       "      <td>0.0</td>\n",
       "      <td>0.0</td>\n",
       "      <td>0.011842</td>\n",
       "    </tr>\n",
       "    <tr>\n",
       "      <th>7516734</th>\n",
       "      <td>1845</td>\n",
       "      <td>2625</td>\n",
       "      <td>0.0</td>\n",
       "      <td>0.0</td>\n",
       "      <td>0.0</td>\n",
       "      <td>0.018421</td>\n",
       "    </tr>\n",
       "    <tr>\n",
       "      <th>9825359</th>\n",
       "      <td>2691</td>\n",
       "      <td>3085</td>\n",
       "      <td>0.0</td>\n",
       "      <td>0.0</td>\n",
       "      <td>0.0</td>\n",
       "      <td>0.015789</td>\n",
       "    </tr>\n",
       "    <tr>\n",
       "      <th>9497352</th>\n",
       "      <td>2553</td>\n",
       "      <td>2748</td>\n",
       "      <td>0.0</td>\n",
       "      <td>0.0</td>\n",
       "      <td>0.0</td>\n",
       "      <td>0.015789</td>\n",
       "    </tr>\n",
       "    <tr>\n",
       "      <th>8339716</th>\n",
       "      <td>2118</td>\n",
       "      <td>2607</td>\n",
       "      <td>0.0</td>\n",
       "      <td>0.0</td>\n",
       "      <td>0.0</td>\n",
       "      <td>0.009868</td>\n",
       "    </tr>\n",
       "  </tbody>\n",
       "</table>\n",
       "</div>"
      ]
     },
     "metadata": {},
     "execution_count": 7
    }
   ],
   "metadata": {}
  },
  {
   "cell_type": "code",
   "execution_count": 8,
   "source": [
    "corrMatrix = features_df[feature_names].corr()\n",
    "sn.heatmap(corrMatrix, annot=True)\n",
    "plt.show()"
   ],
   "outputs": [
    {
     "output_type": "display_data",
     "data": {
      "text/plain": [
       "<Figure size 1200x700 with 2 Axes>"
      ],
      "image/png": "[encoded data removed]"
     },
     "metadata": {
      "needs_background": "light"
     }
    }
   ],
   "metadata": {}
  },
  {
   "cell_type": "markdown",
   "source": [
    "# Step 2\n",
    "## Splitting the data"
   ],
   "metadata": {}
  },
  {
   "cell_type": "markdown",
   "source": [
    "We split the data in the following way:\n",
    "* 1/3 is used to train a link prediction model\n",
    "* 1/3 is used to test the link prediction model. Here we also calculate the error and use this data to train quality classifier\n",
    "* 1/3 is used to evaluate the clasifier"
   ],
   "metadata": {}
  },
  {
   "cell_type": "code",
   "execution_count": 9,
   "source": [
    "link_prediction_train, link_prediction_test, classifier_test = data_split(ground_truth_df, features_df)"
   ],
   "outputs": [],
   "metadata": {}
  },
  {
   "cell_type": "code",
   "execution_count": 10,
   "source": [
    "link_prediction_train['goal'].value_counts()"
   ],
   "outputs": [
    {
     "output_type": "execute_result",
     "data": {
      "text/plain": [
       "1    1678\n",
       "0    1678\n",
       "Name: goal, dtype: int64"
      ]
     },
     "metadata": {},
     "execution_count": 10
    }
   ],
   "metadata": {}
  },
  {
   "cell_type": "code",
   "execution_count": 11,
   "source": [
    "link_prediction_test['goal'].value_counts()"
   ],
   "outputs": [
    {
     "output_type": "execute_result",
     "data": {
      "text/plain": [
       "1    1678\n",
       "0    1678\n",
       "Name: goal, dtype: int64"
      ]
     },
     "metadata": {},
     "execution_count": 11
    }
   ],
   "metadata": {}
  },
  {
   "cell_type": "code",
   "execution_count": 12,
   "source": [
    "classifier_test['goal'].value_counts()"
   ],
   "outputs": [
    {
     "output_type": "execute_result",
     "data": {
      "text/plain": [
       "1    1678\n",
       "0    1678\n",
       "Name: goal, dtype: int64"
      ]
     },
     "metadata": {},
     "execution_count": 12
    }
   ],
   "metadata": {}
  },
  {
   "cell_type": "markdown",
   "source": [
    "# Step 3\n",
    "## Link prediction model\n",
    "\n",
    "Predict links using one of the avalble link prediction models"
   ],
   "metadata": {}
  },
  {
   "cell_type": "code",
   "execution_count": 13,
   "source": [
    "from lib.link_prediction_models.RandomForestOnFeatures import RandomForestOnFeatures\n",
    "\n",
    "model = RandomForestOnFeatures(X_train=link_prediction_train[feature_names], Y_train=link_prediction_train['goal'], random_state=seed)\n",
    "\n",
    "prob = model.predict_proba(link_prediction_test[feature_names])\n",
    "prob = pd.Series(prob, name='prob')\n",
    "\n",
    "link_proba = link_prediction_train.join(prob)\n",
    "link_proba.head(5)"
   ],
   "outputs": [
    {
     "output_type": "execute_result",
     "data": {
      "text/plain": [
       "   node1  node2  goal  RAI   JC  AAI        PA      prob\n",
       "0   2822   4365     0  0.0  0.0  0.0  0.015789  0.338851\n",
       "1   1182   4972     0  0.0  0.0  0.0  0.003947  0.340816\n",
       "2   2791   4261     0  0.0  0.0  0.0  0.030263  0.228268\n",
       "3   1112   4778     0  0.0  0.0  0.0  0.064474  0.415430\n",
       "4    846   3775     0  0.0  0.0  0.0  0.003947  0.158831"
      ],
      "text/html": [
       "<div>\n",
       "<style scoped>\n",
       "    .dataframe tbody tr th:only-of-type {\n",
       "        vertical-align: middle;\n",
       "    }\n",
       "\n",
       "    .dataframe tbody tr th {\n",
       "        vertical-align: top;\n",
       "    }\n",
       "\n",
       "    .dataframe thead th {\n",
       "        text-align: right;\n",
       "    }\n",
       "</style>\n",
       "<table border=\"1\" class=\"dataframe\">\n",
       "  <thead>\n",
       "    <tr style=\"text-align: right;\">\n",
       "      <th></th>\n",
       "      <th>node1</th>\n",
       "      <th>node2</th>\n",
       "      <th>goal</th>\n",
       "      <th>RAI</th>\n",
       "      <th>JC</th>\n",
       "      <th>AAI</th>\n",
       "      <th>PA</th>\n",
       "      <th>prob</th>\n",
       "    </tr>\n",
       "  </thead>\n",
       "  <tbody>\n",
       "    <tr>\n",
       "      <th>0</th>\n",
       "      <td>2822</td>\n",
       "      <td>4365</td>\n",
       "      <td>0</td>\n",
       "      <td>0.0</td>\n",
       "      <td>0.0</td>\n",
       "      <td>0.0</td>\n",
       "      <td>0.015789</td>\n",
       "      <td>0.338851</td>\n",
       "    </tr>\n",
       "    <tr>\n",
       "      <th>1</th>\n",
       "      <td>1182</td>\n",
       "      <td>4972</td>\n",
       "      <td>0</td>\n",
       "      <td>0.0</td>\n",
       "      <td>0.0</td>\n",
       "      <td>0.0</td>\n",
       "      <td>0.003947</td>\n",
       "      <td>0.340816</td>\n",
       "    </tr>\n",
       "    <tr>\n",
       "      <th>2</th>\n",
       "      <td>2791</td>\n",
       "      <td>4261</td>\n",
       "      <td>0</td>\n",
       "      <td>0.0</td>\n",
       "      <td>0.0</td>\n",
       "      <td>0.0</td>\n",
       "      <td>0.030263</td>\n",
       "      <td>0.228268</td>\n",
       "    </tr>\n",
       "    <tr>\n",
       "      <th>3</th>\n",
       "      <td>1112</td>\n",
       "      <td>4778</td>\n",
       "      <td>0</td>\n",
       "      <td>0.0</td>\n",
       "      <td>0.0</td>\n",
       "      <td>0.0</td>\n",
       "      <td>0.064474</td>\n",
       "      <td>0.415430</td>\n",
       "    </tr>\n",
       "    <tr>\n",
       "      <th>4</th>\n",
       "      <td>846</td>\n",
       "      <td>3775</td>\n",
       "      <td>0</td>\n",
       "      <td>0.0</td>\n",
       "      <td>0.0</td>\n",
       "      <td>0.0</td>\n",
       "      <td>0.003947</td>\n",
       "      <td>0.158831</td>\n",
       "    </tr>\n",
       "  </tbody>\n",
       "</table>\n",
       "</div>"
      ]
     },
     "metadata": {},
     "execution_count": 13
    }
   ],
   "metadata": {}
  },
  {
   "cell_type": "code",
   "execution_count": 14,
   "source": [
    "print(f'Accuracy score on {len(link_prediction_test)} test samples:')\n",
    "print(model.accuracy_score(link_prediction_test[feature_names], link_prediction_test['goal']))"
   ],
   "outputs": [
    {
     "output_type": "stream",
     "name": "stdout",
     "text": [
      "Accuracy score on 3356 test samples:\n",
      "0.6758045292014303\n"
     ]
    }
   ],
   "metadata": {}
  },
  {
   "cell_type": "markdown",
   "source": [
    "# Step 4\n",
    "## Quality class analisys"
   ],
   "metadata": {}
  },
  {
   "cell_type": "code",
   "execution_count": 15,
   "source": [
    "from bisect import bisect\n",
    "\n",
    "def quality_class_label(error): \n",
    "    return bisect(quality_class_intervals, error) - 1"
   ],
   "outputs": [],
   "metadata": {}
  },
  {
   "cell_type": "code",
   "execution_count": 16,
   "source": [
    "# absolute eroor of prediction\n",
    "link_proba['abs_error'] = link_proba.apply(lambda row: math.fabs(row['goal']-row['prob']), axis=1)\n",
    "link_proba['quality_label'] = link_proba.apply(lambda row: quality_class_label(row['abs_error']), axis=1)\n",
    "link_proba['quality_name'] = link_proba.apply(lambda row: quality_class_names[quality_class_label(row['abs_error'])], axis=1)\n",
    "link_proba.head(5)"
   ],
   "outputs": [
    {
     "output_type": "execute_result",
     "data": {
      "text/plain": [
       "   node1  node2  goal  RAI   JC  AAI        PA      prob  abs_error  \\\n",
       "0   2822   4365     0  0.0  0.0  0.0  0.015789  0.338851   0.338851   \n",
       "1   1182   4972     0  0.0  0.0  0.0  0.003947  0.340816   0.340816   \n",
       "2   2791   4261     0  0.0  0.0  0.0  0.030263  0.228268   0.228268   \n",
       "3   1112   4778     0  0.0  0.0  0.0  0.064474  0.415430   0.415430   \n",
       "4    846   3775     0  0.0  0.0  0.0  0.003947  0.158831   0.158831   \n",
       "\n",
       "   quality_label quality_name  \n",
       "0              1         good  \n",
       "1              1         good  \n",
       "2              0      exelent  \n",
       "3              1         good  \n",
       "4              0      exelent  "
      ],
      "text/html": [
       "<div>\n",
       "<style scoped>\n",
       "    .dataframe tbody tr th:only-of-type {\n",
       "        vertical-align: middle;\n",
       "    }\n",
       "\n",
       "    .dataframe tbody tr th {\n",
       "        vertical-align: top;\n",
       "    }\n",
       "\n",
       "    .dataframe thead th {\n",
       "        text-align: right;\n",
       "    }\n",
       "</style>\n",
       "<table border=\"1\" class=\"dataframe\">\n",
       "  <thead>\n",
       "    <tr style=\"text-align: right;\">\n",
       "      <th></th>\n",
       "      <th>node1</th>\n",
       "      <th>node2</th>\n",
       "      <th>goal</th>\n",
       "      <th>RAI</th>\n",
       "      <th>JC</th>\n",
       "      <th>AAI</th>\n",
       "      <th>PA</th>\n",
       "      <th>prob</th>\n",
       "      <th>abs_error</th>\n",
       "      <th>quality_label</th>\n",
       "      <th>quality_name</th>\n",
       "    </tr>\n",
       "  </thead>\n",
       "  <tbody>\n",
       "    <tr>\n",
       "      <th>0</th>\n",
       "      <td>2822</td>\n",
       "      <td>4365</td>\n",
       "      <td>0</td>\n",
       "      <td>0.0</td>\n",
       "      <td>0.0</td>\n",
       "      <td>0.0</td>\n",
       "      <td>0.015789</td>\n",
       "      <td>0.338851</td>\n",
       "      <td>0.338851</td>\n",
       "      <td>1</td>\n",
       "      <td>good</td>\n",
       "    </tr>\n",
       "    <tr>\n",
       "      <th>1</th>\n",
       "      <td>1182</td>\n",
       "      <td>4972</td>\n",
       "      <td>0</td>\n",
       "      <td>0.0</td>\n",
       "      <td>0.0</td>\n",
       "      <td>0.0</td>\n",
       "      <td>0.003947</td>\n",
       "      <td>0.340816</td>\n",
       "      <td>0.340816</td>\n",
       "      <td>1</td>\n",
       "      <td>good</td>\n",
       "    </tr>\n",
       "    <tr>\n",
       "      <th>2</th>\n",
       "      <td>2791</td>\n",
       "      <td>4261</td>\n",
       "      <td>0</td>\n",
       "      <td>0.0</td>\n",
       "      <td>0.0</td>\n",
       "      <td>0.0</td>\n",
       "      <td>0.030263</td>\n",
       "      <td>0.228268</td>\n",
       "      <td>0.228268</td>\n",
       "      <td>0</td>\n",
       "      <td>exelent</td>\n",
       "    </tr>\n",
       "    <tr>\n",
       "      <th>3</th>\n",
       "      <td>1112</td>\n",
       "      <td>4778</td>\n",
       "      <td>0</td>\n",
       "      <td>0.0</td>\n",
       "      <td>0.0</td>\n",
       "      <td>0.0</td>\n",
       "      <td>0.064474</td>\n",
       "      <td>0.415430</td>\n",
       "      <td>0.415430</td>\n",
       "      <td>1</td>\n",
       "      <td>good</td>\n",
       "    </tr>\n",
       "    <tr>\n",
       "      <th>4</th>\n",
       "      <td>846</td>\n",
       "      <td>3775</td>\n",
       "      <td>0</td>\n",
       "      <td>0.0</td>\n",
       "      <td>0.0</td>\n",
       "      <td>0.0</td>\n",
       "      <td>0.003947</td>\n",
       "      <td>0.158831</td>\n",
       "      <td>0.158831</td>\n",
       "      <td>0</td>\n",
       "      <td>exelent</td>\n",
       "    </tr>\n",
       "  </tbody>\n",
       "</table>\n",
       "</div>"
      ]
     },
     "metadata": {},
     "execution_count": 16
    }
   ],
   "metadata": {}
  },
  {
   "cell_type": "code",
   "execution_count": 17,
   "source": [
    "# statistics on error\n",
    "link_proba['abs_error'].describe()"
   ],
   "outputs": [
    {
     "output_type": "execute_result",
     "data": {
      "text/plain": [
       "count    3356.000000\n",
       "mean        0.384621\n",
       "std         0.225311\n",
       "min         0.000000\n",
       "25%         0.228268\n",
       "50%         0.376430\n",
       "75%         0.580236\n",
       "max         1.000000\n",
       "Name: abs_error, dtype: float64"
      ]
     },
     "metadata": {},
     "execution_count": 17
    }
   ],
   "metadata": {}
  },
  {
   "cell_type": "code",
   "execution_count": 18,
   "source": [
    "# plot error distribution\n",
    "fig, ax = plt.subplots()\n",
    "\n",
    "pd.cut(link_proba['abs_error'], bins=quality_class_intervals, include_lowest=True).value_counts(sort=False).plot.bar(rot=0, color='steelblue', ax=ax)\n",
    "ax.set_title(\"Absolute error distribution (the lower the better)\")\n",
    "ax.set_ylabel(\"Number of node pairs\")"
   ],
   "outputs": [
    {
     "output_type": "execute_result",
     "data": {
      "text/plain": [
       "Text(0, 0.5, 'Number of node pairs')"
      ]
     },
     "metadata": {},
     "execution_count": 18
    },
    {
     "output_type": "display_data",
     "data": {
      "text/plain": [
       "<Figure size 1200x700 with 1 Axes>"
      ],
      "image/png": "[encoded data removed]"
     },
     "metadata": {
      "needs_background": "light"
     }
    }
   ],
   "metadata": {}
  },
  {
   "cell_type": "markdown",
   "source": [
    "# Step 5\n",
    "## Quality class prediction"
   ],
   "metadata": {}
  },
  {
   "cell_type": "code",
   "execution_count": 19,
   "source": [
    "# train for quality class prediction\n",
    "from sklearn.linear_model import LogisticRegression\n",
    "from sklearn.ensemble import GradientBoostingClassifier\n",
    "from sklearn.tree import DecisionTreeClassifier\n",
    "\n",
    "#clf = LogisticRegression(random_state=seed)  #clf = LogisticRegression(random_state=seed, class_weight='balanced')\n",
    "#clf = clf = DecisionTreeClassifier(random_state=seed)\n",
    "clf = GradientBoostingClassifier(n_estimators=100, learning_rate=1.0, max_depth=2, random_state=seed)\n",
    "\n",
    "clf.fit(link_proba[feature_names], link_proba['quality_label'])"
   ],
   "outputs": [
    {
     "output_type": "execute_result",
     "data": {
      "text/plain": [
       "GradientBoostingClassifier(learning_rate=1.0, max_depth=2, random_state=931)"
      ]
     },
     "metadata": {},
     "execution_count": 19
    }
   ],
   "metadata": {}
  },
  {
   "cell_type": "code",
   "execution_count": 20,
   "source": [
    "# testing the classifier\n",
    "\n",
    "pred = clf.predict(classifier_test[feature_names])\n",
    "pred = pd.Series(pred, name='predicted_quality_label')\n",
    "\n",
    "proba = clf.predict_proba(classifier_test[feature_names])[:, 1]\n",
    "proba = pd.Series(proba, name='prob')\n",
    "\n",
    "classifier_test = classifier_test.join(proba)\n",
    "classifier_test = classifier_test.join(pred)\n",
    "\n",
    "classifier_test['true_abs_error'] = classifier_test.apply(lambda row: math.fabs(row['goal']-row['prob']), axis=1)\n",
    "classifier_test['true_quality_label'] = classifier_test.apply(lambda row: quality_class_label(row['true_abs_error']), axis=1)\n",
    "classifier_test.head(5)"
   ],
   "outputs": [
    {
     "output_type": "execute_result",
     "data": {
      "text/plain": [
       "   node1  node2  goal  RAI   JC  AAI        PA      prob  \\\n",
       "0   4286   4772     0  0.0  0.0  0.0  0.018421  0.395049   \n",
       "1   2065   2254     0  0.0  0.0  0.0  0.015789  0.508524   \n",
       "2   1408   3413     0  0.0  0.0  0.0  0.005921  0.456372   \n",
       "3   1385   4824     0  0.0  0.0  0.0  0.015789  0.508524   \n",
       "4   1099   3212     0  0.0  0.0  0.0  0.003947  0.587418   \n",
       "\n",
       "   predicted_quality_label  true_abs_error  true_quality_label  \n",
       "0                        1        0.395049                   1  \n",
       "1                        1        0.508524                   2  \n",
       "2                        1        0.456372                   1  \n",
       "3                        1        0.508524                   2  \n",
       "4                        1        0.587418                   2  "
      ],
      "text/html": [
       "<div>\n",
       "<style scoped>\n",
       "    .dataframe tbody tr th:only-of-type {\n",
       "        vertical-align: middle;\n",
       "    }\n",
       "\n",
       "    .dataframe tbody tr th {\n",
       "        vertical-align: top;\n",
       "    }\n",
       "\n",
       "    .dataframe thead th {\n",
       "        text-align: right;\n",
       "    }\n",
       "</style>\n",
       "<table border=\"1\" class=\"dataframe\">\n",
       "  <thead>\n",
       "    <tr style=\"text-align: right;\">\n",
       "      <th></th>\n",
       "      <th>node1</th>\n",
       "      <th>node2</th>\n",
       "      <th>goal</th>\n",
       "      <th>RAI</th>\n",
       "      <th>JC</th>\n",
       "      <th>AAI</th>\n",
       "      <th>PA</th>\n",
       "      <th>prob</th>\n",
       "      <th>predicted_quality_label</th>\n",
       "      <th>true_abs_error</th>\n",
       "      <th>true_quality_label</th>\n",
       "    </tr>\n",
       "  </thead>\n",
       "  <tbody>\n",
       "    <tr>\n",
       "      <th>0</th>\n",
       "      <td>4286</td>\n",
       "      <td>4772</td>\n",
       "      <td>0</td>\n",
       "      <td>0.0</td>\n",
       "      <td>0.0</td>\n",
       "      <td>0.0</td>\n",
       "      <td>0.018421</td>\n",
       "      <td>0.395049</td>\n",
       "      <td>1</td>\n",
       "      <td>0.395049</td>\n",
       "      <td>1</td>\n",
       "    </tr>\n",
       "    <tr>\n",
       "      <th>1</th>\n",
       "      <td>2065</td>\n",
       "      <td>2254</td>\n",
       "      <td>0</td>\n",
       "      <td>0.0</td>\n",
       "      <td>0.0</td>\n",
       "      <td>0.0</td>\n",
       "      <td>0.015789</td>\n",
       "      <td>0.508524</td>\n",
       "      <td>1</td>\n",
       "      <td>0.508524</td>\n",
       "      <td>2</td>\n",
       "    </tr>\n",
       "    <tr>\n",
       "      <th>2</th>\n",
       "      <td>1408</td>\n",
       "      <td>3413</td>\n",
       "      <td>0</td>\n",
       "      <td>0.0</td>\n",
       "      <td>0.0</td>\n",
       "      <td>0.0</td>\n",
       "      <td>0.005921</td>\n",
       "      <td>0.456372</td>\n",
       "      <td>1</td>\n",
       "      <td>0.456372</td>\n",
       "      <td>1</td>\n",
       "    </tr>\n",
       "    <tr>\n",
       "      <th>3</th>\n",
       "      <td>1385</td>\n",
       "      <td>4824</td>\n",
       "      <td>0</td>\n",
       "      <td>0.0</td>\n",
       "      <td>0.0</td>\n",
       "      <td>0.0</td>\n",
       "      <td>0.015789</td>\n",
       "      <td>0.508524</td>\n",
       "      <td>1</td>\n",
       "      <td>0.508524</td>\n",
       "      <td>2</td>\n",
       "    </tr>\n",
       "    <tr>\n",
       "      <th>4</th>\n",
       "      <td>1099</td>\n",
       "      <td>3212</td>\n",
       "      <td>0</td>\n",
       "      <td>0.0</td>\n",
       "      <td>0.0</td>\n",
       "      <td>0.0</td>\n",
       "      <td>0.003947</td>\n",
       "      <td>0.587418</td>\n",
       "      <td>1</td>\n",
       "      <td>0.587418</td>\n",
       "      <td>2</td>\n",
       "    </tr>\n",
       "  </tbody>\n",
       "</table>\n",
       "</div>"
      ]
     },
     "metadata": {},
     "execution_count": 20
    }
   ],
   "metadata": {}
  },
  {
   "cell_type": "code",
   "execution_count": 21,
   "source": [
    "classifier_test[['true_quality_label']].value_counts()"
   ],
   "outputs": [
    {
     "output_type": "execute_result",
     "data": {
      "text/plain": [
       "true_quality_label\n",
       "2                     1426\n",
       "1                     1388\n",
       "3                      489\n",
       "0                       53\n",
       "dtype: int64"
      ]
     },
     "metadata": {},
     "execution_count": 21
    }
   ],
   "metadata": {}
  },
  {
   "cell_type": "code",
   "execution_count": 22,
   "source": [
    "classifier_test[['predicted_quality_label']].value_counts()"
   ],
   "outputs": [
    {
     "output_type": "execute_result",
     "data": {
      "text/plain": [
       "predicted_quality_label\n",
       "1                          2547\n",
       "2                           520\n",
       "0                           254\n",
       "3                            35\n",
       "dtype: int64"
      ]
     },
     "metadata": {},
     "execution_count": 22
    }
   ],
   "metadata": {}
  },
  {
   "cell_type": "code",
   "execution_count": 23,
   "source": [
    "from sklearn import metrics\n",
    "\n",
    "y_true, y_pred = classifier_test['true_quality_label'], classifier_test['predicted_quality_label']\n",
    "\n",
    "scores_df = pd.DataFrame()\n",
    "scores_df['Metric'] = pd.Series(['Sample length', 'Accuracy', 'Precision', 'Recall', 'F1 score'])\n",
    "scores_df['Score'] = pd.Series([\n",
    "    len(classifier_test),\n",
    "    clf.score(classifier_test[feature_names], classifier_test['true_quality_label']),\n",
    "    metrics.precision_score(y_true, y_pred, average='macro'),\n",
    "    metrics.recall_score(y_true, y_pred, average='micro'),\n",
    "    metrics.f1_score(y_true, y_pred, average='weighted')\n",
    "])\n",
    "\n",
    "scores_df"
   ],
   "outputs": [
    {
     "output_type": "execute_result",
     "data": {
      "text/plain": [
       "          Metric        Score\n",
       "0  Sample length  3356.000000\n",
       "1       Accuracy     0.436234\n",
       "2      Precision     0.445766\n",
       "3         Recall     0.436234\n",
       "4       F1 score     0.349584"
      ],
      "text/html": [
       "<div>\n",
       "<style scoped>\n",
       "    .dataframe tbody tr th:only-of-type {\n",
       "        vertical-align: middle;\n",
       "    }\n",
       "\n",
       "    .dataframe tbody tr th {\n",
       "        vertical-align: top;\n",
       "    }\n",
       "\n",
       "    .dataframe thead th {\n",
       "        text-align: right;\n",
       "    }\n",
       "</style>\n",
       "<table border=\"1\" class=\"dataframe\">\n",
       "  <thead>\n",
       "    <tr style=\"text-align: right;\">\n",
       "      <th></th>\n",
       "      <th>Metric</th>\n",
       "      <th>Score</th>\n",
       "    </tr>\n",
       "  </thead>\n",
       "  <tbody>\n",
       "    <tr>\n",
       "      <th>0</th>\n",
       "      <td>Sample length</td>\n",
       "      <td>3356.000000</td>\n",
       "    </tr>\n",
       "    <tr>\n",
       "      <th>1</th>\n",
       "      <td>Accuracy</td>\n",
       "      <td>0.436234</td>\n",
       "    </tr>\n",
       "    <tr>\n",
       "      <th>2</th>\n",
       "      <td>Precision</td>\n",
       "      <td>0.445766</td>\n",
       "    </tr>\n",
       "    <tr>\n",
       "      <th>3</th>\n",
       "      <td>Recall</td>\n",
       "      <td>0.436234</td>\n",
       "    </tr>\n",
       "    <tr>\n",
       "      <th>4</th>\n",
       "      <td>F1 score</td>\n",
       "      <td>0.349584</td>\n",
       "    </tr>\n",
       "  </tbody>\n",
       "</table>\n",
       "</div>"
      ]
     },
     "metadata": {},
     "execution_count": 23
    }
   ],
   "metadata": {}
  },
  {
   "cell_type": "code",
   "execution_count": 24,
   "source": [
    "metrics.plot_confusion_matrix(clf, classifier_test[feature_names], classifier_test['true_quality_label'])"
   ],
   "outputs": [
    {
     "output_type": "execute_result",
     "data": {
      "text/plain": [
       "<sklearn.metrics._plot.confusion_matrix.ConfusionMatrixDisplay at 0x7fd508a3ca00>"
      ]
     },
     "metadata": {},
     "execution_count": 24
    },
    {
     "output_type": "display_data",
     "data": {
      "text/plain": [
       "<Figure size 1200x700 with 2 Axes>"
      ],
      "image/png": "[encoded data removed]"
     },
     "metadata": {
      "needs_background": "light"
     }
    }
   ],
   "metadata": {}
  }
 ]
}