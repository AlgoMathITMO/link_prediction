{
 "metadata": {
  "language_info": {
   "codemirror_mode": {
    "name": "ipython",
    "version": 3
   },
   "file_extension": ".py",
   "mimetype": "text/x-python",
   "name": "python",
   "nbconvert_exporter": "python",
   "pygments_lexer": "ipython3",
   "version": "3.8.5"
  },
  "orig_nbformat": 4,
  "kernelspec": {
   "name": "python3",
   "display_name": "Python 3.8.5 64-bit ('base': conda)"
  },
  "interpreter": {
   "hash": "2569654758497ea0148171e06cb07ecd9ac26e5685a9906bf4fb435b79c473d4"
  }
 },
 "nbformat": 4,
 "nbformat_minor": 2,
 "cells": [
  {
   "cell_type": "code",
   "execution_count": 1,
   "source": [
    "import networkx as nx\n",
    "import pandas as pd\n",
    "import seaborn as sn\n",
    "import matplotlib.pyplot as plt\n",
    "import random\n",
    "import numpy as np\n",
    "import math\n",
    "from bisect import bisect"
   ],
   "outputs": [],
   "metadata": {}
  },
  {
   "cell_type": "code",
   "execution_count": 2,
   "source": [
    "import matplotlib as mpl\n",
    "\n",
    "mpl.rcParams['figure.figsize'] = [12.0, 7.0]\n",
    "mpl.rcParams['figure.dpi'] = 100"
   ],
   "outputs": [],
   "metadata": {}
  },
  {
   "cell_type": "code",
   "execution_count": 3,
   "source": [
    "from utils.data_spit import data_split\n",
    "\n",
    "from generators.LFR import LFR\n",
    "from generators.OLP import OLP"
   ],
   "outputs": [],
   "metadata": {}
  },
  {
   "cell_type": "code",
   "execution_count": 4,
   "source": [
    "# hyperparameters\n",
    "\n",
    "seed = random.randint(1, 1000)                              # random seed\n",
    "\n",
    "# CLASSIFIER PARAMETERS\n",
    "quality_class_intervals = [0, 0.25, 0.50, 0.75, 1.001]      # quality class intervals\n",
    "quality_class_labels = [0, 1, 2, 3]                         # quality class labels\n",
    "quality_class_names = ['exelent', 'good', 'ok', 'poor']     # quality classes names"
   ],
   "outputs": [],
   "metadata": {}
  },
  {
   "cell_type": "markdown",
   "source": [
    "# Step 1\n",
    "## Graph and features generation\n",
    "\n",
    "Generate/import graph and features based on avalible `generator` classes"
   ],
   "metadata": {}
  },
  {
   "cell_type": "code",
   "execution_count": 5,
   "source": [
    "generator = LFR(n=2500, t1=3, t2=1.5, m=0.1, seed=seed)\n",
    "#generator = OLP(network_index=0)\n",
    "\n",
    "ground_truth_df = generator.get_df()\n",
    "\n",
    "features_df = generator.get_features_df()\n",
    "feature_names = generator.feature_names\n",
    "\n",
    "feature_names"
   ],
   "outputs": [
    {
     "output_type": "execute_result",
     "data": {
      "text/plain": [
       "['RAI', 'JC', 'AAI', 'PA']"
      ]
     },
     "metadata": {},
     "execution_count": 5
    }
   ],
   "metadata": {}
  },
  {
   "cell_type": "code",
   "execution_count": 6,
   "source": [
    "ground_truth_df['goal'].value_counts()"
   ],
   "outputs": [
    {
     "output_type": "execute_result",
     "data": {
      "text/plain": [
       "1    2482\n",
       "0    2482\n",
       "Name: goal, dtype: int64"
      ]
     },
     "metadata": {},
     "execution_count": 6
    }
   ],
   "metadata": {}
  },
  {
   "cell_type": "code",
   "execution_count": 7,
   "source": [
    "features_df.head(5)"
   ],
   "outputs": [
    {
     "output_type": "execute_result",
     "data": {
      "text/plain": [
       "         node1  node2  RAI   JC  AAI        PA\n",
       "3097380   2292   2384  0.0  0.0  0.0  0.034286\n",
       "2870681   1794   2084  0.0  0.0  0.0  0.085714\n",
       "101756      41    356  0.0  0.0  0.0  0.011429\n",
       "2737395   1625   1947  0.0  0.0  0.0  0.013333\n",
       "199820      81   1050  0.0  0.0  0.0  0.009524"
      ],
      "text/html": [
       "<div>\n",
       "<style scoped>\n",
       "    .dataframe tbody tr th:only-of-type {\n",
       "        vertical-align: middle;\n",
       "    }\n",
       "\n",
       "    .dataframe tbody tr th {\n",
       "        vertical-align: top;\n",
       "    }\n",
       "\n",
       "    .dataframe thead th {\n",
       "        text-align: right;\n",
       "    }\n",
       "</style>\n",
       "<table border=\"1\" class=\"dataframe\">\n",
       "  <thead>\n",
       "    <tr style=\"text-align: right;\">\n",
       "      <th></th>\n",
       "      <th>node1</th>\n",
       "      <th>node2</th>\n",
       "      <th>RAI</th>\n",
       "      <th>JC</th>\n",
       "      <th>AAI</th>\n",
       "      <th>PA</th>\n",
       "    </tr>\n",
       "  </thead>\n",
       "  <tbody>\n",
       "    <tr>\n",
       "      <th>3097380</th>\n",
       "      <td>2292</td>\n",
       "      <td>2384</td>\n",
       "      <td>0.0</td>\n",
       "      <td>0.0</td>\n",
       "      <td>0.0</td>\n",
       "      <td>0.034286</td>\n",
       "    </tr>\n",
       "    <tr>\n",
       "      <th>2870681</th>\n",
       "      <td>1794</td>\n",
       "      <td>2084</td>\n",
       "      <td>0.0</td>\n",
       "      <td>0.0</td>\n",
       "      <td>0.0</td>\n",
       "      <td>0.085714</td>\n",
       "    </tr>\n",
       "    <tr>\n",
       "      <th>101756</th>\n",
       "      <td>41</td>\n",
       "      <td>356</td>\n",
       "      <td>0.0</td>\n",
       "      <td>0.0</td>\n",
       "      <td>0.0</td>\n",
       "      <td>0.011429</td>\n",
       "    </tr>\n",
       "    <tr>\n",
       "      <th>2737395</th>\n",
       "      <td>1625</td>\n",
       "      <td>1947</td>\n",
       "      <td>0.0</td>\n",
       "      <td>0.0</td>\n",
       "      <td>0.0</td>\n",
       "      <td>0.013333</td>\n",
       "    </tr>\n",
       "    <tr>\n",
       "      <th>199820</th>\n",
       "      <td>81</td>\n",
       "      <td>1050</td>\n",
       "      <td>0.0</td>\n",
       "      <td>0.0</td>\n",
       "      <td>0.0</td>\n",
       "      <td>0.009524</td>\n",
       "    </tr>\n",
       "  </tbody>\n",
       "</table>\n",
       "</div>"
      ]
     },
     "metadata": {},
     "execution_count": 7
    }
   ],
   "metadata": {}
  },
  {
   "cell_type": "code",
   "execution_count": 8,
   "source": [
    "corrMatrix = features_df[['RAI', 'JC', 'AAI', 'PA']].corr()\n",
    "sn.heatmap(corrMatrix, annot=True)\n",
    "plt.show()"
   ],
   "outputs": [
    {
     "output_type": "display_data",
     "data": {
      "text/plain": [
       "<Figure size 1200x700 with 2 Axes>"
      ],
      "image/png": "[encoded data removed]"
     },
     "metadata": {
      "needs_background": "light"
     }
    }
   ],
   "metadata": {}
  },
  {
   "cell_type": "markdown",
   "source": [
    "# Step 2\n",
    "## Splitting the data"
   ],
   "metadata": {}
  },
  {
   "cell_type": "markdown",
   "source": [
    "We split the data in the following way:\n",
    "* 1/3 is used to train a link prediction model\n",
    "* 1/3 is used to test the link prediction model. Here we also calculate the error and use this data to train quality classifier\n",
    "* 1/3 is used to evaluate the clasifier"
   ],
   "metadata": {}
  },
  {
   "cell_type": "code",
   "execution_count": 9,
   "source": [
    "link_prediction_train, link_prediction_test, classifier_test = data_split(ground_truth_df, features_df)"
   ],
   "outputs": [],
   "metadata": {}
  },
  {
   "cell_type": "code",
   "execution_count": 10,
   "source": [
    "link_prediction_train['goal'].value_counts()"
   ],
   "outputs": [
    {
     "output_type": "execute_result",
     "data": {
      "text/plain": [
       "1    826\n",
       "0    826\n",
       "Name: goal, dtype: int64"
      ]
     },
     "metadata": {},
     "execution_count": 10
    }
   ],
   "metadata": {}
  },
  {
   "cell_type": "code",
   "execution_count": 11,
   "source": [
    "link_prediction_test['goal'].value_counts()"
   ],
   "outputs": [
    {
     "output_type": "execute_result",
     "data": {
      "text/plain": [
       "1    826\n",
       "0    826\n",
       "Name: goal, dtype: int64"
      ]
     },
     "metadata": {},
     "execution_count": 11
    }
   ],
   "metadata": {}
  },
  {
   "cell_type": "code",
   "execution_count": 12,
   "source": [
    "classifier_test['goal'].value_counts()"
   ],
   "outputs": [
    {
     "output_type": "execute_result",
     "data": {
      "text/plain": [
       "1    826\n",
       "0    826\n",
       "Name: goal, dtype: int64"
      ]
     },
     "metadata": {},
     "execution_count": 12
    }
   ],
   "metadata": {}
  },
  {
   "cell_type": "markdown",
   "source": [
    "# Step 3\n",
    "## Link prediction model"
   ],
   "metadata": {}
  },
  {
   "cell_type": "code",
   "execution_count": 13,
   "source": [
    "# LINK PREDICTION BASED ON THE TOPOLOGICAL FEATURES\n",
    "\n",
    "from sklearn.ensemble import RandomForestClassifier\n",
    "\n",
    "# random forest classification\n",
    "forest = RandomForestClassifier(random_state=seed)\n",
    "forest.fit(link_prediction_train[feature_names], link_prediction_train['goal'])\n",
    "\n",
    "# predicting edge existace on features\n",
    "prob = forest.predict_proba(link_prediction_test[feature_names])[:, 1]\n",
    "prob = pd.Series(prob, name='prob')\n",
    "\n",
    "link_proba = link_prediction_train.join(prob)\n",
    "link_proba.head(5)"
   ],
   "outputs": [
    {
     "output_type": "execute_result",
     "data": {
      "text/plain": [
       "   node1  node2  goal  RAI   JC  AAI        PA      prob\n",
       "0    922   1300     0  0.0  0.0  0.0  0.026667  0.379078\n",
       "1    296   2298     0  0.0  0.0  0.0  0.005714  0.459703\n",
       "2    266   2065     0  0.0  0.0  0.0  0.022857  0.379078\n",
       "3    443   1928     0  0.0  0.0  0.0  0.011429  0.240327\n",
       "4   1297   1864     0  0.0  0.0  0.0  0.011429  0.400510"
      ],
      "text/html": [
       "<div>\n",
       "<style scoped>\n",
       "    .dataframe tbody tr th:only-of-type {\n",
       "        vertical-align: middle;\n",
       "    }\n",
       "\n",
       "    .dataframe tbody tr th {\n",
       "        vertical-align: top;\n",
       "    }\n",
       "\n",
       "    .dataframe thead th {\n",
       "        text-align: right;\n",
       "    }\n",
       "</style>\n",
       "<table border=\"1\" class=\"dataframe\">\n",
       "  <thead>\n",
       "    <tr style=\"text-align: right;\">\n",
       "      <th></th>\n",
       "      <th>node1</th>\n",
       "      <th>node2</th>\n",
       "      <th>goal</th>\n",
       "      <th>RAI</th>\n",
       "      <th>JC</th>\n",
       "      <th>AAI</th>\n",
       "      <th>PA</th>\n",
       "      <th>prob</th>\n",
       "    </tr>\n",
       "  </thead>\n",
       "  <tbody>\n",
       "    <tr>\n",
       "      <th>0</th>\n",
       "      <td>922</td>\n",
       "      <td>1300</td>\n",
       "      <td>0</td>\n",
       "      <td>0.0</td>\n",
       "      <td>0.0</td>\n",
       "      <td>0.0</td>\n",
       "      <td>0.026667</td>\n",
       "      <td>0.379078</td>\n",
       "    </tr>\n",
       "    <tr>\n",
       "      <th>1</th>\n",
       "      <td>296</td>\n",
       "      <td>2298</td>\n",
       "      <td>0</td>\n",
       "      <td>0.0</td>\n",
       "      <td>0.0</td>\n",
       "      <td>0.0</td>\n",
       "      <td>0.005714</td>\n",
       "      <td>0.459703</td>\n",
       "    </tr>\n",
       "    <tr>\n",
       "      <th>2</th>\n",
       "      <td>266</td>\n",
       "      <td>2065</td>\n",
       "      <td>0</td>\n",
       "      <td>0.0</td>\n",
       "      <td>0.0</td>\n",
       "      <td>0.0</td>\n",
       "      <td>0.022857</td>\n",
       "      <td>0.379078</td>\n",
       "    </tr>\n",
       "    <tr>\n",
       "      <th>3</th>\n",
       "      <td>443</td>\n",
       "      <td>1928</td>\n",
       "      <td>0</td>\n",
       "      <td>0.0</td>\n",
       "      <td>0.0</td>\n",
       "      <td>0.0</td>\n",
       "      <td>0.011429</td>\n",
       "      <td>0.240327</td>\n",
       "    </tr>\n",
       "    <tr>\n",
       "      <th>4</th>\n",
       "      <td>1297</td>\n",
       "      <td>1864</td>\n",
       "      <td>0</td>\n",
       "      <td>0.0</td>\n",
       "      <td>0.0</td>\n",
       "      <td>0.0</td>\n",
       "      <td>0.011429</td>\n",
       "      <td>0.400510</td>\n",
       "    </tr>\n",
       "  </tbody>\n",
       "</table>\n",
       "</div>"
      ]
     },
     "metadata": {},
     "execution_count": 13
    }
   ],
   "metadata": {}
  },
  {
   "cell_type": "code",
   "execution_count": 14,
   "source": [
    "print(f'Accuracy score on {len(link_prediction_test)} test samples:')\n",
    "print(forest.score(link_prediction_test[feature_names], link_prediction_test['goal']))"
   ],
   "outputs": [
    {
     "output_type": "stream",
     "name": "stdout",
     "text": [
      "Accuracy score on 1652 test samples:\n",
      "0.7021791767554479\n"
     ]
    }
   ],
   "metadata": {}
  },
  {
   "cell_type": "markdown",
   "source": [
    "# Step 4\n",
    "## Quality class analisys"
   ],
   "metadata": {}
  },
  {
   "cell_type": "code",
   "execution_count": 15,
   "source": [
    "from bisect import bisect\n",
    "\n",
    "def quality_class_label(error): \n",
    "    return bisect(quality_class_intervals, error) - 1"
   ],
   "outputs": [],
   "metadata": {}
  },
  {
   "cell_type": "code",
   "execution_count": 16,
   "source": [
    "# absolute eroor of prediction\n",
    "link_proba['abs_error'] = link_proba.apply(lambda row: math.fabs(row['goal']-row['prob']), axis=1)\n",
    "link_proba['quality_label'] = link_proba.apply(lambda row: quality_class_label(row['abs_error']), axis=1)\n",
    "link_proba['quality_name'] = link_proba.apply(lambda row: quality_class_names[quality_class_label(row['abs_error'])], axis=1)\n",
    "link_proba.head(5)"
   ],
   "outputs": [
    {
     "output_type": "execute_result",
     "data": {
      "text/plain": [
       "   node1  node2  goal  RAI   JC  AAI        PA      prob  abs_error  \\\n",
       "0    922   1300     0  0.0  0.0  0.0  0.026667  0.379078   0.379078   \n",
       "1    296   2298     0  0.0  0.0  0.0  0.005714  0.459703   0.459703   \n",
       "2    266   2065     0  0.0  0.0  0.0  0.022857  0.379078   0.379078   \n",
       "3    443   1928     0  0.0  0.0  0.0  0.011429  0.240327   0.240327   \n",
       "4   1297   1864     0  0.0  0.0  0.0  0.011429  0.400510   0.400510   \n",
       "\n",
       "   quality_label quality_name  \n",
       "0              1         good  \n",
       "1              1         good  \n",
       "2              1         good  \n",
       "3              0      exelent  \n",
       "4              1         good  "
      ],
      "text/html": [
       "<div>\n",
       "<style scoped>\n",
       "    .dataframe tbody tr th:only-of-type {\n",
       "        vertical-align: middle;\n",
       "    }\n",
       "\n",
       "    .dataframe tbody tr th {\n",
       "        vertical-align: top;\n",
       "    }\n",
       "\n",
       "    .dataframe thead th {\n",
       "        text-align: right;\n",
       "    }\n",
       "</style>\n",
       "<table border=\"1\" class=\"dataframe\">\n",
       "  <thead>\n",
       "    <tr style=\"text-align: right;\">\n",
       "      <th></th>\n",
       "      <th>node1</th>\n",
       "      <th>node2</th>\n",
       "      <th>goal</th>\n",
       "      <th>RAI</th>\n",
       "      <th>JC</th>\n",
       "      <th>AAI</th>\n",
       "      <th>PA</th>\n",
       "      <th>prob</th>\n",
       "      <th>abs_error</th>\n",
       "      <th>quality_label</th>\n",
       "      <th>quality_name</th>\n",
       "    </tr>\n",
       "  </thead>\n",
       "  <tbody>\n",
       "    <tr>\n",
       "      <th>0</th>\n",
       "      <td>922</td>\n",
       "      <td>1300</td>\n",
       "      <td>0</td>\n",
       "      <td>0.0</td>\n",
       "      <td>0.0</td>\n",
       "      <td>0.0</td>\n",
       "      <td>0.026667</td>\n",
       "      <td>0.379078</td>\n",
       "      <td>0.379078</td>\n",
       "      <td>1</td>\n",
       "      <td>good</td>\n",
       "    </tr>\n",
       "    <tr>\n",
       "      <th>1</th>\n",
       "      <td>296</td>\n",
       "      <td>2298</td>\n",
       "      <td>0</td>\n",
       "      <td>0.0</td>\n",
       "      <td>0.0</td>\n",
       "      <td>0.0</td>\n",
       "      <td>0.005714</td>\n",
       "      <td>0.459703</td>\n",
       "      <td>0.459703</td>\n",
       "      <td>1</td>\n",
       "      <td>good</td>\n",
       "    </tr>\n",
       "    <tr>\n",
       "      <th>2</th>\n",
       "      <td>266</td>\n",
       "      <td>2065</td>\n",
       "      <td>0</td>\n",
       "      <td>0.0</td>\n",
       "      <td>0.0</td>\n",
       "      <td>0.0</td>\n",
       "      <td>0.022857</td>\n",
       "      <td>0.379078</td>\n",
       "      <td>0.379078</td>\n",
       "      <td>1</td>\n",
       "      <td>good</td>\n",
       "    </tr>\n",
       "    <tr>\n",
       "      <th>3</th>\n",
       "      <td>443</td>\n",
       "      <td>1928</td>\n",
       "      <td>0</td>\n",
       "      <td>0.0</td>\n",
       "      <td>0.0</td>\n",
       "      <td>0.0</td>\n",
       "      <td>0.011429</td>\n",
       "      <td>0.240327</td>\n",
       "      <td>0.240327</td>\n",
       "      <td>0</td>\n",
       "      <td>exelent</td>\n",
       "    </tr>\n",
       "    <tr>\n",
       "      <th>4</th>\n",
       "      <td>1297</td>\n",
       "      <td>1864</td>\n",
       "      <td>0</td>\n",
       "      <td>0.0</td>\n",
       "      <td>0.0</td>\n",
       "      <td>0.0</td>\n",
       "      <td>0.011429</td>\n",
       "      <td>0.400510</td>\n",
       "      <td>0.400510</td>\n",
       "      <td>1</td>\n",
       "      <td>good</td>\n",
       "    </tr>\n",
       "  </tbody>\n",
       "</table>\n",
       "</div>"
      ]
     },
     "metadata": {},
     "execution_count": 16
    }
   ],
   "metadata": {}
  },
  {
   "cell_type": "code",
   "execution_count": 17,
   "source": [
    "# statistics on error\n",
    "link_proba['abs_error'].describe()"
   ],
   "outputs": [
    {
     "output_type": "execute_result",
     "data": {
      "text/plain": [
       "count    1652.000000\n",
       "mean        0.370905\n",
       "std         0.238129\n",
       "min         0.000000\n",
       "25%         0.240327\n",
       "50%         0.379078\n",
       "75%         0.554814\n",
       "max         1.000000\n",
       "Name: abs_error, dtype: float64"
      ]
     },
     "metadata": {},
     "execution_count": 17
    }
   ],
   "metadata": {}
  },
  {
   "cell_type": "code",
   "execution_count": 18,
   "source": [
    "# plot error distribution\n",
    "fig, ax = plt.subplots()\n",
    "\n",
    "pd.cut(link_proba['abs_error'], bins=quality_class_intervals, include_lowest=True).value_counts(sort=False).plot.bar(rot=0, color='steelblue', ax=ax)\n",
    "ax.set_title(\"Absolute error distribution (the lower the better)\")\n",
    "ax.set_ylabel(\"Number of node pairs\")"
   ],
   "outputs": [
    {
     "output_type": "execute_result",
     "data": {
      "text/plain": [
       "Text(0, 0.5, 'Number of node pairs')"
      ]
     },
     "metadata": {},
     "execution_count": 18
    },
    {
     "output_type": "display_data",
     "data": {
      "text/plain": [
       "<Figure size 1200x700 with 1 Axes>"
      ],
      "image/png": "[encoded data removed]"
     },
     "metadata": {
      "needs_background": "light"
     }
    }
   ],
   "metadata": {}
  },
  {
   "cell_type": "markdown",
   "source": [
    "# Step 5\n",
    "## Quality class prediction"
   ],
   "metadata": {}
  },
  {
   "cell_type": "code",
   "execution_count": 19,
   "source": [
    "# train for quality class prediction\n",
    "from sklearn.linear_model import LogisticRegression\n",
    "from sklearn.ensemble import GradientBoostingClassifier\n",
    "from sklearn.tree import DecisionTreeClassifier\n",
    "\n",
    "#clf = LogisticRegression(random_state=seed)  #clf = LogisticRegression(random_state=seed, class_weight='balanced')\n",
    "#clf = clf = DecisionTreeClassifier(random_state=seed)\n",
    "clf = GradientBoostingClassifier(n_estimators=100, learning_rate=1.0, max_depth=1, random_state=seed)\n",
    "\n",
    "clf.fit(link_proba[feature_names], link_proba['quality_label'])"
   ],
   "outputs": [
    {
     "output_type": "execute_result",
     "data": {
      "text/plain": [
       "DecisionTreeClassifier(random_state=288)"
      ]
     },
     "metadata": {},
     "execution_count": 19
    }
   ],
   "metadata": {}
  },
  {
   "cell_type": "code",
   "execution_count": 20,
   "source": [
    "# testing the classifier\n",
    "\n",
    "pred = clf.predict(classifier_test[feature_names])\n",
    "pred = pd.Series(pred, name='predicted_quality_label')\n",
    "\n",
    "proba = clf.predict_proba(classifier_test[feature_names])[:, 1]\n",
    "proba = pd.Series(proba, name='prob')\n",
    "\n",
    "classifier_test = classifier_test.join(proba)\n",
    "classifier_test = classifier_test.join(pred)\n",
    "\n",
    "classifier_test['true_abs_error'] = classifier_test.apply(lambda row: math.fabs(row['goal']-row['prob']), axis=1)\n",
    "classifier_test['true_quality_label'] = classifier_test.apply(lambda row: quality_class_label(row['true_abs_error']), axis=1)\n",
    "classifier_test.head(5)"
   ],
   "outputs": [
    {
     "output_type": "execute_result",
     "data": {
      "text/plain": [
       "   node1  node2  goal  RAI   JC  AAI        PA      prob  \\\n",
       "0   1218   2335     0  0.0  0.0  0.0  0.017143  0.370370   \n",
       "1   1234   2390     0  0.0  0.0  0.0  0.022857  0.310345   \n",
       "2    451   1429     0  0.0  0.0  0.0  0.017143  0.370370   \n",
       "3    190   2319     0  0.0  0.0  0.0  0.017143  0.370370   \n",
       "4    995   1262     0  0.0  0.0  0.0  0.008571  0.488636   \n",
       "\n",
       "   predicted_quality_label  true_abs_error  true_quality_label  \n",
       "0                        1        0.370370                   1  \n",
       "1                        2        0.310345                   1  \n",
       "2                        1        0.370370                   1  \n",
       "3                        1        0.370370                   1  \n",
       "4                        1        0.488636                   1  "
      ],
      "text/html": [
       "<div>\n",
       "<style scoped>\n",
       "    .dataframe tbody tr th:only-of-type {\n",
       "        vertical-align: middle;\n",
       "    }\n",
       "\n",
       "    .dataframe tbody tr th {\n",
       "        vertical-align: top;\n",
       "    }\n",
       "\n",
       "    .dataframe thead th {\n",
       "        text-align: right;\n",
       "    }\n",
       "</style>\n",
       "<table border=\"1\" class=\"dataframe\">\n",
       "  <thead>\n",
       "    <tr style=\"text-align: right;\">\n",
       "      <th></th>\n",
       "      <th>node1</th>\n",
       "      <th>node2</th>\n",
       "      <th>goal</th>\n",
       "      <th>RAI</th>\n",
       "      <th>JC</th>\n",
       "      <th>AAI</th>\n",
       "      <th>PA</th>\n",
       "      <th>prob</th>\n",
       "      <th>predicted_quality_label</th>\n",
       "      <th>true_abs_error</th>\n",
       "      <th>true_quality_label</th>\n",
       "    </tr>\n",
       "  </thead>\n",
       "  <tbody>\n",
       "    <tr>\n",
       "      <th>0</th>\n",
       "      <td>1218</td>\n",
       "      <td>2335</td>\n",
       "      <td>0</td>\n",
       "      <td>0.0</td>\n",
       "      <td>0.0</td>\n",
       "      <td>0.0</td>\n",
       "      <td>0.017143</td>\n",
       "      <td>0.370370</td>\n",
       "      <td>1</td>\n",
       "      <td>0.370370</td>\n",
       "      <td>1</td>\n",
       "    </tr>\n",
       "    <tr>\n",
       "      <th>1</th>\n",
       "      <td>1234</td>\n",
       "      <td>2390</td>\n",
       "      <td>0</td>\n",
       "      <td>0.0</td>\n",
       "      <td>0.0</td>\n",
       "      <td>0.0</td>\n",
       "      <td>0.022857</td>\n",
       "      <td>0.310345</td>\n",
       "      <td>2</td>\n",
       "      <td>0.310345</td>\n",
       "      <td>1</td>\n",
       "    </tr>\n",
       "    <tr>\n",
       "      <th>2</th>\n",
       "      <td>451</td>\n",
       "      <td>1429</td>\n",
       "      <td>0</td>\n",
       "      <td>0.0</td>\n",
       "      <td>0.0</td>\n",
       "      <td>0.0</td>\n",
       "      <td>0.017143</td>\n",
       "      <td>0.370370</td>\n",
       "      <td>1</td>\n",
       "      <td>0.370370</td>\n",
       "      <td>1</td>\n",
       "    </tr>\n",
       "    <tr>\n",
       "      <th>3</th>\n",
       "      <td>190</td>\n",
       "      <td>2319</td>\n",
       "      <td>0</td>\n",
       "      <td>0.0</td>\n",
       "      <td>0.0</td>\n",
       "      <td>0.0</td>\n",
       "      <td>0.017143</td>\n",
       "      <td>0.370370</td>\n",
       "      <td>1</td>\n",
       "      <td>0.370370</td>\n",
       "      <td>1</td>\n",
       "    </tr>\n",
       "    <tr>\n",
       "      <th>4</th>\n",
       "      <td>995</td>\n",
       "      <td>1262</td>\n",
       "      <td>0</td>\n",
       "      <td>0.0</td>\n",
       "      <td>0.0</td>\n",
       "      <td>0.0</td>\n",
       "      <td>0.008571</td>\n",
       "      <td>0.488636</td>\n",
       "      <td>1</td>\n",
       "      <td>0.488636</td>\n",
       "      <td>1</td>\n",
       "    </tr>\n",
       "  </tbody>\n",
       "</table>\n",
       "</div>"
      ]
     },
     "metadata": {},
     "execution_count": 20
    }
   ],
   "metadata": {}
  },
  {
   "cell_type": "code",
   "execution_count": 21,
   "source": [
    "classifier_test[['true_quality_label']].value_counts()"
   ],
   "outputs": [
    {
     "output_type": "execute_result",
     "data": {
      "text/plain": [
       "true_quality_label\n",
       "2                     651\n",
       "1                     634\n",
       "3                     304\n",
       "0                      63\n",
       "dtype: int64"
      ]
     },
     "metadata": {},
     "execution_count": 21
    }
   ],
   "metadata": {}
  },
  {
   "cell_type": "code",
   "execution_count": 22,
   "source": [
    "classifier_test[['predicted_quality_label']].value_counts()"
   ],
   "outputs": [
    {
     "output_type": "execute_result",
     "data": {
      "text/plain": [
       "predicted_quality_label\n",
       "1                          1204\n",
       "0                           226\n",
       "2                           194\n",
       "3                            28\n",
       "dtype: int64"
      ]
     },
     "metadata": {},
     "execution_count": 22
    }
   ],
   "metadata": {}
  },
  {
   "cell_type": "code",
   "execution_count": 31,
   "source": [
    "from sklearn import metrics\n",
    "\n",
    "y_true, y_pred = classifier_test['true_quality_label'], classifier_test['predicted_quality_label']\n",
    "\n",
    "scores_df = pd.DataFrame()\n",
    "scores_df['Metric'] = pd.Series(['Sample length', 'Accuracy', 'Precision', 'Recall', 'F1 score'])\n",
    "scores_df['Score'] = pd.Series([\n",
    "    len(classifier_test),\n",
    "    clf.score(classifier_test[feature_names], classifier_test['true_quality_label']),\n",
    "    metrics.precision_score(y_true, y_pred, average='macro'),\n",
    "    metrics.recall_score(y_true, y_pred, average='micro'),\n",
    "    metrics.f1_score(y_true, y_pred, average='weighted')\n",
    "])\n",
    "\n",
    "scores_df"
   ],
   "outputs": [
    {
     "output_type": "execute_result",
     "data": {
      "text/plain": [
       "          Metric        Score\n",
       "0  Sample length  1652.000000\n",
       "1       Accuracy     0.385593\n",
       "2      Precision     0.423991\n",
       "3         Recall     0.385593\n",
       "4       F1 score     0.301029"
      ],
      "text/html": [
       "<div>\n",
       "<style scoped>\n",
       "    .dataframe tbody tr th:only-of-type {\n",
       "        vertical-align: middle;\n",
       "    }\n",
       "\n",
       "    .dataframe tbody tr th {\n",
       "        vertical-align: top;\n",
       "    }\n",
       "\n",
       "    .dataframe thead th {\n",
       "        text-align: right;\n",
       "    }\n",
       "</style>\n",
       "<table border=\"1\" class=\"dataframe\">\n",
       "  <thead>\n",
       "    <tr style=\"text-align: right;\">\n",
       "      <th></th>\n",
       "      <th>Metric</th>\n",
       "      <th>Score</th>\n",
       "    </tr>\n",
       "  </thead>\n",
       "  <tbody>\n",
       "    <tr>\n",
       "      <th>0</th>\n",
       "      <td>Sample length</td>\n",
       "      <td>1652.000000</td>\n",
       "    </tr>\n",
       "    <tr>\n",
       "      <th>1</th>\n",
       "      <td>Accuracy</td>\n",
       "      <td>0.385593</td>\n",
       "    </tr>\n",
       "    <tr>\n",
       "      <th>2</th>\n",
       "      <td>Precision</td>\n",
       "      <td>0.423991</td>\n",
       "    </tr>\n",
       "    <tr>\n",
       "      <th>3</th>\n",
       "      <td>Recall</td>\n",
       "      <td>0.385593</td>\n",
       "    </tr>\n",
       "    <tr>\n",
       "      <th>4</th>\n",
       "      <td>F1 score</td>\n",
       "      <td>0.301029</td>\n",
       "    </tr>\n",
       "  </tbody>\n",
       "</table>\n",
       "</div>"
      ]
     },
     "metadata": {},
     "execution_count": 31
    }
   ],
   "metadata": {}
  },
  {
   "cell_type": "code",
   "execution_count": 27,
   "source": [
    "print(metrics.f1_score(y_true, y_pred, average='weighted'))"
   ],
   "outputs": [
    {
     "output_type": "stream",
     "name": "stdout",
     "text": [
      "0.30102888593130706\n"
     ]
    }
   ],
   "metadata": {}
  },
  {
   "cell_type": "code",
   "execution_count": 24,
   "source": [
    "metrics.plot_confusion_matrix(clf, classifier_test[feature_names], classifier_test['true_quality_label'])"
   ],
   "outputs": [
    {
     "output_type": "execute_result",
     "data": {
      "text/plain": [
       "<sklearn.metrics._plot.confusion_matrix.ConfusionMatrixDisplay at 0x7ff5fc59e0d0>"
      ]
     },
     "metadata": {},
     "execution_count": 24
    },
    {
     "output_type": "display_data",
     "data": {
      "text/plain": [
       "<Figure size 1200x700 with 2 Axes>"
      ],
      "image/png": "[encoded data removed]"
     },
     "metadata": {
      "needs_background": "light"
     }
    }
   ],
   "metadata": {}
  }
 ]
}