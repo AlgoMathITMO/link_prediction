{
 "metadata": {
  "language_info": {
   "codemirror_mode": {
    "name": "ipython",
    "version": 3
   },
   "file_extension": ".py",
   "mimetype": "text/x-python",
   "name": "python",
   "nbconvert_exporter": "python",
   "pygments_lexer": "ipython3",
   "version": "3.8.5"
  },
  "orig_nbformat": 4,
  "kernelspec": {
   "name": "python3",
   "display_name": "Python 3.8.5 64-bit ('base': conda)"
  },
  "interpreter": {
   "hash": "2569654758497ea0148171e06cb07ecd9ac26e5685a9906bf4fb435b79c473d4"
  }
 },
 "nbformat": 4,
 "nbformat_minor": 2,
 "cells": [
  {
   "cell_type": "code",
   "execution_count": 1,
   "source": [
    "import networkx as nx\n",
    "import pandas as pd\n",
    "import seaborn as sn\n",
    "import matplotlib.pyplot as plt\n",
    "import random\n",
    "import numpy as np\n",
    "import math\n",
    "from bisect import bisect"
   ],
   "outputs": [],
   "metadata": {}
  },
  {
   "cell_type": "code",
   "execution_count": 2,
   "source": [
    "import matplotlib as mpl\n",
    "\n",
    "mpl.rcParams['figure.figsize'] = [12.0, 7.0]\n",
    "mpl.rcParams['figure.dpi'] = 100"
   ],
   "outputs": [],
   "metadata": {}
  },
  {
   "cell_type": "code",
   "execution_count": 3,
   "source": [
    "from lib.utils.data_spit import data_split\n",
    "\n",
    "from lib.generators.LFR import LFR\n",
    "from lib.generators.OLP import OLP"
   ],
   "outputs": [],
   "metadata": {}
  },
  {
   "cell_type": "code",
   "execution_count": 4,
   "source": [
    "# hyperparameters\n",
    "\n",
    "seed = random.randint(1, 1000)                              # random seed\n",
    "\n",
    "# CLASSIFIER PARAMETERS\n",
    "quality_class_intervals = [0, 0.25, 0.50, 0.75, 1.001]      # quality class intervals\n",
    "quality_class_labels = [0, 1, 2, 3]                         # quality class labels\n",
    "quality_class_names = ['exelent', 'good', 'ok', 'poor']     # quality classes names"
   ],
   "outputs": [],
   "metadata": {}
  },
  {
   "cell_type": "markdown",
   "source": [
    "# Step 1\n",
    "## Graph and features generation\n",
    "\n",
    "Generate/import graph and features based on avalible `generator` classes"
   ],
   "metadata": {}
  },
  {
   "cell_type": "code",
   "execution_count": 6,
   "source": [
    "generator = LFR(n=500, t1=3, t2=1.5, m=0.1, seed=seed)\n",
    "#generator = OLP(network_index=0)\n",
    "\n",
    "ground_truth_df = generator.get_df()\n",
    "\n",
    "features_df = generator.get_features_df()\n",
    "feature_names = generator.feature_names\n",
    "\n",
    "feature_names"
   ],
   "outputs": [
    {
     "output_type": "execute_result",
     "data": {
      "text/plain": [
       "['com_ne',\n",
       " 'short_path',\n",
       " 'LHN',\n",
       " 'page_rank_pers_edges',\n",
       " 'pref_attach',\n",
       " 'jacc_coeff',\n",
       " 'adam_adar',\n",
       " 'res_alloc_ind',\n",
       " 'svd_edges',\n",
       " 'svd_edges_dot',\n",
       " 'svd_edges_mean']"
      ]
     },
     "metadata": {},
     "execution_count": 6
    }
   ],
   "metadata": {}
  },
  {
   "cell_type": "code",
   "execution_count": 47,
   "source": [
    "ground_truth_df['goal'].value_counts()"
   ],
   "outputs": [
    {
     "output_type": "execute_result",
     "data": {
      "text/plain": [
       "1    1174\n",
       "0    1174\n",
       "Name: goal, dtype: int64"
      ]
     },
     "metadata": {},
     "execution_count": 47
    }
   ],
   "metadata": {}
  },
  {
   "cell_type": "code",
   "execution_count": 48,
   "source": [
    "features_df.head(5)"
   ],
   "outputs": [
    {
     "output_type": "execute_result",
     "data": {
      "text/plain": [
       "   node1  node2    com_ne  short_path       LHN  page_rank_pers_edges  \\\n",
       "0    110    226  0.153846      0.0000  0.004310              0.002165   \n",
       "1    208    294  0.076923      0.0000  0.005698              0.002805   \n",
       "2    184    272  0.000000      0.0002  0.000000              0.000523   \n",
       "3    207    212  0.038462      0.0000  0.004255              0.001144   \n",
       "4     83    103  0.596154      0.0000  0.011481              0.005127   \n",
       "\n",
       "   pref_attach  jacc_coeff  adam_adar  res_alloc_ind     svd_edges  \\\n",
       "0     0.325614    0.097561   2.001291       0.148453  5.342948e-16   \n",
       "1     0.123158    0.081633   1.073632       0.097900 -1.908196e-16   \n",
       "2     0.076316    0.000000   0.000000       0.000000 -1.162265e-16   \n",
       "3     0.082456    0.036364   0.617595       0.078462  2.636780e-16   \n",
       "4     0.473684    0.424658   7.500530       0.499587  1.110223e-16   \n",
       "\n",
       "   svd_edges_dot  svd_edges_mean  \n",
       "0   1.538462e-01    2.500000e-01  \n",
       "1   7.692308e-02    1.481481e-01  \n",
       "2   2.772762e-15   -4.660624e-17  \n",
       "3   3.846154e-02    2.000000e-01  \n",
       "4   5.961538e-01    5.740741e-01  "
      ],
      "text/html": [
       "<div>\n",
       "<style scoped>\n",
       "    .dataframe tbody tr th:only-of-type {\n",
       "        vertical-align: middle;\n",
       "    }\n",
       "\n",
       "    .dataframe tbody tr th {\n",
       "        vertical-align: top;\n",
       "    }\n",
       "\n",
       "    .dataframe thead th {\n",
       "        text-align: right;\n",
       "    }\n",
       "</style>\n",
       "<table border=\"1\" class=\"dataframe\">\n",
       "  <thead>\n",
       "    <tr style=\"text-align: right;\">\n",
       "      <th></th>\n",
       "      <th>node1</th>\n",
       "      <th>node2</th>\n",
       "      <th>com_ne</th>\n",
       "      <th>short_path</th>\n",
       "      <th>LHN</th>\n",
       "      <th>page_rank_pers_edges</th>\n",
       "      <th>pref_attach</th>\n",
       "      <th>jacc_coeff</th>\n",
       "      <th>adam_adar</th>\n",
       "      <th>res_alloc_ind</th>\n",
       "      <th>svd_edges</th>\n",
       "      <th>svd_edges_dot</th>\n",
       "      <th>svd_edges_mean</th>\n",
       "    </tr>\n",
       "  </thead>\n",
       "  <tbody>\n",
       "    <tr>\n",
       "      <th>0</th>\n",
       "      <td>110</td>\n",
       "      <td>226</td>\n",
       "      <td>0.153846</td>\n",
       "      <td>0.0000</td>\n",
       "      <td>0.004310</td>\n",
       "      <td>0.002165</td>\n",
       "      <td>0.325614</td>\n",
       "      <td>0.097561</td>\n",
       "      <td>2.001291</td>\n",
       "      <td>0.148453</td>\n",
       "      <td>5.342948e-16</td>\n",
       "      <td>1.538462e-01</td>\n",
       "      <td>2.500000e-01</td>\n",
       "    </tr>\n",
       "    <tr>\n",
       "      <th>1</th>\n",
       "      <td>208</td>\n",
       "      <td>294</td>\n",
       "      <td>0.076923</td>\n",
       "      <td>0.0000</td>\n",
       "      <td>0.005698</td>\n",
       "      <td>0.002805</td>\n",
       "      <td>0.123158</td>\n",
       "      <td>0.081633</td>\n",
       "      <td>1.073632</td>\n",
       "      <td>0.097900</td>\n",
       "      <td>-1.908196e-16</td>\n",
       "      <td>7.692308e-02</td>\n",
       "      <td>1.481481e-01</td>\n",
       "    </tr>\n",
       "    <tr>\n",
       "      <th>2</th>\n",
       "      <td>184</td>\n",
       "      <td>272</td>\n",
       "      <td>0.000000</td>\n",
       "      <td>0.0002</td>\n",
       "      <td>0.000000</td>\n",
       "      <td>0.000523</td>\n",
       "      <td>0.076316</td>\n",
       "      <td>0.000000</td>\n",
       "      <td>0.000000</td>\n",
       "      <td>0.000000</td>\n",
       "      <td>-1.162265e-16</td>\n",
       "      <td>2.772762e-15</td>\n",
       "      <td>-4.660624e-17</td>\n",
       "    </tr>\n",
       "    <tr>\n",
       "      <th>3</th>\n",
       "      <td>207</td>\n",
       "      <td>212</td>\n",
       "      <td>0.038462</td>\n",
       "      <td>0.0000</td>\n",
       "      <td>0.004255</td>\n",
       "      <td>0.001144</td>\n",
       "      <td>0.082456</td>\n",
       "      <td>0.036364</td>\n",
       "      <td>0.617595</td>\n",
       "      <td>0.078462</td>\n",
       "      <td>2.636780e-16</td>\n",
       "      <td>3.846154e-02</td>\n",
       "      <td>2.000000e-01</td>\n",
       "    </tr>\n",
       "    <tr>\n",
       "      <th>4</th>\n",
       "      <td>83</td>\n",
       "      <td>103</td>\n",
       "      <td>0.596154</td>\n",
       "      <td>0.0000</td>\n",
       "      <td>0.011481</td>\n",
       "      <td>0.005127</td>\n",
       "      <td>0.473684</td>\n",
       "      <td>0.424658</td>\n",
       "      <td>7.500530</td>\n",
       "      <td>0.499587</td>\n",
       "      <td>1.110223e-16</td>\n",
       "      <td>5.961538e-01</td>\n",
       "      <td>5.740741e-01</td>\n",
       "    </tr>\n",
       "  </tbody>\n",
       "</table>\n",
       "</div>"
      ]
     },
     "metadata": {},
     "execution_count": 48
    }
   ],
   "metadata": {}
  },
  {
   "cell_type": "code",
   "execution_count": 49,
   "source": [
    "corrMatrix = features_df[feature_names].corr()\n",
    "sn.heatmap(corrMatrix, annot=True)\n",
    "plt.show()"
   ],
   "outputs": [
    {
     "output_type": "display_data",
     "data": {
      "text/plain": [
       "<Figure size 1200x700 with 2 Axes>"
      ],
      "image/png": "[encoded data removed]"
     },
     "metadata": {
      "needs_background": "light"
     }
    }
   ],
   "metadata": {}
  },
  {
   "cell_type": "markdown",
   "source": [
    "# Step 2\n",
    "## Splitting the data"
   ],
   "metadata": {}
  },
  {
   "cell_type": "markdown",
   "source": [
    "We split the data in the following way:\n",
    "* 1/3 is used to train a link prediction model\n",
    "* 1/3 is used to test the link prediction model. Here we also calculate the error and use this data to train quality classifier\n",
    "* 1/3 is used to evaluate the clasifier"
   ],
   "metadata": {}
  },
  {
   "cell_type": "code",
   "execution_count": 50,
   "source": [
    "link_prediction_train, link_prediction_test, classifier_test = data_split(ground_truth_df, features_df)"
   ],
   "outputs": [],
   "metadata": {}
  },
  {
   "cell_type": "code",
   "execution_count": 51,
   "source": [
    "link_prediction_train['goal'].value_counts()"
   ],
   "outputs": [
    {
     "output_type": "execute_result",
     "data": {
      "text/plain": [
       "1    390\n",
       "0    390\n",
       "Name: goal, dtype: int64"
      ]
     },
     "metadata": {},
     "execution_count": 51
    }
   ],
   "metadata": {}
  },
  {
   "cell_type": "code",
   "execution_count": 52,
   "source": [
    "link_prediction_test['goal'].value_counts()"
   ],
   "outputs": [
    {
     "output_type": "execute_result",
     "data": {
      "text/plain": [
       "1    390\n",
       "0    390\n",
       "Name: goal, dtype: int64"
      ]
     },
     "metadata": {},
     "execution_count": 52
    }
   ],
   "metadata": {}
  },
  {
   "cell_type": "code",
   "execution_count": 53,
   "source": [
    "classifier_test['goal'].value_counts()"
   ],
   "outputs": [
    {
     "output_type": "execute_result",
     "data": {
      "text/plain": [
       "1    390\n",
       "0    390\n",
       "Name: goal, dtype: int64"
      ]
     },
     "metadata": {},
     "execution_count": 53
    }
   ],
   "metadata": {}
  },
  {
   "cell_type": "markdown",
   "source": [
    "# Step 3\n",
    "## Link prediction model\n",
    "\n",
    "Predict links using one of the avalble link prediction models"
   ],
   "metadata": {}
  },
  {
   "cell_type": "code",
   "execution_count": 66,
   "source": [
    "from lib.link_prediction_models.RandomForestOnFeatures import RandomForestOnFeatures\n",
    "\n",
    "model = RandomForestOnFeatures(X_train=link_prediction_train[feature_names], Y_train=link_prediction_train['goal'], random_state=seed)\n",
    "\n",
    "prob = model.predict_proba(link_prediction_test[feature_names])\n",
    "prob = pd.Series(prob, name='prob')\n",
    "\n",
    "link_proba = link_prediction_train.join(prob)\n",
    "link_proba.head(5)"
   ],
   "outputs": [
    {
     "output_type": "error",
     "ename": "TypeError",
     "evalue": "__init__() got an unexpected keyword argument 'X_train'",
     "traceback": [
      "\u001b[0;31m---------------------------------------------------------------------------\u001b[0m",
      "\u001b[0;31mTypeError\u001b[0m                                 Traceback (most recent call last)",
      "\u001b[0;32m<ipython-input-66-b72648249573>\u001b[0m in \u001b[0;36m<module>\u001b[0;34m\u001b[0m\n\u001b[1;32m      1\u001b[0m \u001b[0;32mfrom\u001b[0m \u001b[0mlib\u001b[0m\u001b[0;34m.\u001b[0m\u001b[0mlink_prediction_models\u001b[0m\u001b[0;34m.\u001b[0m\u001b[0mRandomForestOnFeatures\u001b[0m \u001b[0;32mimport\u001b[0m \u001b[0mRandomForestOnFeatures\u001b[0m\u001b[0;34m\u001b[0m\u001b[0;34m\u001b[0m\u001b[0m\n\u001b[1;32m      2\u001b[0m \u001b[0;34m\u001b[0m\u001b[0m\n\u001b[0;32m----> 3\u001b[0;31m \u001b[0mmodel\u001b[0m \u001b[0;34m=\u001b[0m \u001b[0mRandomForestOnFeatures\u001b[0m\u001b[0;34m(\u001b[0m \u001b[0mX_train\u001b[0m\u001b[0;34m=\u001b[0m\u001b[0mlink_prediction_train\u001b[0m\u001b[0;34m[\u001b[0m\u001b[0mfeature_names\u001b[0m\u001b[0;34m]\u001b[0m\u001b[0;34m,\u001b[0m \u001b[0mY_train\u001b[0m\u001b[0;34m=\u001b[0m\u001b[0mlink_prediction_train\u001b[0m\u001b[0;34m[\u001b[0m\u001b[0;34m'goal'\u001b[0m\u001b[0;34m]\u001b[0m\u001b[0;34m,\u001b[0m \u001b[0mrandom_state\u001b[0m\u001b[0;34m=\u001b[0m\u001b[0mseed\u001b[0m\u001b[0;34m)\u001b[0m\u001b[0;34m\u001b[0m\u001b[0;34m\u001b[0m\u001b[0m\n\u001b[0m\u001b[1;32m      4\u001b[0m \u001b[0;34m\u001b[0m\u001b[0m\n\u001b[1;32m      5\u001b[0m \u001b[0mprob\u001b[0m \u001b[0;34m=\u001b[0m \u001b[0mmodel\u001b[0m\u001b[0;34m.\u001b[0m\u001b[0mpredict_proba\u001b[0m\u001b[0;34m(\u001b[0m\u001b[0mlink_prediction_test\u001b[0m\u001b[0;34m[\u001b[0m\u001b[0mfeature_names\u001b[0m\u001b[0;34m]\u001b[0m\u001b[0;34m)\u001b[0m\u001b[0;34m\u001b[0m\u001b[0;34m\u001b[0m\u001b[0m\n",
      "\u001b[0;31mTypeError\u001b[0m: __init__() got an unexpected keyword argument 'X_train'"
     ]
    }
   ],
   "metadata": {}
  },
  {
   "cell_type": "code",
   "execution_count": null,
   "source": [
    "print(f'Accuracy score on {len(link_prediction_test)} test samples:')\n",
    "print(model.accuracy_score(link_prediction_test[feature_names], link_prediction_test['goal']))"
   ],
   "outputs": [
    {
     "output_type": "stream",
     "name": "stdout",
     "text": [
      "Accuracy score on 780 test samples:\n",
      "0.8666666666666667\n"
     ]
    }
   ],
   "metadata": {}
  },
  {
   "cell_type": "markdown",
   "source": [
    "# Step 4\n",
    "## Quality class analisys"
   ],
   "metadata": {}
  },
  {
   "cell_type": "code",
   "execution_count": null,
   "source": [
    "from bisect import bisect\n",
    "\n",
    "def quality_class_label(error): \n",
    "    return bisect(quality_class_intervals, error) - 1"
   ],
   "outputs": [],
   "metadata": {}
  },
  {
   "cell_type": "code",
   "execution_count": null,
   "source": [
    "# absolute eroor of prediction\n",
    "link_proba['abs_error'] = link_proba.apply(lambda row: math.fabs(row['goal']-row['prob']), axis=1)\n",
    "link_proba['quality_label'] = link_proba.apply(lambda row: quality_class_label(row['abs_error']), axis=1)\n",
    "link_proba['quality_name'] = link_proba.apply(lambda row: quality_class_names[quality_class_label(row['abs_error'])], axis=1)\n",
    "link_proba.head(5)"
   ],
   "outputs": [
    {
     "output_type": "execute_result",
     "data": {
      "text/plain": [
       "   node1  node2  goal    com_ne  short_path       LHN  page_rank_pers_edges  \\\n",
       "0     22    147     0  0.000000      0.0002  0.000000              0.001787   \n",
       "1    228    259     0  0.038462      0.0000  0.002469              0.002167   \n",
       "2    187    294     0  0.057692      0.0000  0.006944              0.004715   \n",
       "3    224    250     0  0.000000      0.0002  0.000000              0.001776   \n",
       "4     32    228     0  0.000000      0.0002  0.000000              0.001254   \n",
       "\n",
       "   pref_attach  jacc_coeff  adam_adar  res_alloc_ind     svd_edges  \\\n",
       "0     0.100000    0.000000   0.000000       0.000000  4.822531e-16   \n",
       "1     0.142105    0.036364   0.554266       0.056005 -3.608225e-16   \n",
       "2     0.075789    0.075000   0.945988       0.126407 -1.387779e-17   \n",
       "3     0.034737    0.000000   0.000000       0.000000 -6.297046e-16   \n",
       "4     0.075789    0.000000   0.000000       0.000000 -8.951173e-16   \n",
       "\n",
       "   svd_edges_dot  svd_edges_mean  prob  abs_error  quality_label quality_name  \n",
       "0   3.022704e-15    1.992649e-17  0.00       0.00              0      exelent  \n",
       "1   3.846154e-02    6.666667e-02  0.96       0.96              3         poor  \n",
       "2   5.769231e-02    1.111111e-01  0.00       0.00              0      exelent  \n",
       "3   2.925363e-15   -6.379927e-17  0.75       0.75              3         poor  \n",
       "4   2.622274e-15   -3.642277e-16  0.00       0.00              0      exelent  "
      ],
      "text/html": [
       "<div>\n",
       "<style scoped>\n",
       "    .dataframe tbody tr th:only-of-type {\n",
       "        vertical-align: middle;\n",
       "    }\n",
       "\n",
       "    .dataframe tbody tr th {\n",
       "        vertical-align: top;\n",
       "    }\n",
       "\n",
       "    .dataframe thead th {\n",
       "        text-align: right;\n",
       "    }\n",
       "</style>\n",
       "<table border=\"1\" class=\"dataframe\">\n",
       "  <thead>\n",
       "    <tr style=\"text-align: right;\">\n",
       "      <th></th>\n",
       "      <th>node1</th>\n",
       "      <th>node2</th>\n",
       "      <th>goal</th>\n",
       "      <th>com_ne</th>\n",
       "      <th>short_path</th>\n",
       "      <th>LHN</th>\n",
       "      <th>page_rank_pers_edges</th>\n",
       "      <th>pref_attach</th>\n",
       "      <th>jacc_coeff</th>\n",
       "      <th>adam_adar</th>\n",
       "      <th>res_alloc_ind</th>\n",
       "      <th>svd_edges</th>\n",
       "      <th>svd_edges_dot</th>\n",
       "      <th>svd_edges_mean</th>\n",
       "      <th>prob</th>\n",
       "      <th>abs_error</th>\n",
       "      <th>quality_label</th>\n",
       "      <th>quality_name</th>\n",
       "    </tr>\n",
       "  </thead>\n",
       "  <tbody>\n",
       "    <tr>\n",
       "      <th>0</th>\n",
       "      <td>22</td>\n",
       "      <td>147</td>\n",
       "      <td>0</td>\n",
       "      <td>0.000000</td>\n",
       "      <td>0.0002</td>\n",
       "      <td>0.000000</td>\n",
       "      <td>0.001787</td>\n",
       "      <td>0.100000</td>\n",
       "      <td>0.000000</td>\n",
       "      <td>0.000000</td>\n",
       "      <td>0.000000</td>\n",
       "      <td>4.822531e-16</td>\n",
       "      <td>3.022704e-15</td>\n",
       "      <td>1.992649e-17</td>\n",
       "      <td>0.00</td>\n",
       "      <td>0.00</td>\n",
       "      <td>0</td>\n",
       "      <td>exelent</td>\n",
       "    </tr>\n",
       "    <tr>\n",
       "      <th>1</th>\n",
       "      <td>228</td>\n",
       "      <td>259</td>\n",
       "      <td>0</td>\n",
       "      <td>0.038462</td>\n",
       "      <td>0.0000</td>\n",
       "      <td>0.002469</td>\n",
       "      <td>0.002167</td>\n",
       "      <td>0.142105</td>\n",
       "      <td>0.036364</td>\n",
       "      <td>0.554266</td>\n",
       "      <td>0.056005</td>\n",
       "      <td>-3.608225e-16</td>\n",
       "      <td>3.846154e-02</td>\n",
       "      <td>6.666667e-02</td>\n",
       "      <td>0.96</td>\n",
       "      <td>0.96</td>\n",
       "      <td>3</td>\n",
       "      <td>poor</td>\n",
       "    </tr>\n",
       "    <tr>\n",
       "      <th>2</th>\n",
       "      <td>187</td>\n",
       "      <td>294</td>\n",
       "      <td>0</td>\n",
       "      <td>0.057692</td>\n",
       "      <td>0.0000</td>\n",
       "      <td>0.006944</td>\n",
       "      <td>0.004715</td>\n",
       "      <td>0.075789</td>\n",
       "      <td>0.075000</td>\n",
       "      <td>0.945988</td>\n",
       "      <td>0.126407</td>\n",
       "      <td>-1.387779e-17</td>\n",
       "      <td>5.769231e-02</td>\n",
       "      <td>1.111111e-01</td>\n",
       "      <td>0.00</td>\n",
       "      <td>0.00</td>\n",
       "      <td>0</td>\n",
       "      <td>exelent</td>\n",
       "    </tr>\n",
       "    <tr>\n",
       "      <th>3</th>\n",
       "      <td>224</td>\n",
       "      <td>250</td>\n",
       "      <td>0</td>\n",
       "      <td>0.000000</td>\n",
       "      <td>0.0002</td>\n",
       "      <td>0.000000</td>\n",
       "      <td>0.001776</td>\n",
       "      <td>0.034737</td>\n",
       "      <td>0.000000</td>\n",
       "      <td>0.000000</td>\n",
       "      <td>0.000000</td>\n",
       "      <td>-6.297046e-16</td>\n",
       "      <td>2.925363e-15</td>\n",
       "      <td>-6.379927e-17</td>\n",
       "      <td>0.75</td>\n",
       "      <td>0.75</td>\n",
       "      <td>3</td>\n",
       "      <td>poor</td>\n",
       "    </tr>\n",
       "    <tr>\n",
       "      <th>4</th>\n",
       "      <td>32</td>\n",
       "      <td>228</td>\n",
       "      <td>0</td>\n",
       "      <td>0.000000</td>\n",
       "      <td>0.0002</td>\n",
       "      <td>0.000000</td>\n",
       "      <td>0.001254</td>\n",
       "      <td>0.075789</td>\n",
       "      <td>0.000000</td>\n",
       "      <td>0.000000</td>\n",
       "      <td>0.000000</td>\n",
       "      <td>-8.951173e-16</td>\n",
       "      <td>2.622274e-15</td>\n",
       "      <td>-3.642277e-16</td>\n",
       "      <td>0.00</td>\n",
       "      <td>0.00</td>\n",
       "      <td>0</td>\n",
       "      <td>exelent</td>\n",
       "    </tr>\n",
       "  </tbody>\n",
       "</table>\n",
       "</div>"
      ]
     },
     "metadata": {},
     "execution_count": 57
    }
   ],
   "metadata": {}
  },
  {
   "cell_type": "code",
   "execution_count": null,
   "source": [
    "# statistics on error\n",
    "link_proba['abs_error'].describe()"
   ],
   "outputs": [
    {
     "output_type": "execute_result",
     "data": {
      "text/plain": [
       "count    780.000000\n",
       "mean       0.174744\n",
       "std        0.265567\n",
       "min        0.000000\n",
       "25%        0.007500\n",
       "50%        0.050000\n",
       "75%        0.220000\n",
       "max        1.000000\n",
       "Name: abs_error, dtype: float64"
      ]
     },
     "metadata": {},
     "execution_count": 58
    }
   ],
   "metadata": {}
  },
  {
   "cell_type": "code",
   "execution_count": null,
   "source": [
    "# plot error distribution\n",
    "fig, ax = plt.subplots()\n",
    "\n",
    "pd.cut(link_proba['abs_error'], bins=quality_class_intervals, include_lowest=True).value_counts(sort=False).plot.bar(rot=0, color='steelblue', ax=ax)\n",
    "ax.set_title(\"Absolute error distribution (the lower the better)\")\n",
    "ax.set_ylabel(\"Number of node pairs\")"
   ],
   "outputs": [
    {
     "output_type": "execute_result",
     "data": {
      "text/plain": [
       "Text(0, 0.5, 'Number of node pairs')"
      ]
     },
     "metadata": {},
     "execution_count": 59
    },
    {
     "output_type": "display_data",
     "data": {
      "text/plain": [
       "<Figure size 1200x700 with 1 Axes>"
      ],
      "image/png": "[encoded data removed]"
     },
     "metadata": {
      "needs_background": "light"
     }
    }
   ],
   "metadata": {}
  },
  {
   "cell_type": "markdown",
   "source": [
    "# Step 5\n",
    "## Quality class prediction"
   ],
   "metadata": {}
  },
  {
   "cell_type": "code",
   "execution_count": null,
   "source": [
    "# train for quality class prediction\n",
    "from sklearn.linear_model import LogisticRegression\n",
    "from sklearn.ensemble import GradientBoostingClassifier\n",
    "from sklearn.tree import DecisionTreeClassifier\n",
    "\n",
    "#clf = LogisticRegression(random_state=seed)  #clf = LogisticRegression(random_state=seed, class_weight='balanced')\n",
    "#clf = clf = DecisionTreeClassifier(random_state=seed)\n",
    "clf = GradientBoostingClassifier(n_estimators=100, learning_rate=1.0, max_depth=2, random_state=seed)\n",
    "\n",
    "clf.fit(link_proba[feature_names], link_proba['quality_label'])"
   ],
   "outputs": [
    {
     "output_type": "execute_result",
     "data": {
      "text/plain": [
       "GradientBoostingClassifier(learning_rate=1.0, max_depth=2, random_state=800)"
      ]
     },
     "metadata": {},
     "execution_count": 60
    }
   ],
   "metadata": {}
  },
  {
   "cell_type": "code",
   "execution_count": null,
   "source": [
    "# testing the classifier\n",
    "\n",
    "pred = clf.predict(classifier_test[feature_names])\n",
    "pred = pd.Series(pred, name='predicted_quality_label')\n",
    "\n",
    "proba = clf.predict_proba(classifier_test[feature_names])[:, 1]\n",
    "proba = pd.Series(proba, name='prob')\n",
    "\n",
    "classifier_test = classifier_test.join(proba)\n",
    "classifier_test = classifier_test.join(pred)\n",
    "\n",
    "classifier_test['true_abs_error'] = classifier_test.apply(lambda row: math.fabs(row['goal']-row['prob']), axis=1)\n",
    "classifier_test['true_quality_label'] = classifier_test.apply(lambda row: quality_class_label(row['true_abs_error']), axis=1)\n",
    "classifier_test.head(5)"
   ],
   "outputs": [
    {
     "output_type": "execute_result",
     "data": {
      "text/plain": [
       "   node1  node2  goal    com_ne  short_path       LHN  page_rank_pers_edges  \\\n",
       "0    103    286     0  0.000000      0.0002  0.000000              0.000310   \n",
       "1    134    178     0  0.000000      0.0002  0.000000              0.001015   \n",
       "2     12    164     0  0.000000      0.0004  0.000000              0.000182   \n",
       "3    196    227     0  0.076923      0.0000  0.003023              0.003207   \n",
       "4    155    251     0  0.000000      0.0002  0.000000              0.000142   \n",
       "\n",
       "   pref_attach  jacc_coeff  adam_adar  res_alloc_ind     svd_edges  \\\n",
       "0     0.085263    0.000000   0.000000       0.000000 -2.844947e-16   \n",
       "1     0.180000    0.000000   0.000000       0.000000 -6.591949e-16   \n",
       "2     0.021053    0.000000   0.000000       0.000000 -5.620504e-16   \n",
       "3     0.232105    0.055556   1.024547       0.080951 -1.253338e-15   \n",
       "4     0.043509    0.000000   0.000000       0.000000 -4.787837e-16   \n",
       "\n",
       "   svd_edges_dot  svd_edges_mean      prob  predicted_quality_label  \\\n",
       "0   2.598514e-15   -5.208628e-16  0.003987                        0   \n",
       "1   2.559378e-15   -3.053113e-16  0.266990                        0   \n",
       "2   2.880798e-15   -6.153064e-16  0.007697                        0   \n",
       "3   7.692308e-02    8.163265e-02  0.001424                        0   \n",
       "4   2.829057e-15   -8.348357e-16  0.009810                        0   \n",
       "\n",
       "   true_abs_error  true_quality_label  \n",
       "0        0.003987                   0  \n",
       "1        0.266990                   1  \n",
       "2        0.007697                   0  \n",
       "3        0.001424                   0  \n",
       "4        0.009810                   0  "
      ],
      "text/html": [
       "<div>\n",
       "<style scoped>\n",
       "    .dataframe tbody tr th:only-of-type {\n",
       "        vertical-align: middle;\n",
       "    }\n",
       "\n",
       "    .dataframe tbody tr th {\n",
       "        vertical-align: top;\n",
       "    }\n",
       "\n",
       "    .dataframe thead th {\n",
       "        text-align: right;\n",
       "    }\n",
       "</style>\n",
       "<table border=\"1\" class=\"dataframe\">\n",
       "  <thead>\n",
       "    <tr style=\"text-align: right;\">\n",
       "      <th></th>\n",
       "      <th>node1</th>\n",
       "      <th>node2</th>\n",
       "      <th>goal</th>\n",
       "      <th>com_ne</th>\n",
       "      <th>short_path</th>\n",
       "      <th>LHN</th>\n",
       "      <th>page_rank_pers_edges</th>\n",
       "      <th>pref_attach</th>\n",
       "      <th>jacc_coeff</th>\n",
       "      <th>adam_adar</th>\n",
       "      <th>res_alloc_ind</th>\n",
       "      <th>svd_edges</th>\n",
       "      <th>svd_edges_dot</th>\n",
       "      <th>svd_edges_mean</th>\n",
       "      <th>prob</th>\n",
       "      <th>predicted_quality_label</th>\n",
       "      <th>true_abs_error</th>\n",
       "      <th>true_quality_label</th>\n",
       "    </tr>\n",
       "  </thead>\n",
       "  <tbody>\n",
       "    <tr>\n",
       "      <th>0</th>\n",
       "      <td>103</td>\n",
       "      <td>286</td>\n",
       "      <td>0</td>\n",
       "      <td>0.000000</td>\n",
       "      <td>0.0002</td>\n",
       "      <td>0.000000</td>\n",
       "      <td>0.000310</td>\n",
       "      <td>0.085263</td>\n",
       "      <td>0.000000</td>\n",
       "      <td>0.000000</td>\n",
       "      <td>0.000000</td>\n",
       "      <td>-2.844947e-16</td>\n",
       "      <td>2.598514e-15</td>\n",
       "      <td>-5.208628e-16</td>\n",
       "      <td>0.003987</td>\n",
       "      <td>0</td>\n",
       "      <td>0.003987</td>\n",
       "      <td>0</td>\n",
       "    </tr>\n",
       "    <tr>\n",
       "      <th>1</th>\n",
       "      <td>134</td>\n",
       "      <td>178</td>\n",
       "      <td>0</td>\n",
       "      <td>0.000000</td>\n",
       "      <td>0.0002</td>\n",
       "      <td>0.000000</td>\n",
       "      <td>0.001015</td>\n",
       "      <td>0.180000</td>\n",
       "      <td>0.000000</td>\n",
       "      <td>0.000000</td>\n",
       "      <td>0.000000</td>\n",
       "      <td>-6.591949e-16</td>\n",
       "      <td>2.559378e-15</td>\n",
       "      <td>-3.053113e-16</td>\n",
       "      <td>0.266990</td>\n",
       "      <td>0</td>\n",
       "      <td>0.266990</td>\n",
       "      <td>1</td>\n",
       "    </tr>\n",
       "    <tr>\n",
       "      <th>2</th>\n",
       "      <td>12</td>\n",
       "      <td>164</td>\n",
       "      <td>0</td>\n",
       "      <td>0.000000</td>\n",
       "      <td>0.0004</td>\n",
       "      <td>0.000000</td>\n",
       "      <td>0.000182</td>\n",
       "      <td>0.021053</td>\n",
       "      <td>0.000000</td>\n",
       "      <td>0.000000</td>\n",
       "      <td>0.000000</td>\n",
       "      <td>-5.620504e-16</td>\n",
       "      <td>2.880798e-15</td>\n",
       "      <td>-6.153064e-16</td>\n",
       "      <td>0.007697</td>\n",
       "      <td>0</td>\n",
       "      <td>0.007697</td>\n",
       "      <td>0</td>\n",
       "    </tr>\n",
       "    <tr>\n",
       "      <th>3</th>\n",
       "      <td>196</td>\n",
       "      <td>227</td>\n",
       "      <td>0</td>\n",
       "      <td>0.076923</td>\n",
       "      <td>0.0000</td>\n",
       "      <td>0.003023</td>\n",
       "      <td>0.003207</td>\n",
       "      <td>0.232105</td>\n",
       "      <td>0.055556</td>\n",
       "      <td>1.024547</td>\n",
       "      <td>0.080951</td>\n",
       "      <td>-1.253338e-15</td>\n",
       "      <td>7.692308e-02</td>\n",
       "      <td>8.163265e-02</td>\n",
       "      <td>0.001424</td>\n",
       "      <td>0</td>\n",
       "      <td>0.001424</td>\n",
       "      <td>0</td>\n",
       "    </tr>\n",
       "    <tr>\n",
       "      <th>4</th>\n",
       "      <td>155</td>\n",
       "      <td>251</td>\n",
       "      <td>0</td>\n",
       "      <td>0.000000</td>\n",
       "      <td>0.0002</td>\n",
       "      <td>0.000000</td>\n",
       "      <td>0.000142</td>\n",
       "      <td>0.043509</td>\n",
       "      <td>0.000000</td>\n",
       "      <td>0.000000</td>\n",
       "      <td>0.000000</td>\n",
       "      <td>-4.787837e-16</td>\n",
       "      <td>2.829057e-15</td>\n",
       "      <td>-8.348357e-16</td>\n",
       "      <td>0.009810</td>\n",
       "      <td>0</td>\n",
       "      <td>0.009810</td>\n",
       "      <td>0</td>\n",
       "    </tr>\n",
       "  </tbody>\n",
       "</table>\n",
       "</div>"
      ]
     },
     "metadata": {},
     "execution_count": 61
    }
   ],
   "metadata": {}
  },
  {
   "cell_type": "code",
   "execution_count": null,
   "source": [
    "classifier_test[['true_quality_label']].value_counts()"
   ],
   "outputs": [
    {
     "output_type": "execute_result",
     "data": {
      "text/plain": [
       "true_quality_label\n",
       "0                     379\n",
       "3                     375\n",
       "1                      18\n",
       "2                       8\n",
       "dtype: int64"
      ]
     },
     "metadata": {},
     "execution_count": 62
    }
   ],
   "metadata": {}
  },
  {
   "cell_type": "code",
   "execution_count": null,
   "source": [
    "classifier_test[['predicted_quality_label']].value_counts()"
   ],
   "outputs": [
    {
     "output_type": "execute_result",
     "data": {
      "text/plain": [
       "predicted_quality_label\n",
       "0                          634\n",
       "1                           72\n",
       "2                           42\n",
       "3                           32\n",
       "dtype: int64"
      ]
     },
     "metadata": {},
     "execution_count": 63
    }
   ],
   "metadata": {}
  },
  {
   "cell_type": "code",
   "execution_count": null,
   "source": [
    "from sklearn import metrics\n",
    "\n",
    "y_true, y_pred = classifier_test['true_quality_label'], classifier_test['predicted_quality_label']\n",
    "\n",
    "scores_df = pd.DataFrame()\n",
    "scores_df['Metric'] = pd.Series(['Sample length', 'Accuracy', 'Precision', 'Recall', 'F1 score'])\n",
    "scores_df['Score'] = pd.Series([\n",
    "    len(classifier_test),\n",
    "    clf.score(classifier_test[feature_names], classifier_test['true_quality_label']),\n",
    "    metrics.precision_score(y_true, y_pred, average='macro'),\n",
    "    metrics.recall_score(y_true, y_pred, average='micro'),\n",
    "    metrics.f1_score(y_true, y_pred, average='weighted')\n",
    "])\n",
    "\n",
    "scores_df"
   ],
   "outputs": [
    {
     "output_type": "execute_result",
     "data": {
      "text/plain": [
       "          Metric       Score\n",
       "0  Sample length  780.000000\n",
       "1       Accuracy    0.421795\n",
       "2      Precision    0.256947\n",
       "3         Recall    0.421795\n",
       "4       F1 score    0.329394"
      ],
      "text/html": [
       "<div>\n",
       "<style scoped>\n",
       "    .dataframe tbody tr th:only-of-type {\n",
       "        vertical-align: middle;\n",
       "    }\n",
       "\n",
       "    .dataframe tbody tr th {\n",
       "        vertical-align: top;\n",
       "    }\n",
       "\n",
       "    .dataframe thead th {\n",
       "        text-align: right;\n",
       "    }\n",
       "</style>\n",
       "<table border=\"1\" class=\"dataframe\">\n",
       "  <thead>\n",
       "    <tr style=\"text-align: right;\">\n",
       "      <th></th>\n",
       "      <th>Metric</th>\n",
       "      <th>Score</th>\n",
       "    </tr>\n",
       "  </thead>\n",
       "  <tbody>\n",
       "    <tr>\n",
       "      <th>0</th>\n",
       "      <td>Sample length</td>\n",
       "      <td>780.000000</td>\n",
       "    </tr>\n",
       "    <tr>\n",
       "      <th>1</th>\n",
       "      <td>Accuracy</td>\n",
       "      <td>0.421795</td>\n",
       "    </tr>\n",
       "    <tr>\n",
       "      <th>2</th>\n",
       "      <td>Precision</td>\n",
       "      <td>0.256947</td>\n",
       "    </tr>\n",
       "    <tr>\n",
       "      <th>3</th>\n",
       "      <td>Recall</td>\n",
       "      <td>0.421795</td>\n",
       "    </tr>\n",
       "    <tr>\n",
       "      <th>4</th>\n",
       "      <td>F1 score</td>\n",
       "      <td>0.329394</td>\n",
       "    </tr>\n",
       "  </tbody>\n",
       "</table>\n",
       "</div>"
      ]
     },
     "metadata": {},
     "execution_count": 64
    }
   ],
   "metadata": {}
  },
  {
   "cell_type": "code",
   "execution_count": null,
   "source": [
    "metrics.plot_confusion_matrix(clf, classifier_test[feature_names], classifier_test['true_quality_label'])"
   ],
   "outputs": [
    {
     "output_type": "execute_result",
     "data": {
      "text/plain": [
       "<sklearn.metrics._plot.confusion_matrix.ConfusionMatrixDisplay at 0x7fbb56299070>"
      ]
     },
     "metadata": {},
     "execution_count": 65
    },
    {
     "output_type": "display_data",
     "data": {
      "text/plain": [
       "<Figure size 1200x700 with 2 Axes>"
      ],
      "image/png": "[encoded data removed]"
     },
     "metadata": {
      "needs_background": "light"
     }
    }
   ],
   "metadata": {}
  }
 ]
}