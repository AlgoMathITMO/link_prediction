{
 "metadata": {
  "language_info": {
   "codemirror_mode": {
    "name": "ipython",
    "version": 3
   },
   "file_extension": ".py",
   "mimetype": "text/x-python",
   "name": "python",
   "nbconvert_exporter": "python",
   "pygments_lexer": "ipython3",
   "version": "3.8.5"
  },
  "orig_nbformat": 4,
  "kernelspec": {
   "name": "python3",
   "display_name": "Python 3.8.5 64-bit ('base': conda)"
  },
  "interpreter": {
   "hash": "2569654758497ea0148171e06cb07ecd9ac26e5685a9906bf4fb435b79c473d4"
  }
 },
 "nbformat": 4,
 "nbformat_minor": 2,
 "cells": [
  {
   "cell_type": "code",
   "execution_count": 1,
   "source": [
    "import networkx as nx\n",
    "import pandas as pd\n",
    "import seaborn as sn\n",
    "import matplotlib.pyplot as plt\n",
    "import random\n",
    "import numpy as np\n",
    "import math"
   ],
   "outputs": [],
   "metadata": {}
  },
  {
   "cell_type": "code",
   "execution_count": 2,
   "source": [
    "import matplotlib as mpl\n",
    "\n",
    "mpl.rcParams['figure.figsize'] = [12.0, 7.0]\n",
    "mpl.rcParams['figure.dpi'] = 100"
   ],
   "outputs": [],
   "metadata": {}
  },
  {
   "cell_type": "code",
   "execution_count": 3,
   "source": [
    "# hyperparameters\n",
    "\n",
    "seed = random.randint(1, 1000)                              # random seed"
   ],
   "outputs": [],
   "metadata": {}
  },
  {
   "cell_type": "markdown",
   "source": [
    "# Step 1\n",
    "## Graph generation, train/test splitting and feature generation\n",
    "\n",
    "Generate/import graph from avalible `generator` classes"
   ],
   "metadata": {}
  },
  {
   "cell_type": "code",
   "execution_count": 4,
   "source": [
    "from lib.generators.LFR import LFR\n",
    "from lib.generators.OLP import OLP\n",
    "\n",
    "\n",
    "#generator = LFR(n=5000, t1=3, t2=1.1, m=0.1, seed=seed)\n",
    "generator = OLP(seed=seed)\n",
    "feature_names = generator.feature_names"
   ],
   "outputs": [
    {
     "output_type": "stream",
     "name": "stdout",
     "text": [
      "Loading file...\n",
      "File loaded!\n",
      "Calculating features...\n",
      "Features calculated!\n",
      "Train/test splitting...\n",
      "Done splitting the data!\n"
     ]
    }
   ],
   "metadata": {}
  },
  {
   "cell_type": "code",
   "execution_count": 23,
   "source": [
    "link_prediction_train, link_prediction_test, classifier_test = generator.TRAIN1_DF, generator.TEST1_DF, generator.TEST2_DF"
   ],
   "outputs": [],
   "metadata": {}
  },
  {
   "cell_type": "code",
   "execution_count": 24,
   "source": [
    "link_prediction_train['goal'].value_counts()"
   ],
   "outputs": [
    {
     "output_type": "execute_result",
     "data": {
      "text/plain": [
       "0    884\n",
       "1    884\n",
       "Name: goal, dtype: int64"
      ]
     },
     "metadata": {},
     "execution_count": 24
    }
   ],
   "metadata": {}
  },
  {
   "cell_type": "code",
   "execution_count": 25,
   "source": [
    "link_prediction_test['goal'].value_counts()"
   ],
   "outputs": [
    {
     "output_type": "execute_result",
     "data": {
      "text/plain": [
       "0    1320\n",
       "1     184\n",
       "Name: goal, dtype: int64"
      ]
     },
     "metadata": {},
     "execution_count": 25
    }
   ],
   "metadata": {}
  },
  {
   "cell_type": "code",
   "execution_count": 26,
   "source": [
    "classifier_test['goal'].value_counts()"
   ],
   "outputs": [
    {
     "output_type": "execute_result",
     "data": {
      "text/plain": [
       "0    1313\n",
       "1     193\n",
       "Name: goal, dtype: int64"
      ]
     },
     "metadata": {},
     "execution_count": 26
    }
   ],
   "metadata": {}
  },
  {
   "cell_type": "markdown",
   "source": [
    "# Step 2\n",
    "## Link prediction model\n",
    "\n",
    "Predict links using one of the avalble link prediction models"
   ],
   "metadata": {}
  },
  {
   "cell_type": "code",
   "execution_count": 27,
   "source": [
    "from lib.link_prediction_models.RandomForestOnFeatures import RandomForestOnFeatures\n",
    "\n",
    "model = RandomForestOnFeatures(X_train=link_prediction_train[feature_names], Y_train=link_prediction_train['goal'], random_state=seed)\n",
    "\n",
    "prob = model.predict_proba(link_prediction_test[feature_names])\n",
    "prob = pd.Series(prob, name='prob')\n",
    "\n",
    "link_proba = link_prediction_train.join(prob)\n",
    "link_proba.head(5)"
   ],
   "outputs": [
    {
     "output_type": "execute_result",
     "data": {
      "text/plain": [
       "   node1  node2  goal    com_ne  short_path       LHN  page_rank_pers_edges  \\\n",
       "0      1     25     0  0.000000    0.666667  0.000000              0.000287   \n",
       "1    132    198     0  0.088889    0.000000  0.002561              0.001228   \n",
       "2    124    189     0  0.066667    0.000000  0.001478              0.002180   \n",
       "3     69    130     0  0.111111    0.000000  0.003906              0.005778   \n",
       "4     30    107     0  0.511111    0.000000  0.006970              0.005144   \n",
       "\n",
       "   pref_attach  jacc_coeff  adam_adar  res_alloc_ind     svd_edges  \\\n",
       "0     0.005142    0.000000   0.000000       0.000000  6.661338e-16   \n",
       "1     0.266712    0.044944   1.128642       0.117109 -9.992007e-16   \n",
       "2     0.346932    0.033333   0.821492       0.078431 -1.970646e-15   \n",
       "3     0.218375    0.054945   1.325735       0.115687 -2.879641e-16   \n",
       "4     0.564621    0.250000   5.893224       0.487435  9.593021e-16   \n",
       "\n",
       "   svd_edges_dot  svd_edges_mean  prob  \n",
       "0   3.397295e-15   -5.252839e-16  0.05  \n",
       "1   8.888889e-02    1.818182e-01  0.00  \n",
       "2   6.666667e-02    8.571429e-02  0.69  \n",
       "3   1.111111e-01    6.250000e-02  1.00  \n",
       "4   5.111111e-01    3.833333e-01  0.02  "
      ],
      "text/html": [
       "<div>\n",
       "<style scoped>\n",
       "    .dataframe tbody tr th:only-of-type {\n",
       "        vertical-align: middle;\n",
       "    }\n",
       "\n",
       "    .dataframe tbody tr th {\n",
       "        vertical-align: top;\n",
       "    }\n",
       "\n",
       "    .dataframe thead th {\n",
       "        text-align: right;\n",
       "    }\n",
       "</style>\n",
       "<table border=\"1\" class=\"dataframe\">\n",
       "  <thead>\n",
       "    <tr style=\"text-align: right;\">\n",
       "      <th></th>\n",
       "      <th>node1</th>\n",
       "      <th>node2</th>\n",
       "      <th>goal</th>\n",
       "      <th>com_ne</th>\n",
       "      <th>short_path</th>\n",
       "      <th>LHN</th>\n",
       "      <th>page_rank_pers_edges</th>\n",
       "      <th>pref_attach</th>\n",
       "      <th>jacc_coeff</th>\n",
       "      <th>adam_adar</th>\n",
       "      <th>res_alloc_ind</th>\n",
       "      <th>svd_edges</th>\n",
       "      <th>svd_edges_dot</th>\n",
       "      <th>svd_edges_mean</th>\n",
       "      <th>prob</th>\n",
       "    </tr>\n",
       "  </thead>\n",
       "  <tbody>\n",
       "    <tr>\n",
       "      <th>0</th>\n",
       "      <td>1</td>\n",
       "      <td>25</td>\n",
       "      <td>0</td>\n",
       "      <td>0.000000</td>\n",
       "      <td>0.666667</td>\n",
       "      <td>0.000000</td>\n",
       "      <td>0.000287</td>\n",
       "      <td>0.005142</td>\n",
       "      <td>0.000000</td>\n",
       "      <td>0.000000</td>\n",
       "      <td>0.000000</td>\n",
       "      <td>6.661338e-16</td>\n",
       "      <td>3.397295e-15</td>\n",
       "      <td>-5.252839e-16</td>\n",
       "      <td>0.05</td>\n",
       "    </tr>\n",
       "    <tr>\n",
       "      <th>1</th>\n",
       "      <td>132</td>\n",
       "      <td>198</td>\n",
       "      <td>0</td>\n",
       "      <td>0.088889</td>\n",
       "      <td>0.000000</td>\n",
       "      <td>0.002561</td>\n",
       "      <td>0.001228</td>\n",
       "      <td>0.266712</td>\n",
       "      <td>0.044944</td>\n",
       "      <td>1.128642</td>\n",
       "      <td>0.117109</td>\n",
       "      <td>-9.992007e-16</td>\n",
       "      <td>8.888889e-02</td>\n",
       "      <td>1.818182e-01</td>\n",
       "      <td>0.00</td>\n",
       "    </tr>\n",
       "    <tr>\n",
       "      <th>2</th>\n",
       "      <td>124</td>\n",
       "      <td>189</td>\n",
       "      <td>0</td>\n",
       "      <td>0.066667</td>\n",
       "      <td>0.000000</td>\n",
       "      <td>0.001478</td>\n",
       "      <td>0.002180</td>\n",
       "      <td>0.346932</td>\n",
       "      <td>0.033333</td>\n",
       "      <td>0.821492</td>\n",
       "      <td>0.078431</td>\n",
       "      <td>-1.970646e-15</td>\n",
       "      <td>6.666667e-02</td>\n",
       "      <td>8.571429e-02</td>\n",
       "      <td>0.69</td>\n",
       "    </tr>\n",
       "    <tr>\n",
       "      <th>3</th>\n",
       "      <td>69</td>\n",
       "      <td>130</td>\n",
       "      <td>0</td>\n",
       "      <td>0.111111</td>\n",
       "      <td>0.000000</td>\n",
       "      <td>0.003906</td>\n",
       "      <td>0.005778</td>\n",
       "      <td>0.218375</td>\n",
       "      <td>0.054945</td>\n",
       "      <td>1.325735</td>\n",
       "      <td>0.115687</td>\n",
       "      <td>-2.879641e-16</td>\n",
       "      <td>1.111111e-01</td>\n",
       "      <td>6.250000e-02</td>\n",
       "      <td>1.00</td>\n",
       "    </tr>\n",
       "    <tr>\n",
       "      <th>4</th>\n",
       "      <td>30</td>\n",
       "      <td>107</td>\n",
       "      <td>0</td>\n",
       "      <td>0.511111</td>\n",
       "      <td>0.000000</td>\n",
       "      <td>0.006970</td>\n",
       "      <td>0.005144</td>\n",
       "      <td>0.564621</td>\n",
       "      <td>0.250000</td>\n",
       "      <td>5.893224</td>\n",
       "      <td>0.487435</td>\n",
       "      <td>9.593021e-16</td>\n",
       "      <td>5.111111e-01</td>\n",
       "      <td>3.833333e-01</td>\n",
       "      <td>0.02</td>\n",
       "    </tr>\n",
       "  </tbody>\n",
       "</table>\n",
       "</div>"
      ]
     },
     "metadata": {},
     "execution_count": 27
    }
   ],
   "metadata": {}
  },
  {
   "cell_type": "code",
   "execution_count": 28,
   "source": [
    "from sklearn import metrics\n",
    "\n",
    "\n",
    "metrics.plot_roc_curve(model.get_model(), link_prediction_test[feature_names], link_prediction_test['goal'])  "
   ],
   "outputs": [
    {
     "output_type": "execute_result",
     "data": {
      "text/plain": [
       "<sklearn.metrics._plot.roc_curve.RocCurveDisplay at 0x7fc855c994c0>"
      ]
     },
     "metadata": {},
     "execution_count": 28
    },
    {
     "output_type": "display_data",
     "data": {
      "text/plain": [
       "<Figure size 1200x700 with 1 Axes>"
      ],
      "image/png": "[encoded data removed]"
     },
     "metadata": {
      "needs_background": "light"
     }
    }
   ],
   "metadata": {}
  },
  {
   "cell_type": "markdown",
   "source": [
    "# Step 3\n",
    "## Quality class analisys"
   ],
   "metadata": {}
  },
  {
   "cell_type": "code",
   "execution_count": 29,
   "source": [
    "# absolute eroor of prediction\n",
    "link_proba['abs_error'] = link_proba.apply(lambda row: math.fabs(row['goal']-row['prob']), axis=1)\n",
    "link_proba.head()"
   ],
   "outputs": [
    {
     "output_type": "execute_result",
     "data": {
      "text/plain": [
       "   node1  node2  goal    com_ne  short_path       LHN  page_rank_pers_edges  \\\n",
       "0      1     25     0  0.000000    0.666667  0.000000              0.000287   \n",
       "1    132    198     0  0.088889    0.000000  0.002561              0.001228   \n",
       "2    124    189     0  0.066667    0.000000  0.001478              0.002180   \n",
       "3     69    130     0  0.111111    0.000000  0.003906              0.005778   \n",
       "4     30    107     0  0.511111    0.000000  0.006970              0.005144   \n",
       "\n",
       "   pref_attach  jacc_coeff  adam_adar  res_alloc_ind     svd_edges  \\\n",
       "0     0.005142    0.000000   0.000000       0.000000  6.661338e-16   \n",
       "1     0.266712    0.044944   1.128642       0.117109 -9.992007e-16   \n",
       "2     0.346932    0.033333   0.821492       0.078431 -1.970646e-15   \n",
       "3     0.218375    0.054945   1.325735       0.115687 -2.879641e-16   \n",
       "4     0.564621    0.250000   5.893224       0.487435  9.593021e-16   \n",
       "\n",
       "   svd_edges_dot  svd_edges_mean  prob  abs_error  \n",
       "0   3.397295e-15   -5.252839e-16  0.05       0.05  \n",
       "1   8.888889e-02    1.818182e-01  0.00       0.00  \n",
       "2   6.666667e-02    8.571429e-02  0.69       0.69  \n",
       "3   1.111111e-01    6.250000e-02  1.00       1.00  \n",
       "4   5.111111e-01    3.833333e-01  0.02       0.02  "
      ],
      "text/html": [
       "<div>\n",
       "<style scoped>\n",
       "    .dataframe tbody tr th:only-of-type {\n",
       "        vertical-align: middle;\n",
       "    }\n",
       "\n",
       "    .dataframe tbody tr th {\n",
       "        vertical-align: top;\n",
       "    }\n",
       "\n",
       "    .dataframe thead th {\n",
       "        text-align: right;\n",
       "    }\n",
       "</style>\n",
       "<table border=\"1\" class=\"dataframe\">\n",
       "  <thead>\n",
       "    <tr style=\"text-align: right;\">\n",
       "      <th></th>\n",
       "      <th>node1</th>\n",
       "      <th>node2</th>\n",
       "      <th>goal</th>\n",
       "      <th>com_ne</th>\n",
       "      <th>short_path</th>\n",
       "      <th>LHN</th>\n",
       "      <th>page_rank_pers_edges</th>\n",
       "      <th>pref_attach</th>\n",
       "      <th>jacc_coeff</th>\n",
       "      <th>adam_adar</th>\n",
       "      <th>res_alloc_ind</th>\n",
       "      <th>svd_edges</th>\n",
       "      <th>svd_edges_dot</th>\n",
       "      <th>svd_edges_mean</th>\n",
       "      <th>prob</th>\n",
       "      <th>abs_error</th>\n",
       "    </tr>\n",
       "  </thead>\n",
       "  <tbody>\n",
       "    <tr>\n",
       "      <th>0</th>\n",
       "      <td>1</td>\n",
       "      <td>25</td>\n",
       "      <td>0</td>\n",
       "      <td>0.000000</td>\n",
       "      <td>0.666667</td>\n",
       "      <td>0.000000</td>\n",
       "      <td>0.000287</td>\n",
       "      <td>0.005142</td>\n",
       "      <td>0.000000</td>\n",
       "      <td>0.000000</td>\n",
       "      <td>0.000000</td>\n",
       "      <td>6.661338e-16</td>\n",
       "      <td>3.397295e-15</td>\n",
       "      <td>-5.252839e-16</td>\n",
       "      <td>0.05</td>\n",
       "      <td>0.05</td>\n",
       "    </tr>\n",
       "    <tr>\n",
       "      <th>1</th>\n",
       "      <td>132</td>\n",
       "      <td>198</td>\n",
       "      <td>0</td>\n",
       "      <td>0.088889</td>\n",
       "      <td>0.000000</td>\n",
       "      <td>0.002561</td>\n",
       "      <td>0.001228</td>\n",
       "      <td>0.266712</td>\n",
       "      <td>0.044944</td>\n",
       "      <td>1.128642</td>\n",
       "      <td>0.117109</td>\n",
       "      <td>-9.992007e-16</td>\n",
       "      <td>8.888889e-02</td>\n",
       "      <td>1.818182e-01</td>\n",
       "      <td>0.00</td>\n",
       "      <td>0.00</td>\n",
       "    </tr>\n",
       "    <tr>\n",
       "      <th>2</th>\n",
       "      <td>124</td>\n",
       "      <td>189</td>\n",
       "      <td>0</td>\n",
       "      <td>0.066667</td>\n",
       "      <td>0.000000</td>\n",
       "      <td>0.001478</td>\n",
       "      <td>0.002180</td>\n",
       "      <td>0.346932</td>\n",
       "      <td>0.033333</td>\n",
       "      <td>0.821492</td>\n",
       "      <td>0.078431</td>\n",
       "      <td>-1.970646e-15</td>\n",
       "      <td>6.666667e-02</td>\n",
       "      <td>8.571429e-02</td>\n",
       "      <td>0.69</td>\n",
       "      <td>0.69</td>\n",
       "    </tr>\n",
       "    <tr>\n",
       "      <th>3</th>\n",
       "      <td>69</td>\n",
       "      <td>130</td>\n",
       "      <td>0</td>\n",
       "      <td>0.111111</td>\n",
       "      <td>0.000000</td>\n",
       "      <td>0.003906</td>\n",
       "      <td>0.005778</td>\n",
       "      <td>0.218375</td>\n",
       "      <td>0.054945</td>\n",
       "      <td>1.325735</td>\n",
       "      <td>0.115687</td>\n",
       "      <td>-2.879641e-16</td>\n",
       "      <td>1.111111e-01</td>\n",
       "      <td>6.250000e-02</td>\n",
       "      <td>1.00</td>\n",
       "      <td>1.00</td>\n",
       "    </tr>\n",
       "    <tr>\n",
       "      <th>4</th>\n",
       "      <td>30</td>\n",
       "      <td>107</td>\n",
       "      <td>0</td>\n",
       "      <td>0.511111</td>\n",
       "      <td>0.000000</td>\n",
       "      <td>0.006970</td>\n",
       "      <td>0.005144</td>\n",
       "      <td>0.564621</td>\n",
       "      <td>0.250000</td>\n",
       "      <td>5.893224</td>\n",
       "      <td>0.487435</td>\n",
       "      <td>9.593021e-16</td>\n",
       "      <td>5.111111e-01</td>\n",
       "      <td>3.833333e-01</td>\n",
       "      <td>0.02</td>\n",
       "      <td>0.02</td>\n",
       "    </tr>\n",
       "  </tbody>\n",
       "</table>\n",
       "</div>"
      ]
     },
     "metadata": {},
     "execution_count": 29
    }
   ],
   "metadata": {}
  },
  {
   "cell_type": "code",
   "execution_count": 30,
   "source": [
    "# statistics on error\n",
    "link_proba['abs_error'].describe()"
   ],
   "outputs": [
    {
     "output_type": "execute_result",
     "data": {
      "text/plain": [
       "count    1504.000000\n",
       "mean        0.457926\n",
       "std         0.413534\n",
       "min         0.000000\n",
       "25%         0.010000\n",
       "50%         0.395000\n",
       "75%         0.930000\n",
       "max         1.000000\n",
       "Name: abs_error, dtype: float64"
      ]
     },
     "metadata": {},
     "execution_count": 30
    }
   ],
   "metadata": {}
  },
  {
   "cell_type": "code",
   "execution_count": 31,
   "source": [
    "train_median_error = link_proba['abs_error'].median()\n",
    "train_median_error"
   ],
   "outputs": [
    {
     "output_type": "execute_result",
     "data": {
      "text/plain": [
       "0.395"
      ]
     },
     "metadata": {},
     "execution_count": 31
    }
   ],
   "metadata": {}
  },
  {
   "cell_type": "code",
   "execution_count": 32,
   "source": [
    "link_proba['quality_label'] = link_proba.apply(lambda row: 1 if row['abs_error'] <= train_median_error else 0, axis=1)\n",
    "link_proba.head()"
   ],
   "outputs": [
    {
     "output_type": "execute_result",
     "data": {
      "text/plain": [
       "   node1  node2  goal    com_ne  short_path       LHN  page_rank_pers_edges  \\\n",
       "0      1     25     0  0.000000    0.666667  0.000000              0.000287   \n",
       "1    132    198     0  0.088889    0.000000  0.002561              0.001228   \n",
       "2    124    189     0  0.066667    0.000000  0.001478              0.002180   \n",
       "3     69    130     0  0.111111    0.000000  0.003906              0.005778   \n",
       "4     30    107     0  0.511111    0.000000  0.006970              0.005144   \n",
       "\n",
       "   pref_attach  jacc_coeff  adam_adar  res_alloc_ind     svd_edges  \\\n",
       "0     0.005142    0.000000   0.000000       0.000000  6.661338e-16   \n",
       "1     0.266712    0.044944   1.128642       0.117109 -9.992007e-16   \n",
       "2     0.346932    0.033333   0.821492       0.078431 -1.970646e-15   \n",
       "3     0.218375    0.054945   1.325735       0.115687 -2.879641e-16   \n",
       "4     0.564621    0.250000   5.893224       0.487435  9.593021e-16   \n",
       "\n",
       "   svd_edges_dot  svd_edges_mean  prob  abs_error  quality_label  \n",
       "0   3.397295e-15   -5.252839e-16  0.05       0.05              1  \n",
       "1   8.888889e-02    1.818182e-01  0.00       0.00              1  \n",
       "2   6.666667e-02    8.571429e-02  0.69       0.69              0  \n",
       "3   1.111111e-01    6.250000e-02  1.00       1.00              0  \n",
       "4   5.111111e-01    3.833333e-01  0.02       0.02              1  "
      ],
      "text/html": [
       "<div>\n",
       "<style scoped>\n",
       "    .dataframe tbody tr th:only-of-type {\n",
       "        vertical-align: middle;\n",
       "    }\n",
       "\n",
       "    .dataframe tbody tr th {\n",
       "        vertical-align: top;\n",
       "    }\n",
       "\n",
       "    .dataframe thead th {\n",
       "        text-align: right;\n",
       "    }\n",
       "</style>\n",
       "<table border=\"1\" class=\"dataframe\">\n",
       "  <thead>\n",
       "    <tr style=\"text-align: right;\">\n",
       "      <th></th>\n",
       "      <th>node1</th>\n",
       "      <th>node2</th>\n",
       "      <th>goal</th>\n",
       "      <th>com_ne</th>\n",
       "      <th>short_path</th>\n",
       "      <th>LHN</th>\n",
       "      <th>page_rank_pers_edges</th>\n",
       "      <th>pref_attach</th>\n",
       "      <th>jacc_coeff</th>\n",
       "      <th>adam_adar</th>\n",
       "      <th>res_alloc_ind</th>\n",
       "      <th>svd_edges</th>\n",
       "      <th>svd_edges_dot</th>\n",
       "      <th>svd_edges_mean</th>\n",
       "      <th>prob</th>\n",
       "      <th>abs_error</th>\n",
       "      <th>quality_label</th>\n",
       "    </tr>\n",
       "  </thead>\n",
       "  <tbody>\n",
       "    <tr>\n",
       "      <th>0</th>\n",
       "      <td>1</td>\n",
       "      <td>25</td>\n",
       "      <td>0</td>\n",
       "      <td>0.000000</td>\n",
       "      <td>0.666667</td>\n",
       "      <td>0.000000</td>\n",
       "      <td>0.000287</td>\n",
       "      <td>0.005142</td>\n",
       "      <td>0.000000</td>\n",
       "      <td>0.000000</td>\n",
       "      <td>0.000000</td>\n",
       "      <td>6.661338e-16</td>\n",
       "      <td>3.397295e-15</td>\n",
       "      <td>-5.252839e-16</td>\n",
       "      <td>0.05</td>\n",
       "      <td>0.05</td>\n",
       "      <td>1</td>\n",
       "    </tr>\n",
       "    <tr>\n",
       "      <th>1</th>\n",
       "      <td>132</td>\n",
       "      <td>198</td>\n",
       "      <td>0</td>\n",
       "      <td>0.088889</td>\n",
       "      <td>0.000000</td>\n",
       "      <td>0.002561</td>\n",
       "      <td>0.001228</td>\n",
       "      <td>0.266712</td>\n",
       "      <td>0.044944</td>\n",
       "      <td>1.128642</td>\n",
       "      <td>0.117109</td>\n",
       "      <td>-9.992007e-16</td>\n",
       "      <td>8.888889e-02</td>\n",
       "      <td>1.818182e-01</td>\n",
       "      <td>0.00</td>\n",
       "      <td>0.00</td>\n",
       "      <td>1</td>\n",
       "    </tr>\n",
       "    <tr>\n",
       "      <th>2</th>\n",
       "      <td>124</td>\n",
       "      <td>189</td>\n",
       "      <td>0</td>\n",
       "      <td>0.066667</td>\n",
       "      <td>0.000000</td>\n",
       "      <td>0.001478</td>\n",
       "      <td>0.002180</td>\n",
       "      <td>0.346932</td>\n",
       "      <td>0.033333</td>\n",
       "      <td>0.821492</td>\n",
       "      <td>0.078431</td>\n",
       "      <td>-1.970646e-15</td>\n",
       "      <td>6.666667e-02</td>\n",
       "      <td>8.571429e-02</td>\n",
       "      <td>0.69</td>\n",
       "      <td>0.69</td>\n",
       "      <td>0</td>\n",
       "    </tr>\n",
       "    <tr>\n",
       "      <th>3</th>\n",
       "      <td>69</td>\n",
       "      <td>130</td>\n",
       "      <td>0</td>\n",
       "      <td>0.111111</td>\n",
       "      <td>0.000000</td>\n",
       "      <td>0.003906</td>\n",
       "      <td>0.005778</td>\n",
       "      <td>0.218375</td>\n",
       "      <td>0.054945</td>\n",
       "      <td>1.325735</td>\n",
       "      <td>0.115687</td>\n",
       "      <td>-2.879641e-16</td>\n",
       "      <td>1.111111e-01</td>\n",
       "      <td>6.250000e-02</td>\n",
       "      <td>1.00</td>\n",
       "      <td>1.00</td>\n",
       "      <td>0</td>\n",
       "    </tr>\n",
       "    <tr>\n",
       "      <th>4</th>\n",
       "      <td>30</td>\n",
       "      <td>107</td>\n",
       "      <td>0</td>\n",
       "      <td>0.511111</td>\n",
       "      <td>0.000000</td>\n",
       "      <td>0.006970</td>\n",
       "      <td>0.005144</td>\n",
       "      <td>0.564621</td>\n",
       "      <td>0.250000</td>\n",
       "      <td>5.893224</td>\n",
       "      <td>0.487435</td>\n",
       "      <td>9.593021e-16</td>\n",
       "      <td>5.111111e-01</td>\n",
       "      <td>3.833333e-01</td>\n",
       "      <td>0.02</td>\n",
       "      <td>0.02</td>\n",
       "      <td>1</td>\n",
       "    </tr>\n",
       "  </tbody>\n",
       "</table>\n",
       "</div>"
      ]
     },
     "metadata": {},
     "execution_count": 32
    }
   ],
   "metadata": {}
  },
  {
   "cell_type": "code",
   "execution_count": 33,
   "source": [
    "link_proba['quality_label'].value_counts()"
   ],
   "outputs": [
    {
     "output_type": "execute_result",
     "data": {
      "text/plain": [
       "0    1016\n",
       "1     752\n",
       "Name: quality_label, dtype: int64"
      ]
     },
     "metadata": {},
     "execution_count": 33
    }
   ],
   "metadata": {}
  },
  {
   "cell_type": "markdown",
   "source": [
    "# Step 4\n",
    "## Quality class prediction"
   ],
   "metadata": {}
  },
  {
   "cell_type": "code",
   "execution_count": 34,
   "source": [
    "# train for quality class prediction\n",
    "from sklearn.linear_model import LogisticRegression\n",
    "from sklearn.ensemble import GradientBoostingClassifier\n",
    "from sklearn.tree import DecisionTreeClassifier\n",
    "\n",
    "clf = LogisticRegression(random_state=seed)  #clf = LogisticRegression(random_state=seed, class_weight='balanced')\n",
    "#clf = clf = DecisionTreeClassifier(random_state=seed)\n",
    "#clf = GradientBoostingClassifier(n_estimators=100, learning_rate=0.01, max_depth=3, random_state=seed)\n",
    "\n",
    "clf.fit(link_proba[feature_names], link_proba['quality_label'])"
   ],
   "outputs": [
    {
     "output_type": "execute_result",
     "data": {
      "text/plain": [
       "LogisticRegression(random_state=756)"
      ]
     },
     "metadata": {},
     "execution_count": 34
    }
   ],
   "metadata": {}
  },
  {
   "cell_type": "code",
   "execution_count": null,
   "source": [
    "# testing the classifier\n",
    "\n",
    "pred = clf.predict(classifier_test[feature_names])\n",
    "pred = pd.Series(pred, name='predicted_quality_label')\n",
    "\n",
    "proba = model.predict_proba(classifier_test[feature_names])\n",
    "proba = pd.Series(proba, name='prediction_probability')\n",
    "\n",
    "classifier_test = classifier_test.join(proba)\n",
    "classifier_test = classifier_test.join(pred)"
   ],
   "outputs": [],
   "metadata": {}
  },
  {
   "cell_type": "code",
   "execution_count": null,
   "source": [
    "classifier_test['true_abs_error'] = classifier_test.apply(lambda row: math.fabs(row['goal']-row['prediction_probability']), axis=1)\n",
    "test_median_error = classifier_test['true_abs_error'].median()\n",
    "test_median_error"
   ],
   "outputs": [],
   "metadata": {}
  },
  {
   "cell_type": "code",
   "execution_count": 35,
   "source": [
    "classifier_test['true_quality_label'] = classifier_test.apply(lambda row: 1 if row['true_abs_error'] <= test_median_error else 0, axis=1)\n",
    "classifier_test.head(5)"
   ],
   "outputs": [
    {
     "output_type": "execute_result",
     "data": {
      "text/plain": [
       "   node1  node2  goal    com_ne  short_path       LHN  page_rank_pers_edges  \\\n",
       "0     89    191     0  0.377778    0.000000  0.007496              0.003051   \n",
       "1    150    204     0  0.088889    0.000000  0.005000              0.001551   \n",
       "2    142    244     0  0.000000    0.333333  0.000000              0.000117   \n",
       "3    187    213     0  0.022222    0.000000  0.004049              0.003314   \n",
       "4    171    253     0  0.222222    0.000000  0.007407              0.003525   \n",
       "\n",
       "   pref_attach  jacc_coeff  adam_adar  res_alloc_ind     svd_edges  \\\n",
       "0     0.387727    0.207317   4.361750       0.355651 -2.574330e-15   \n",
       "1     0.136099    0.071429   1.111056       0.117947 -6.522560e-16   \n",
       "2     0.036510    0.000000   0.000000       0.000000 -8.326673e-17   \n",
       "3     0.041310    0.032258   0.328459       0.047619 -4.857226e-16   \n",
       "4     0.230374    0.149254   2.869532       0.318279 -1.318390e-15   \n",
       "\n",
       "   svd_edges_dot  svd_edges_mean  prediction_probability  \\\n",
       "0   3.777778e-01    4.722222e-01                    1.00   \n",
       "1   8.888889e-02    2.000000e-01                    0.40   \n",
       "2   3.307351e-15   -7.517135e-16                    0.00   \n",
       "3   2.222222e-02    5.263158e-02                    0.35   \n",
       "4   2.222222e-01    3.703704e-01                    0.81   \n",
       "\n",
       "   predicted_quality_label  true_abs_error  true_quality_label  \n",
       "0                        0            1.00                   0  \n",
       "1                        0            0.40                   0  \n",
       "2                        1            0.00                   1  \n",
       "3                        1            0.35                   0  \n",
       "4                        0            0.81                   0  "
      ],
      "text/html": [
       "<div>\n",
       "<style scoped>\n",
       "    .dataframe tbody tr th:only-of-type {\n",
       "        vertical-align: middle;\n",
       "    }\n",
       "\n",
       "    .dataframe tbody tr th {\n",
       "        vertical-align: top;\n",
       "    }\n",
       "\n",
       "    .dataframe thead th {\n",
       "        text-align: right;\n",
       "    }\n",
       "</style>\n",
       "<table border=\"1\" class=\"dataframe\">\n",
       "  <thead>\n",
       "    <tr style=\"text-align: right;\">\n",
       "      <th></th>\n",
       "      <th>node1</th>\n",
       "      <th>node2</th>\n",
       "      <th>goal</th>\n",
       "      <th>com_ne</th>\n",
       "      <th>short_path</th>\n",
       "      <th>LHN</th>\n",
       "      <th>page_rank_pers_edges</th>\n",
       "      <th>pref_attach</th>\n",
       "      <th>jacc_coeff</th>\n",
       "      <th>adam_adar</th>\n",
       "      <th>res_alloc_ind</th>\n",
       "      <th>svd_edges</th>\n",
       "      <th>svd_edges_dot</th>\n",
       "      <th>svd_edges_mean</th>\n",
       "      <th>prediction_probability</th>\n",
       "      <th>predicted_quality_label</th>\n",
       "      <th>true_abs_error</th>\n",
       "      <th>true_quality_label</th>\n",
       "    </tr>\n",
       "  </thead>\n",
       "  <tbody>\n",
       "    <tr>\n",
       "      <th>0</th>\n",
       "      <td>89</td>\n",
       "      <td>191</td>\n",
       "      <td>0</td>\n",
       "      <td>0.377778</td>\n",
       "      <td>0.000000</td>\n",
       "      <td>0.007496</td>\n",
       "      <td>0.003051</td>\n",
       "      <td>0.387727</td>\n",
       "      <td>0.207317</td>\n",
       "      <td>4.361750</td>\n",
       "      <td>0.355651</td>\n",
       "      <td>-2.574330e-15</td>\n",
       "      <td>3.777778e-01</td>\n",
       "      <td>4.722222e-01</td>\n",
       "      <td>1.00</td>\n",
       "      <td>0</td>\n",
       "      <td>1.00</td>\n",
       "      <td>0</td>\n",
       "    </tr>\n",
       "    <tr>\n",
       "      <th>1</th>\n",
       "      <td>150</td>\n",
       "      <td>204</td>\n",
       "      <td>0</td>\n",
       "      <td>0.088889</td>\n",
       "      <td>0.000000</td>\n",
       "      <td>0.005000</td>\n",
       "      <td>0.001551</td>\n",
       "      <td>0.136099</td>\n",
       "      <td>0.071429</td>\n",
       "      <td>1.111056</td>\n",
       "      <td>0.117947</td>\n",
       "      <td>-6.522560e-16</td>\n",
       "      <td>8.888889e-02</td>\n",
       "      <td>2.000000e-01</td>\n",
       "      <td>0.40</td>\n",
       "      <td>0</td>\n",
       "      <td>0.40</td>\n",
       "      <td>0</td>\n",
       "    </tr>\n",
       "    <tr>\n",
       "      <th>2</th>\n",
       "      <td>142</td>\n",
       "      <td>244</td>\n",
       "      <td>0</td>\n",
       "      <td>0.000000</td>\n",
       "      <td>0.333333</td>\n",
       "      <td>0.000000</td>\n",
       "      <td>0.000117</td>\n",
       "      <td>0.036510</td>\n",
       "      <td>0.000000</td>\n",
       "      <td>0.000000</td>\n",
       "      <td>0.000000</td>\n",
       "      <td>-8.326673e-17</td>\n",
       "      <td>3.307351e-15</td>\n",
       "      <td>-7.517135e-16</td>\n",
       "      <td>0.00</td>\n",
       "      <td>1</td>\n",
       "      <td>0.00</td>\n",
       "      <td>1</td>\n",
       "    </tr>\n",
       "    <tr>\n",
       "      <th>3</th>\n",
       "      <td>187</td>\n",
       "      <td>213</td>\n",
       "      <td>0</td>\n",
       "      <td>0.022222</td>\n",
       "      <td>0.000000</td>\n",
       "      <td>0.004049</td>\n",
       "      <td>0.003314</td>\n",
       "      <td>0.041310</td>\n",
       "      <td>0.032258</td>\n",
       "      <td>0.328459</td>\n",
       "      <td>0.047619</td>\n",
       "      <td>-4.857226e-16</td>\n",
       "      <td>2.222222e-02</td>\n",
       "      <td>5.263158e-02</td>\n",
       "      <td>0.35</td>\n",
       "      <td>1</td>\n",
       "      <td>0.35</td>\n",
       "      <td>0</td>\n",
       "    </tr>\n",
       "    <tr>\n",
       "      <th>4</th>\n",
       "      <td>171</td>\n",
       "      <td>253</td>\n",
       "      <td>0</td>\n",
       "      <td>0.222222</td>\n",
       "      <td>0.000000</td>\n",
       "      <td>0.007407</td>\n",
       "      <td>0.003525</td>\n",
       "      <td>0.230374</td>\n",
       "      <td>0.149254</td>\n",
       "      <td>2.869532</td>\n",
       "      <td>0.318279</td>\n",
       "      <td>-1.318390e-15</td>\n",
       "      <td>2.222222e-01</td>\n",
       "      <td>3.703704e-01</td>\n",
       "      <td>0.81</td>\n",
       "      <td>0</td>\n",
       "      <td>0.81</td>\n",
       "      <td>0</td>\n",
       "    </tr>\n",
       "  </tbody>\n",
       "</table>\n",
       "</div>"
      ]
     },
     "metadata": {},
     "execution_count": 35
    }
   ],
   "metadata": {}
  },
  {
   "cell_type": "code",
   "execution_count": 36,
   "source": [
    "classifier_test[['true_quality_label']].value_counts()"
   ],
   "outputs": [
    {
     "output_type": "execute_result",
     "data": {
      "text/plain": [
       "true_quality_label\n",
       "1                     758\n",
       "0                     748\n",
       "dtype: int64"
      ]
     },
     "metadata": {},
     "execution_count": 36
    }
   ],
   "metadata": {}
  },
  {
   "cell_type": "code",
   "execution_count": 37,
   "source": [
    "classifier_test[['predicted_quality_label']].value_counts()"
   ],
   "outputs": [
    {
     "output_type": "execute_result",
     "data": {
      "text/plain": [
       "predicted_quality_label\n",
       "1                          1058\n",
       "0                           448\n",
       "dtype: int64"
      ]
     },
     "metadata": {},
     "execution_count": 37
    }
   ],
   "metadata": {}
  },
  {
   "cell_type": "code",
   "execution_count": 38,
   "source": [
    "from sklearn import metrics\n",
    "\n",
    "y_true, y_pred = classifier_test['true_quality_label'], classifier_test['predicted_quality_label']\n",
    "\n",
    "scores_df = pd.DataFrame()\n",
    "scores_df['Metric'] = pd.Series(['Sample length', 'Accuracy', 'Precision', 'Recall', 'F1 score'])\n",
    "\n",
    "scores_df['Score'] = pd.Series([\n",
    "    len(classifier_test),\n",
    "    clf.score(classifier_test[feature_names], classifier_test['true_quality_label']),\n",
    "    metrics.precision_score(y_true, y_pred, average='macro'),\n",
    "    metrics.recall_score(y_true, y_pred, average='micro'),\n",
    "    metrics.f1_score(y_true, y_pred, average='weighted')\n",
    "])\n",
    "\n",
    "scores_df"
   ],
   "outputs": [
    {
     "output_type": "execute_result",
     "data": {
      "text/plain": [
       "          Metric        Score\n",
       "0  Sample length  1506.000000\n",
       "1       Accuracy     0.706507\n",
       "2      Precision     0.745428\n",
       "3         Recall     0.706507\n",
       "4       F1 score     0.693940"
      ],
      "text/html": [
       "<div>\n",
       "<style scoped>\n",
       "    .dataframe tbody tr th:only-of-type {\n",
       "        vertical-align: middle;\n",
       "    }\n",
       "\n",
       "    .dataframe tbody tr th {\n",
       "        vertical-align: top;\n",
       "    }\n",
       "\n",
       "    .dataframe thead th {\n",
       "        text-align: right;\n",
       "    }\n",
       "</style>\n",
       "<table border=\"1\" class=\"dataframe\">\n",
       "  <thead>\n",
       "    <tr style=\"text-align: right;\">\n",
       "      <th></th>\n",
       "      <th>Metric</th>\n",
       "      <th>Score</th>\n",
       "    </tr>\n",
       "  </thead>\n",
       "  <tbody>\n",
       "    <tr>\n",
       "      <th>0</th>\n",
       "      <td>Sample length</td>\n",
       "      <td>1506.000000</td>\n",
       "    </tr>\n",
       "    <tr>\n",
       "      <th>1</th>\n",
       "      <td>Accuracy</td>\n",
       "      <td>0.706507</td>\n",
       "    </tr>\n",
       "    <tr>\n",
       "      <th>2</th>\n",
       "      <td>Precision</td>\n",
       "      <td>0.745428</td>\n",
       "    </tr>\n",
       "    <tr>\n",
       "      <th>3</th>\n",
       "      <td>Recall</td>\n",
       "      <td>0.706507</td>\n",
       "    </tr>\n",
       "    <tr>\n",
       "      <th>4</th>\n",
       "      <td>F1 score</td>\n",
       "      <td>0.693940</td>\n",
       "    </tr>\n",
       "  </tbody>\n",
       "</table>\n",
       "</div>"
      ]
     },
     "metadata": {},
     "execution_count": 38
    }
   ],
   "metadata": {}
  },
  {
   "cell_type": "code",
   "execution_count": 39,
   "source": [
    "metrics.plot_roc_curve(clf, classifier_test[feature_names], classifier_test['true_quality_label'])  "
   ],
   "outputs": [
    {
     "output_type": "execute_result",
     "data": {
      "text/plain": [
       "<sklearn.metrics._plot.roc_curve.RocCurveDisplay at 0x7fc855c95520>"
      ]
     },
     "metadata": {},
     "execution_count": 39
    },
    {
     "output_type": "display_data",
     "data": {
      "text/plain": [
       "<Figure size 1200x700 with 1 Axes>"
      ],
      "image/png": "[encoded data removed]"
     },
     "metadata": {
      "needs_background": "light"
     }
    }
   ],
   "metadata": {}
  },
  {
   "cell_type": "code",
   "execution_count": 40,
   "source": [
    "metrics.plot_confusion_matrix(clf, classifier_test[feature_names], classifier_test['true_quality_label'])"
   ],
   "outputs": [
    {
     "output_type": "execute_result",
     "data": {
      "text/plain": [
       "<sklearn.metrics._plot.confusion_matrix.ConfusionMatrixDisplay at 0x7fc855cac070>"
      ]
     },
     "metadata": {},
     "execution_count": 40
    },
    {
     "output_type": "display_data",
     "data": {
      "text/plain": [
       "<Figure size 1200x700 with 2 Axes>"
      ],
      "image/png": "[encoded data removed]"
     },
     "metadata": {
      "needs_background": "light"
     }
    }
   ],
   "metadata": {}
  }
 ]
}