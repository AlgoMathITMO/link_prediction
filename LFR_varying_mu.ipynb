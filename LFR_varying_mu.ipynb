{
 "cells": [
  {
   "cell_type": "code",
   "execution_count": 1,
   "source": [
    "import networkx as nx\n",
    "\n",
    "import numpy as np\n",
    "import pandas as pd\n",
    "\n",
    "import seaborn as sn\n",
    "import matplotlib.pyplot as plt\n",
    "import matplotlib as mpl\n",
    "\n",
    "import random\n",
    "import math\n",
    "\n",
    "from sklearn.ensemble import RandomForestClassifier\n",
    "from sklearn import metrics\n",
    "\n",
    "from lib.generators.LFR import LFR"
   ],
   "outputs": [],
   "metadata": {}
  },
  {
   "cell_type": "code",
   "execution_count": 2,
   "source": [
    "def lfr_reconstruction_and_classification(mu, seed, n=1000, t1=3, t2=1.1):\n",
    "    generator = LFR(n=n, t1=t1, t2=t2, m=mu, seed=seed)\n",
    "    feature_names = generator.feature_names\n",
    "\n",
    "    link_prediction_train, link_prediction_test, classifier_test = generator.TRAIN1_DF, generator.TEST1_DF, generator.TEST2_DF\n",
    "\n",
    "    model =\\\n",
    "        RandomForestClassifier(n_estimators=100, max_depth=3, random_state=seed)\\\n",
    "        .fit(link_prediction_train[feature_names], link_prediction_train['goal'])\n",
    "\n",
    "    prob = model.predict_proba(link_prediction_test[feature_names])[:, 1]\n",
    "    prob = pd.Series(prob, name='prob')\n",
    "    link_proba = link_prediction_train.join(prob)\n",
    "\n",
    "    link_proba['abs_error'] = link_proba.apply(lambda row: math.fabs(row['goal']-row['prob']), axis=1)\n",
    "\n",
    "    train_median_error = link_proba['abs_error'].median()\n",
    "\n",
    "    link_proba['quality_label'] = link_proba.apply(lambda row: 1 if row['abs_error'] <= train_median_error else 0, axis=1)\n",
    "\n",
    "    model_2 =\\\n",
    "        RandomForestClassifier(n_estimators=100, max_depth=3, random_state=seed)\\\n",
    "        .fit(link_proba[feature_names], link_proba['quality_label'])\n",
    "\n",
    "    pred = model_2.predict(classifier_test[feature_names])\n",
    "    pred = pd.Series(pred, name='predicted_quality_label')\n",
    "\n",
    "    proba = model.predict_proba(classifier_test[feature_names])[:,1]\n",
    "    proba = pd.Series(proba, name='prediction_probability')\n",
    "\n",
    "    classifier_test = classifier_test.join(proba)\n",
    "    classifier_test = classifier_test.join(pred)\n",
    "\n",
    "    classifier_test['true_abs_error'] = classifier_test.apply(lambda row: math.fabs(row['goal']-row['prediction_probability']), axis=1)\n",
    "    test_median_error = classifier_test['true_abs_error'].median()\n",
    "\n",
    "    classifier_test['true_quality_label'] = classifier_test.apply(lambda row: 1 if row['true_abs_error'] <= test_median_error else 0, axis=1)\n",
    "\n",
    "    return\\\n",
    "        metrics.roc_auc_score(link_prediction_test['goal'], model.predict_proba(link_prediction_test[feature_names])[:, 1]),\\\n",
    "        metrics.roc_auc_score(classifier_test['true_quality_label'], model_2.predict_proba(classifier_test[feature_names])[:,1])"
   ],
   "outputs": [],
   "metadata": {}
  },
  {
   "cell_type": "code",
   "execution_count": 3,
   "source": [
    "# hyperparameters\n",
    "\n",
    "MU = [0.1, 0.33, 0.5, 0.66, 1]         # mu\n",
    "seed = random.randint(1, 1000)         # random seed"
   ],
   "outputs": [],
   "metadata": {}
  },
  {
   "cell_type": "code",
   "execution_count": 4,
   "source": [
    "rows_list = []\n",
    "\n",
    "for mu in MU:\n",
    "    print(f'For MU={mu} calculating:')\n",
    "    p_auc, c_auc = lfr_reconstruction_and_classification(mu, seed, n=5000)\n",
    "    rows_list.append({'mu': mu, 'reconstruction': p_auc, 'classification': c_auc})\n",
    "    print()\n",
    "\n",
    "df = pd.DataFrame(rows_list, columns=['mu', 'reconstruction', 'classification'])\n",
    "df"
   ],
   "outputs": [
    {
     "output_type": "stream",
     "name": "stdout",
     "text": [
      "For MU=0.1 calculating:\n",
      "Generating LFR graph...\n",
      "Graph generated!\n",
      "Train/test splitting...\n",
      "Done splitting the data!\n",
      "Calculating ['RAI', 'JC', 'AAI', 'PA'] features...\n",
      "Done calculating\n",
      "\n",
      "For MU=0.33 calculating:\n",
      "Generating LFR graph...\n",
      "Graph generated!\n",
      "Train/test splitting...\n",
      "Done splitting the data!\n",
      "Calculating ['RAI', 'JC', 'AAI', 'PA'] features...\n",
      "Done calculating\n",
      "\n",
      "For MU=0.5 calculating:\n",
      "Generating LFR graph...\n",
      "Graph generated!\n",
      "Train/test splitting...\n",
      "Done splitting the data!\n",
      "Calculating ['RAI', 'JC', 'AAI', 'PA'] features...\n",
      "Done calculating\n",
      "\n",
      "For MU=0.66 calculating:\n",
      "Generating LFR graph...\n",
      "Graph generated!\n",
      "Train/test splitting...\n",
      "Done splitting the data!\n",
      "Calculating ['RAI', 'JC', 'AAI', 'PA'] features...\n",
      "Done calculating\n",
      "\n",
      "For MU=1 calculating:\n",
      "Generating LFR graph...\n",
      "Graph generated!\n",
      "Train/test splitting...\n",
      "Done splitting the data!\n",
      "Calculating ['RAI', 'JC', 'AAI', 'PA'] features...\n",
      "Done calculating\n",
      "\n"
     ]
    },
    {
     "output_type": "execute_result",
     "data": {
      "text/plain": [
       "     mu  reconstruction  classification\n",
       "0  0.10        0.732091        0.999823\n",
       "1  0.33        0.722298        0.999477\n",
       "2  0.50        0.688551        0.999548\n",
       "3  0.66        0.692217        0.999604\n",
       "4  1.00        0.705058        0.999494"
      ],
      "text/html": [
       "<div>\n",
       "<style scoped>\n",
       "    .dataframe tbody tr th:only-of-type {\n",
       "        vertical-align: middle;\n",
       "    }\n",
       "\n",
       "    .dataframe tbody tr th {\n",
       "        vertical-align: top;\n",
       "    }\n",
       "\n",
       "    .dataframe thead th {\n",
       "        text-align: right;\n",
       "    }\n",
       "</style>\n",
       "<table border=\"1\" class=\"dataframe\">\n",
       "  <thead>\n",
       "    <tr style=\"text-align: right;\">\n",
       "      <th></th>\n",
       "      <th>mu</th>\n",
       "      <th>reconstruction</th>\n",
       "      <th>classification</th>\n",
       "    </tr>\n",
       "  </thead>\n",
       "  <tbody>\n",
       "    <tr>\n",
       "      <th>0</th>\n",
       "      <td>0.10</td>\n",
       "      <td>0.732091</td>\n",
       "      <td>0.999823</td>\n",
       "    </tr>\n",
       "    <tr>\n",
       "      <th>1</th>\n",
       "      <td>0.33</td>\n",
       "      <td>0.722298</td>\n",
       "      <td>0.999477</td>\n",
       "    </tr>\n",
       "    <tr>\n",
       "      <th>2</th>\n",
       "      <td>0.50</td>\n",
       "      <td>0.688551</td>\n",
       "      <td>0.999548</td>\n",
       "    </tr>\n",
       "    <tr>\n",
       "      <th>3</th>\n",
       "      <td>0.66</td>\n",
       "      <td>0.692217</td>\n",
       "      <td>0.999604</td>\n",
       "    </tr>\n",
       "    <tr>\n",
       "      <th>4</th>\n",
       "      <td>1.00</td>\n",
       "      <td>0.705058</td>\n",
       "      <td>0.999494</td>\n",
       "    </tr>\n",
       "  </tbody>\n",
       "</table>\n",
       "</div>"
      ]
     },
     "metadata": {},
     "execution_count": 4
    }
   ],
   "metadata": {}
  },
  {
   "cell_type": "code",
   "execution_count": 5,
   "source": [
    "mpl.rcParams['figure.figsize'] = [8, 5]\n",
    "mpl.rcParams['figure.dpi'] = 125\n",
    "\n",
    "fig, ax = plt.subplots()\n",
    "\n",
    "sn.lineplot( \n",
    "    x=df['mu'], \n",
    "    y=df['reconstruction'], \n",
    "    label='Reconstruction AUC',\n",
    "    ax=ax, \n",
    "    color='lightcoral'\n",
    ")\n",
    "\n",
    "sn.lineplot( \n",
    "    x=df['mu'], \n",
    "    y=df['classification'], \n",
    "    label='Classification AUC',\n",
    "    ax=ax, \n",
    "    color='lightskyblue'\n",
    ")\n",
    "\n",
    "ax.set_title(\"AUC score in relation to MU value\")\n",
    "ax.set_ylabel(\"ROC-AUC score\")\n",
    "ax.legend()"
   ],
   "outputs": [
    {
     "output_type": "execute_result",
     "data": {
      "text/plain": [
       "<matplotlib.legend.Legend at 0x7f9336499a60>"
      ]
     },
     "metadata": {},
     "execution_count": 5
    },
    {
     "output_type": "display_data",
     "data": {
      "text/plain": [
       "<Figure size 1000x625 with 1 Axes>"
      ],
      "image/png": "[encoded data removed]"
     },
     "metadata": {
      "needs_background": "light"
     }
    }
   ],
   "metadata": {}
  }
 ],
 "metadata": {
  "orig_nbformat": 4,
  "language_info": {
   "name": "python",
   "version": "3.8.5",
   "mimetype": "text/x-python",
   "codemirror_mode": {
    "name": "ipython",
    "version": 3
   },
   "pygments_lexer": "ipython3",
   "nbconvert_exporter": "python",
   "file_extension": ".py"
  },
  "kernelspec": {
   "name": "python3",
   "display_name": "Python 3.8.5 64-bit ('base': conda)"
  },
  "interpreter": {
   "hash": "2569654758497ea0148171e06cb07ecd9ac26e5685a9906bf4fb435b79c473d4"
  }
 },
 "nbformat": 4,
 "nbformat_minor": 2
}