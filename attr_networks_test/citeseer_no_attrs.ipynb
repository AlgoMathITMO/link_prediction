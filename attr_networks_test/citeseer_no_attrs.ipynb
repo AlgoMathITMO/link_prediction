{
 "cells": [
  {
   "cell_type": "code",
   "execution_count": 4,
   "metadata": {},
   "outputs": [],
   "source": [
    "import networkx as nx\n",
    "\n",
    "import numpy as np\n",
    "import pandas as pd\n",
    "\n",
    "import seaborn as sn\n",
    "import matplotlib.pyplot as plt\n",
    "import matplotlib as mpl\n",
    "\n",
    "import random\n",
    "import math\n",
    "\n",
    "from sklearn import metrics"
   ]
  },
  {
   "cell_type": "code",
   "execution_count": 5,
   "metadata": {},
   "outputs": [],
   "source": [
    "# hyperparameters\n",
    "\n",
    "seed = random.randint(1, 1000)         # random seed"
   ]
  },
  {
   "cell_type": "markdown",
   "metadata": {},
   "source": [
    "# Experiments on real data\n",
    "Here we use 'Email network' from 'Stacking models for nearly optimal link prediction in complex networks' paper by Amir Ghasemian et al:\n",
    " - https://github.com/Aghasemian/OptimalLinkPrediction\n",
    " - https://www.pnas.org/content/117/38/23393 "
   ]
  },
  {
   "cell_type": "markdown",
   "metadata": {},
   "source": [
    "## Step 1\n",
    "### Graph and features imoprting, train-test splitting\n",
    "\n",
    "We import the desired network and its features from `OLP` class and split the data into train and test sets."
   ]
  },
  {
   "cell_type": "code",
   "execution_count": 6,
   "metadata": {},
   "outputs": [],
   "source": [
    "N_EPOCH=5\n",
    "ATTRS = False"
   ]
  },
  {
   "cell_type": "code",
   "execution_count": 7,
   "metadata": {},
   "outputs": [
    {
     "name": "stderr",
     "output_type": "stream",
     "text": [
      "INFO: Verbose output.\n",
      "INFO: Reading data ...\n",
      "INFO: Success!\n",
      "INFO: Train/test splitting the data...\n",
      "INFO: Success!\n",
      "INFO: Calculating topological features: ['RAI', 'JC', 'AAI', 'PA']\n",
      "INFO: Done calculating topological features\n",
      "INFO: Calculating topological features: ['RAI', 'JC', 'AAI', 'PA']\n",
      "INFO: Done calculating topological features\n",
      "INFO: Calculating topological features: ['RAI', 'JC', 'AAI', 'PA']\n",
      "INFO: Done calculating topological features\n"
     ]
    }
   ],
   "source": [
    "import sys\n",
    "sys.path.append(\"..\")\n",
    "\n",
    "from lib.generators.AttributedNetwork import AttributedNetwork\n",
    "\n",
    "\n",
    "generator = AttributedNetwork(\n",
    "    '../data/',\n",
    "    'citeseer',\n",
    "    features_to_normalize=['RAI', 'JC', 'AAI', 'PA'],\n",
    "    with_attributes=ATTRS,\n",
    "    seed=seed,\n",
    "    vebrose=True\n",
    ")\n",
    "\n",
    "feature_names = generator.t_feature_names"
   ]
  },
  {
   "cell_type": "code",
   "execution_count": 8,
   "metadata": {},
   "outputs": [],
   "source": [
    "link_prediction_train, link_prediction_test, classifier_test = generator.TRAIN1_DF, generator.TEST1_DF, generator.TEST2_DF\n",
    "\n",
    "link_prediction_train.dropna(inplace=True)\n",
    "link_prediction_test.dropna(inplace=True)\n",
    "classifier_test.dropna(inplace=True)"
   ]
  },
  {
   "cell_type": "code",
   "execution_count": 9,
   "metadata": {},
   "outputs": [
    {
     "data": {
      "text/html": [
       "<div>\n",
       "<style scoped>\n",
       "    .dataframe tbody tr th:only-of-type {\n",
       "        vertical-align: middle;\n",
       "    }\n",
       "\n",
       "    .dataframe tbody tr th {\n",
       "        vertical-align: top;\n",
       "    }\n",
       "\n",
       "    .dataframe thead th {\n",
       "        text-align: right;\n",
       "    }\n",
       "</style>\n",
       "<table border=\"1\" class=\"dataframe\">\n",
       "  <thead>\n",
       "    <tr style=\"text-align: right;\">\n",
       "      <th></th>\n",
       "      <th>node1</th>\n",
       "      <th>node2</th>\n",
       "      <th>goal</th>\n",
       "      <th>RAI</th>\n",
       "      <th>JC</th>\n",
       "      <th>AAI</th>\n",
       "      <th>PA</th>\n",
       "    </tr>\n",
       "  </thead>\n",
       "  <tbody>\n",
       "    <tr>\n",
       "      <th>0</th>\n",
       "      <td>531</td>\n",
       "      <td>2015</td>\n",
       "      <td>0.0</td>\n",
       "      <td>0.0</td>\n",
       "      <td>0.0</td>\n",
       "      <td>0.0</td>\n",
       "      <td>0.000000</td>\n",
       "    </tr>\n",
       "    <tr>\n",
       "      <th>1</th>\n",
       "      <td>1357</td>\n",
       "      <td>2890</td>\n",
       "      <td>0.0</td>\n",
       "      <td>0.0</td>\n",
       "      <td>0.0</td>\n",
       "      <td>0.0</td>\n",
       "      <td>0.000265</td>\n",
       "    </tr>\n",
       "    <tr>\n",
       "      <th>2</th>\n",
       "      <td>2822</td>\n",
       "      <td>3247</td>\n",
       "      <td>0.0</td>\n",
       "      <td>0.0</td>\n",
       "      <td>0.0</td>\n",
       "      <td>0.0</td>\n",
       "      <td>0.000000</td>\n",
       "    </tr>\n",
       "    <tr>\n",
       "      <th>3</th>\n",
       "      <td>260</td>\n",
       "      <td>2619</td>\n",
       "      <td>0.0</td>\n",
       "      <td>0.0</td>\n",
       "      <td>0.0</td>\n",
       "      <td>0.0</td>\n",
       "      <td>0.001325</td>\n",
       "    </tr>\n",
       "    <tr>\n",
       "      <th>4</th>\n",
       "      <td>2629</td>\n",
       "      <td>3386</td>\n",
       "      <td>0.0</td>\n",
       "      <td>0.0</td>\n",
       "      <td>0.0</td>\n",
       "      <td>0.0</td>\n",
       "      <td>0.000000</td>\n",
       "    </tr>\n",
       "  </tbody>\n",
       "</table>\n",
       "</div>"
      ],
      "text/plain": [
       "   node1  node2  goal  RAI   JC  AAI        PA\n",
       "0    531   2015   0.0  0.0  0.0  0.0  0.000000\n",
       "1   1357   2890   0.0  0.0  0.0  0.0  0.000265\n",
       "2   2822   3247   0.0  0.0  0.0  0.0  0.000000\n",
       "3    260   2619   0.0  0.0  0.0  0.0  0.001325\n",
       "4   2629   3386   0.0  0.0  0.0  0.0  0.000000"
      ]
     },
     "execution_count": 9,
     "metadata": {},
     "output_type": "execute_result"
    }
   ],
   "source": [
    "link_prediction_train.head()"
   ]
  },
  {
   "cell_type": "markdown",
   "metadata": {},
   "source": [
    "## Step 2\n",
    "### Link prediction model"
   ]
  },
  {
   "cell_type": "code",
   "execution_count": 10,
   "metadata": {},
   "outputs": [
    {
     "name": "stderr",
     "output_type": "stream",
     "text": [
      "Using plaidml.keras.backend backend.\n",
      "DEBUG: Falling back to TensorFlow client; we recommended you install the Cloud TPU client directly with pip install cloud-tpu-client.\n"
     ]
    }
   ],
   "source": [
    "import os\n",
    "os.environ[\"KERAS_BACKEND\"] = \"plaidml.keras.backend\"\n",
    "\n",
    "\n",
    "from keras import Input\n",
    "from keras import layers as l\n",
    "from keras.models import Model\n",
    "\n",
    "from tensorflow.keras.utils import plot_model\n",
    "\n",
    "\n",
    "def model(feature_names, attr_dim, attrs=True, embed_dim=4, hidden_dim=64):\n",
    "    \"\"\"\n",
    "    A simple DL model for classification\n",
    "    \"\"\"\n",
    "\n",
    "    # inputs to topological features\n",
    "    feature_input = Input(shape=(len(feature_names), ), name='Topological features input')\n",
    "\n",
    "    # node_attributes inputs\n",
    "    attr_input_1 = Input(shape=(attr_dim, ), name='Node 1 attributes') if attr_dim > 0 else None\n",
    "    attr_input_2 = Input(shape=(attr_dim, ), name='Node 2 attributes') if attr_dim > 0 else None\n",
    "\n",
    "    # dynamic representation the attributes\n",
    "    c = l.Concatenate()([attr_input_1, attr_input_2])\n",
    "    attrs_dyn = l.Dense(embed_dim, activation='relu', name='Dynamic representation of the the attributes')(c)\n",
    "\n",
    "    concat = l.Concatenate()([feature_input, attrs_dyn])\n",
    "\n",
    "    if attrs:\n",
    "        hidden = l.Dense(hidden_dim, activation='relu', name='Hidden layer 1')(concat)\n",
    "    else:\n",
    "        hidden = l.Dense(hidden_dim, activation='relu', name='Hidden layer 1')(feature_input)\n",
    "        \n",
    "    hidden = l.Dense(hidden_dim, activation='relu', name='Hidden layer 2')(hidden)\n",
    "\n",
    "    out = l.Dense(1, activation='sigmoid', name='output')(hidden)\n",
    "\n",
    "    if attrs:\n",
    "        model = Model([feature_input, attr_input_1, attr_input_2], out)\n",
    "    else:\n",
    "        model = Model(feature_input, out)\n",
    "\n",
    "    model.compile(optimizer='adam', loss='poisson', metrics=['accuracy'])\n",
    "\n",
    "    return model"
   ]
  },
  {
   "cell_type": "code",
   "execution_count": 17,
   "metadata": {},
   "outputs": [],
   "source": [
    "# function to rearange data for training\n",
    "\n",
    "def data_arrange(df, feature_names, train=True, attrs=True, goal='goal'):\n",
    "    x_features = df[feature_names].values\n",
    "\n",
    "    x_attrs_1 = np.array([np.array(item) for item in df['node_1_attrs'].values]) if attrs else []\n",
    "    x_attrs_2 = np.array([np.array(item) for item in df['node_2_attrs'].values]) if attrs else []\n",
    "\n",
    "    y = df[goal].values if train else None\n",
    "\n",
    "    if attrs:\n",
    "        return [x_features, x_attrs_1, x_attrs_2], y\n",
    "    else:\n",
    "        return x_features, y"
   ]
  },
  {
   "cell_type": "code",
   "execution_count": 18,
   "metadata": {},
   "outputs": [
    {
     "name": "stdout",
     "output_type": "stream",
     "text": [
      "_________________________________________________________________\n",
      "Layer (type)                 Output Shape              Param #   \n",
      "=================================================================\n",
      "Topological features input ( (None, 4)                 0         \n",
      "_________________________________________________________________\n",
      "Hidden layer 1 (Dense)       (None, 64)                320       \n",
      "_________________________________________________________________\n",
      "Hidden layer 2 (Dense)       (None, 64)                4160      \n",
      "_________________________________________________________________\n",
      "output (Dense)               (None, 1)                 65        \n",
      "=================================================================\n",
      "Total params: 4,545\n",
      "Trainable params: 4,545\n",
      "Non-trainable params: 0\n",
      "_________________________________________________________________\n"
     ]
    }
   ],
   "source": [
    "attr_dim = len(link_prediction_train.head(1)['node_1_attrs'].values[0]) if ATTRS else 1\n",
    "\n",
    "link_prediction_model = model(feature_names, attr_dim, attrs=ATTRS)\n",
    "link_prediction_model.summary()"
   ]
  },
  {
   "cell_type": "code",
   "execution_count": 19,
   "metadata": {},
   "outputs": [
    {
     "data": {
      "image/png": "[encoded data removed]",
      "text/plain": [
       "<IPython.core.display.Image object>"
      ]
     },
     "execution_count": 19,
     "metadata": {},
     "output_type": "execute_result"
    }
   ],
   "source": [
    "plot_model(link_prediction_model, show_shapes=True)"
   ]
  },
  {
   "cell_type": "code",
   "execution_count": 20,
   "metadata": {},
   "outputs": [
    {
     "name": "stdout",
     "output_type": "stream",
     "text": [
      "Epoch 1/5\n",
      "7578/7578 [==============================] - 5s 649us/step - loss: 0.8141 - acc: 0.6774\n",
      "Epoch 2/5\n",
      "7578/7578 [==============================] - 2s 277us/step - loss: 0.7911 - acc: 0.7061\n",
      "Epoch 3/5\n",
      "7578/7578 [==============================] - 2s 326us/step - loss: 0.7808 - acc: 0.7304\n",
      "Epoch 4/5\n",
      "7578/7578 [==============================] - 3s 393us/step - loss: 0.7741 - acc: 0.7453\n",
      "Epoch 5/5\n",
      "7578/7578 [==============================] - 3s 389us/step - loss: 0.7714 - acc: 0.7524\n"
     ]
    },
    {
     "data": {
      "text/plain": [
       "<keras.callbacks.History at 0x7fab5eeb3eb0>"
      ]
     },
     "execution_count": 20,
     "metadata": {},
     "output_type": "execute_result"
    }
   ],
   "source": [
    "x, y = data_arrange(link_prediction_train, feature_names, attrs=ATTRS)\n",
    "link_prediction_model.fit(x, y, epochs=N_EPOCH) "
   ]
  },
  {
   "cell_type": "code",
   "execution_count": 21,
   "metadata": {},
   "outputs": [],
   "source": [
    "# predicting the links\n",
    "\n",
    "x, _ = data_arrange(link_prediction_test, feature_names, train=False, attrs=ATTRS)\n",
    "\n",
    "prob = link_prediction_model.predict(x).squeeze()\n",
    "prob = pd.Series(prob, name='prob')\n",
    "\n",
    "link_proba = link_prediction_test.join(prob)\n",
    "link_proba.head(5)"
   ]
  },
  {
   "cell_type": "code",
   "execution_count": null,
   "metadata": {},
   "outputs": [],
   "source": [
    "from sklearn.metrics import roc_curve, auc\n",
    "\n",
    "\n",
    "def plot_auc(df, x='goal', y='prob'):\n",
    "    fig, ax = plt.subplots(1)\n",
    "\n",
    "    fpr, tpr, _ = roc_curve(df[x], df[y])\n",
    "    sn.lineplot(x=fpr, y=tpr, ax=ax)\n",
    "\n",
    "    ax.legend([f'ROC curve, AUC = {auc(fpr, tpr):.4f}'])\n",
    "    ax.set_xlabel('False positive rate')\n",
    "    ax.set_ylabel('True positive rate')\n"
   ]
  },
  {
   "cell_type": "code",
   "execution_count": null,
   "metadata": {},
   "outputs": [
    {
     "data": {
      "image/png": "[encoded data removed]",
      "text/plain": [
       "<Figure size 1000x625 with 1 Axes>"
      ]
     },
     "metadata": {
      "needs_background": "light"
     },
     "output_type": "display_data"
    }
   ],
   "source": [
    "mpl.rcParams['figure.figsize'] = [8, 5]\n",
    "mpl.rcParams['figure.dpi'] = 125\n",
    "\n",
    "\n",
    "# ROC-AUC for the link prediction model\n",
    "plot_auc(link_proba, x='goal', y='prob')"
   ]
  },
  {
   "cell_type": "markdown",
   "metadata": {},
   "source": [
    "## Step 3\n",
    "Classifing error of prediction into \"predictible\" and \"non-predictable\" classes using median error"
   ]
  },
  {
   "cell_type": "code",
   "execution_count": null,
   "metadata": {},
   "outputs": [
    {
     "data": {
      "text/html": [
       "<div>\n",
       "<style scoped>\n",
       "    .dataframe tbody tr th:only-of-type {\n",
       "        vertical-align: middle;\n",
       "    }\n",
       "\n",
       "    .dataframe tbody tr th {\n",
       "        vertical-align: top;\n",
       "    }\n",
       "\n",
       "    .dataframe thead th {\n",
       "        text-align: right;\n",
       "    }\n",
       "</style>\n",
       "<table border=\"1\" class=\"dataframe\">\n",
       "  <thead>\n",
       "    <tr style=\"text-align: right;\">\n",
       "      <th></th>\n",
       "      <th>node1</th>\n",
       "      <th>node2</th>\n",
       "      <th>goal</th>\n",
       "      <th>node_1_attrs</th>\n",
       "      <th>node_2_attrs</th>\n",
       "      <th>RAI</th>\n",
       "      <th>JC</th>\n",
       "      <th>AAI</th>\n",
       "      <th>PA</th>\n",
       "      <th>prob</th>\n",
       "      <th>abs_error</th>\n",
       "    </tr>\n",
       "  </thead>\n",
       "  <tbody>\n",
       "    <tr>\n",
       "      <th>0</th>\n",
       "      <td>83</td>\n",
       "      <td>3770</td>\n",
       "      <td>0.0</td>\n",
       "      <td>(0.0, 0.0, 0.0, 0.0, 0.0, 0.0, 0.0, 0.0, 0.0, ...</td>\n",
       "      <td>(0.0, 0.0, 0.0, 0.0, 0.0, 0.0, 0.0, 0.0, 0.0, ...</td>\n",
       "      <td>0.000000</td>\n",
       "      <td>0.000000</td>\n",
       "      <td>0.000000</td>\n",
       "      <td>0.001589</td>\n",
       "      <td>0.285669</td>\n",
       "      <td>0.285669</td>\n",
       "    </tr>\n",
       "    <tr>\n",
       "      <th>1</th>\n",
       "      <td>2259</td>\n",
       "      <td>2895</td>\n",
       "      <td>1.0</td>\n",
       "      <td>(0.0, 0.0, 0.0, 0.0, 0.0, 0.0, 0.0, 0.0, 0.0, ...</td>\n",
       "      <td>(0.0, 0.0, 0.0, 0.0, 0.0, 0.0, 0.0, 0.0, 0.0, ...</td>\n",
       "      <td>0.015012</td>\n",
       "      <td>0.106667</td>\n",
       "      <td>0.031032</td>\n",
       "      <td>0.021446</td>\n",
       "      <td>0.273677</td>\n",
       "      <td>0.726323</td>\n",
       "    </tr>\n",
       "    <tr>\n",
       "      <th>2</th>\n",
       "      <td>3417</td>\n",
       "      <td>3418</td>\n",
       "      <td>1.0</td>\n",
       "      <td>(0.0, 0.0, 0.0, 0.0, 0.0, 0.0, 0.0, 0.0, 0.0, ...</td>\n",
       "      <td>(0.0, 0.0, 0.0, 0.0, 0.0, 0.0, 0.0, 0.0, 0.0, ...</td>\n",
       "      <td>0.000000</td>\n",
       "      <td>0.000000</td>\n",
       "      <td>0.000000</td>\n",
       "      <td>0.000794</td>\n",
       "      <td>0.285281</td>\n",
       "      <td>0.714719</td>\n",
       "    </tr>\n",
       "    <tr>\n",
       "      <th>3</th>\n",
       "      <td>23</td>\n",
       "      <td>3310</td>\n",
       "      <td>0.0</td>\n",
       "      <td>(0.0, 0.0, 0.0, 0.0, 0.0, 0.0, 0.0, 0.0, 0.0, ...</td>\n",
       "      <td>(0.0, 0.0, 0.0, 0.0, 0.0, 0.0, 0.0, 0.0, 0.0, ...</td>\n",
       "      <td>0.000000</td>\n",
       "      <td>0.000000</td>\n",
       "      <td>0.000000</td>\n",
       "      <td>0.004766</td>\n",
       "      <td>0.287228</td>\n",
       "      <td>0.287228</td>\n",
       "    </tr>\n",
       "    <tr>\n",
       "      <th>4</th>\n",
       "      <td>3695</td>\n",
       "      <td>4060</td>\n",
       "      <td>1.0</td>\n",
       "      <td>(0.0, 0.0, 0.0, 0.0, 0.0, 0.0, 0.0, 0.0, 0.0, ...</td>\n",
       "      <td>(0.0, 0.0, 0.0, 0.0, 0.0, 0.0, 0.0, 0.0, 0.0, ...</td>\n",
       "      <td>0.000000</td>\n",
       "      <td>0.000000</td>\n",
       "      <td>0.000000</td>\n",
       "      <td>0.015091</td>\n",
       "      <td>0.292328</td>\n",
       "      <td>0.707672</td>\n",
       "    </tr>\n",
       "  </tbody>\n",
       "</table>\n",
       "</div>"
      ],
      "text/plain": [
       "   node1  node2  goal                                       node_1_attrs  \\\n",
       "0     83   3770   0.0  (0.0, 0.0, 0.0, 0.0, 0.0, 0.0, 0.0, 0.0, 0.0, ...   \n",
       "1   2259   2895   1.0  (0.0, 0.0, 0.0, 0.0, 0.0, 0.0, 0.0, 0.0, 0.0, ...   \n",
       "2   3417   3418   1.0  (0.0, 0.0, 0.0, 0.0, 0.0, 0.0, 0.0, 0.0, 0.0, ...   \n",
       "3     23   3310   0.0  (0.0, 0.0, 0.0, 0.0, 0.0, 0.0, 0.0, 0.0, 0.0, ...   \n",
       "4   3695   4060   1.0  (0.0, 0.0, 0.0, 0.0, 0.0, 0.0, 0.0, 0.0, 0.0, ...   \n",
       "\n",
       "                                        node_2_attrs       RAI        JC  \\\n",
       "0  (0.0, 0.0, 0.0, 0.0, 0.0, 0.0, 0.0, 0.0, 0.0, ...  0.000000  0.000000   \n",
       "1  (0.0, 0.0, 0.0, 0.0, 0.0, 0.0, 0.0, 0.0, 0.0, ...  0.015012  0.106667   \n",
       "2  (0.0, 0.0, 0.0, 0.0, 0.0, 0.0, 0.0, 0.0, 0.0, ...  0.000000  0.000000   \n",
       "3  (0.0, 0.0, 0.0, 0.0, 0.0, 0.0, 0.0, 0.0, 0.0, ...  0.000000  0.000000   \n",
       "4  (0.0, 0.0, 0.0, 0.0, 0.0, 0.0, 0.0, 0.0, 0.0, ...  0.000000  0.000000   \n",
       "\n",
       "        AAI        PA      prob  abs_error  \n",
       "0  0.000000  0.001589  0.285669   0.285669  \n",
       "1  0.031032  0.021446  0.273677   0.726323  \n",
       "2  0.000000  0.000794  0.285281   0.714719  \n",
       "3  0.000000  0.004766  0.287228   0.287228  \n",
       "4  0.000000  0.015091  0.292328   0.707672  "
      ]
     },
     "execution_count": 192,
     "metadata": {},
     "output_type": "execute_result"
    }
   ],
   "source": [
    "# absolute eroor of prediction\n",
    "link_proba['abs_error'] = link_proba.apply(lambda row: math.fabs(row['goal']-row['prob']), axis=1)\n",
    "link_proba.head()"
   ]
  },
  {
   "cell_type": "code",
   "execution_count": null,
   "metadata": {},
   "outputs": [
    {
     "data": {
      "text/plain": [
       "0.6122303009033203"
      ]
     },
     "execution_count": 193,
     "metadata": {},
     "output_type": "execute_result"
    }
   ],
   "source": [
    "train_median_error = link_proba['abs_error'].median()\n",
    "train_median_error"
   ]
  },
  {
   "cell_type": "code",
   "execution_count": null,
   "metadata": {},
   "outputs": [
    {
     "data": {
      "text/html": [
       "<div>\n",
       "<style scoped>\n",
       "    .dataframe tbody tr th:only-of-type {\n",
       "        vertical-align: middle;\n",
       "    }\n",
       "\n",
       "    .dataframe tbody tr th {\n",
       "        vertical-align: top;\n",
       "    }\n",
       "\n",
       "    .dataframe thead th {\n",
       "        text-align: right;\n",
       "    }\n",
       "</style>\n",
       "<table border=\"1\" class=\"dataframe\">\n",
       "  <thead>\n",
       "    <tr style=\"text-align: right;\">\n",
       "      <th></th>\n",
       "      <th>node1</th>\n",
       "      <th>node2</th>\n",
       "      <th>goal</th>\n",
       "      <th>node_1_attrs</th>\n",
       "      <th>node_2_attrs</th>\n",
       "      <th>RAI</th>\n",
       "      <th>JC</th>\n",
       "      <th>AAI</th>\n",
       "      <th>PA</th>\n",
       "      <th>prob</th>\n",
       "      <th>abs_error</th>\n",
       "      <th>quality_label</th>\n",
       "    </tr>\n",
       "  </thead>\n",
       "  <tbody>\n",
       "    <tr>\n",
       "      <th>0</th>\n",
       "      <td>83</td>\n",
       "      <td>3770</td>\n",
       "      <td>0.0</td>\n",
       "      <td>(0.0, 0.0, 0.0, 0.0, 0.0, 0.0, 0.0, 0.0, 0.0, ...</td>\n",
       "      <td>(0.0, 0.0, 0.0, 0.0, 0.0, 0.0, 0.0, 0.0, 0.0, ...</td>\n",
       "      <td>0.000000</td>\n",
       "      <td>0.000000</td>\n",
       "      <td>0.000000</td>\n",
       "      <td>0.001589</td>\n",
       "      <td>0.285669</td>\n",
       "      <td>0.285669</td>\n",
       "      <td>1</td>\n",
       "    </tr>\n",
       "    <tr>\n",
       "      <th>1</th>\n",
       "      <td>2259</td>\n",
       "      <td>2895</td>\n",
       "      <td>1.0</td>\n",
       "      <td>(0.0, 0.0, 0.0, 0.0, 0.0, 0.0, 0.0, 0.0, 0.0, ...</td>\n",
       "      <td>(0.0, 0.0, 0.0, 0.0, 0.0, 0.0, 0.0, 0.0, 0.0, ...</td>\n",
       "      <td>0.015012</td>\n",
       "      <td>0.106667</td>\n",
       "      <td>0.031032</td>\n",
       "      <td>0.021446</td>\n",
       "      <td>0.273677</td>\n",
       "      <td>0.726323</td>\n",
       "      <td>0</td>\n",
       "    </tr>\n",
       "    <tr>\n",
       "      <th>2</th>\n",
       "      <td>3417</td>\n",
       "      <td>3418</td>\n",
       "      <td>1.0</td>\n",
       "      <td>(0.0, 0.0, 0.0, 0.0, 0.0, 0.0, 0.0, 0.0, 0.0, ...</td>\n",
       "      <td>(0.0, 0.0, 0.0, 0.0, 0.0, 0.0, 0.0, 0.0, 0.0, ...</td>\n",
       "      <td>0.000000</td>\n",
       "      <td>0.000000</td>\n",
       "      <td>0.000000</td>\n",
       "      <td>0.000794</td>\n",
       "      <td>0.285281</td>\n",
       "      <td>0.714719</td>\n",
       "      <td>0</td>\n",
       "    </tr>\n",
       "    <tr>\n",
       "      <th>3</th>\n",
       "      <td>23</td>\n",
       "      <td>3310</td>\n",
       "      <td>0.0</td>\n",
       "      <td>(0.0, 0.0, 0.0, 0.0, 0.0, 0.0, 0.0, 0.0, 0.0, ...</td>\n",
       "      <td>(0.0, 0.0, 0.0, 0.0, 0.0, 0.0, 0.0, 0.0, 0.0, ...</td>\n",
       "      <td>0.000000</td>\n",
       "      <td>0.000000</td>\n",
       "      <td>0.000000</td>\n",
       "      <td>0.004766</td>\n",
       "      <td>0.287228</td>\n",
       "      <td>0.287228</td>\n",
       "      <td>1</td>\n",
       "    </tr>\n",
       "    <tr>\n",
       "      <th>4</th>\n",
       "      <td>3695</td>\n",
       "      <td>4060</td>\n",
       "      <td>1.0</td>\n",
       "      <td>(0.0, 0.0, 0.0, 0.0, 0.0, 0.0, 0.0, 0.0, 0.0, ...</td>\n",
       "      <td>(0.0, 0.0, 0.0, 0.0, 0.0, 0.0, 0.0, 0.0, 0.0, ...</td>\n",
       "      <td>0.000000</td>\n",
       "      <td>0.000000</td>\n",
       "      <td>0.000000</td>\n",
       "      <td>0.015091</td>\n",
       "      <td>0.292328</td>\n",
       "      <td>0.707672</td>\n",
       "      <td>0</td>\n",
       "    </tr>\n",
       "  </tbody>\n",
       "</table>\n",
       "</div>"
      ],
      "text/plain": [
       "   node1  node2  goal                                       node_1_attrs  \\\n",
       "0     83   3770   0.0  (0.0, 0.0, 0.0, 0.0, 0.0, 0.0, 0.0, 0.0, 0.0, ...   \n",
       "1   2259   2895   1.0  (0.0, 0.0, 0.0, 0.0, 0.0, 0.0, 0.0, 0.0, 0.0, ...   \n",
       "2   3417   3418   1.0  (0.0, 0.0, 0.0, 0.0, 0.0, 0.0, 0.0, 0.0, 0.0, ...   \n",
       "3     23   3310   0.0  (0.0, 0.0, 0.0, 0.0, 0.0, 0.0, 0.0, 0.0, 0.0, ...   \n",
       "4   3695   4060   1.0  (0.0, 0.0, 0.0, 0.0, 0.0, 0.0, 0.0, 0.0, 0.0, ...   \n",
       "\n",
       "                                        node_2_attrs       RAI        JC  \\\n",
       "0  (0.0, 0.0, 0.0, 0.0, 0.0, 0.0, 0.0, 0.0, 0.0, ...  0.000000  0.000000   \n",
       "1  (0.0, 0.0, 0.0, 0.0, 0.0, 0.0, 0.0, 0.0, 0.0, ...  0.015012  0.106667   \n",
       "2  (0.0, 0.0, 0.0, 0.0, 0.0, 0.0, 0.0, 0.0, 0.0, ...  0.000000  0.000000   \n",
       "3  (0.0, 0.0, 0.0, 0.0, 0.0, 0.0, 0.0, 0.0, 0.0, ...  0.000000  0.000000   \n",
       "4  (0.0, 0.0, 0.0, 0.0, 0.0, 0.0, 0.0, 0.0, 0.0, ...  0.000000  0.000000   \n",
       "\n",
       "        AAI        PA      prob  abs_error  quality_label  \n",
       "0  0.000000  0.001589  0.285669   0.285669              1  \n",
       "1  0.031032  0.021446  0.273677   0.726323              0  \n",
       "2  0.000000  0.000794  0.285281   0.714719              0  \n",
       "3  0.000000  0.004766  0.287228   0.287228              1  \n",
       "4  0.000000  0.015091  0.292328   0.707672              0  "
      ]
     },
     "execution_count": 194,
     "metadata": {},
     "output_type": "execute_result"
    }
   ],
   "source": [
    "link_proba['quality_label'] = link_proba.apply(lambda row: 1 if row['abs_error'] <= train_median_error else 0, axis=1)\n",
    "link_proba.head()"
   ]
  },
  {
   "cell_type": "code",
   "execution_count": null,
   "metadata": {},
   "outputs": [
    {
     "name": "stdout",
     "output_type": "stream",
     "text": [
      "_________________________________________________________________\n",
      "Layer (type)                 Output Shape              Param #   \n",
      "=================================================================\n",
      "Topological features input ( (None, 4)                 0         \n",
      "_________________________________________________________________\n",
      "Hidden layer 1 (Dense)       (None, 64)                320       \n",
      "_________________________________________________________________\n",
      "Hidden layer 2 (Dense)       (None, 64)                4160      \n",
      "_________________________________________________________________\n",
      "output (Dense)               (None, 1)                 65        \n",
      "=================================================================\n",
      "Total params: 4,545\n",
      "Trainable params: 4,545\n",
      "Non-trainable params: 0\n",
      "_________________________________________________________________\n"
     ]
    }
   ],
   "source": [
    "classification_model = model(feature_names, attr_dim, attrs=ATTRS)\n",
    "classification_model.summary()"
   ]
  },
  {
   "cell_type": "code",
   "execution_count": null,
   "metadata": {},
   "outputs": [
    {
     "data": {
      "image/png": "[encoded data removed]",
      "text/plain": [
       "<IPython.core.display.Image object>"
      ]
     },
     "execution_count": 196,
     "metadata": {},
     "output_type": "execute_result"
    }
   ],
   "source": [
    "plot_model(classification_model, show_shapes=True)"
   ]
  },
  {
   "cell_type": "code",
   "execution_count": null,
   "metadata": {},
   "outputs": [
    {
     "name": "stdout",
     "output_type": "stream",
     "text": [
      "Epoch 1/5\n",
      "1601/1601 [==============================] - 1s 322us/step - loss: 0.8362 - acc: 0.6596\n",
      "Epoch 2/5\n",
      "1601/1601 [==============================] - 0s 292us/step - loss: 0.8045 - acc: 0.6927\n",
      "Epoch 3/5\n",
      "1601/1601 [==============================] - 0s 268us/step - loss: 0.7742 - acc: 0.6902\n",
      "Epoch 4/5\n",
      "1601/1601 [==============================] - 0s 155us/step - loss: 0.7627 - acc: 0.6939\n",
      "Epoch 5/5\n",
      "1601/1601 [==============================] - 0s 222us/step - loss: 0.7596 - acc: 0.6958\n"
     ]
    },
    {
     "data": {
      "text/plain": [
       "<keras.callbacks.History at 0x7fcfff7d06a0>"
      ]
     },
     "execution_count": 197,
     "metadata": {},
     "output_type": "execute_result"
    }
   ],
   "source": [
    "x, y = data_arrange(link_proba, feature_names, goal='quality_label', attrs=ATTRS)\n",
    "\n",
    "classification_model.fit(x, y, epochs=N_EPOCH) "
   ]
  },
  {
   "cell_type": "code",
   "execution_count": null,
   "metadata": {},
   "outputs": [],
   "source": [
    "# testing the classifier\n",
    "\n",
    "T = 0.5\n",
    "\n",
    "x, _ = data_arrange(classifier_test, feature_names, train=False, attrs=ATTRS)\n",
    "\n",
    "quality_probability = classification_model.predict(x).squeeze()\n",
    "link_probability = link_prediction_model.predict(x).squeeze()\n",
    "\n",
    "quality_label = [1 if i > T else 0 for i in quality_probability]\n",
    "\n",
    "classifier_test = classifier_test.join(pd.Series(quality_probability, name='predicted_quality_prob'))\n",
    "classifier_test = classifier_test.join(pd.Series(link_probability, name='predicted_link_probability'))\n",
    "classifier_test = classifier_test.join(pd.Series(quality_label, name='predicted_quality_label'))"
   ]
  },
  {
   "cell_type": "code",
   "execution_count": null,
   "metadata": {},
   "outputs": [
    {
     "data": {
      "text/plain": [
       "0.6744440793991089"
      ]
     },
     "execution_count": 199,
     "metadata": {},
     "output_type": "execute_result"
    }
   ],
   "source": [
    "classifier_test['true_abs_error'] = classifier_test.apply(lambda row: math.fabs(row['goal']-row['predicted_link_probability']), axis=1)\n",
    "test_median_error = classifier_test['true_abs_error'].median()\n",
    "test_median_error"
   ]
  },
  {
   "cell_type": "code",
   "execution_count": null,
   "metadata": {},
   "outputs": [
    {
     "data": {
      "text/html": [
       "<div>\n",
       "<style scoped>\n",
       "    .dataframe tbody tr th:only-of-type {\n",
       "        vertical-align: middle;\n",
       "    }\n",
       "\n",
       "    .dataframe tbody tr th {\n",
       "        vertical-align: top;\n",
       "    }\n",
       "\n",
       "    .dataframe thead th {\n",
       "        text-align: right;\n",
       "    }\n",
       "</style>\n",
       "<table border=\"1\" class=\"dataframe\">\n",
       "  <thead>\n",
       "    <tr style=\"text-align: right;\">\n",
       "      <th></th>\n",
       "      <th>node1</th>\n",
       "      <th>node2</th>\n",
       "      <th>goal</th>\n",
       "      <th>node_1_attrs</th>\n",
       "      <th>node_2_attrs</th>\n",
       "      <th>RAI</th>\n",
       "      <th>JC</th>\n",
       "      <th>AAI</th>\n",
       "      <th>PA</th>\n",
       "      <th>predicted_quality_prob</th>\n",
       "      <th>predicted_link_probability</th>\n",
       "      <th>predicted_quality_label</th>\n",
       "      <th>true_abs_error</th>\n",
       "      <th>true_quality_label</th>\n",
       "    </tr>\n",
       "  </thead>\n",
       "  <tbody>\n",
       "    <tr>\n",
       "      <th>0</th>\n",
       "      <td>2298</td>\n",
       "      <td>3334</td>\n",
       "      <td>0.0</td>\n",
       "      <td>(0.0, 0.0, 0.0, 0.0, 0.0, 0.0, 0.0, 0.0, 0.346...</td>\n",
       "      <td>(0.0, 0.0, 0.0, 0.0, 0.0, 0.0, 0.0, 0.0, 0.0, ...</td>\n",
       "      <td>0.0</td>\n",
       "      <td>0.0</td>\n",
       "      <td>0.0</td>\n",
       "      <td>0.000795</td>\n",
       "      <td>0.538204</td>\n",
       "      <td>0.285281</td>\n",
       "      <td>1</td>\n",
       "      <td>0.285281</td>\n",
       "      <td>1</td>\n",
       "    </tr>\n",
       "    <tr>\n",
       "      <th>1</th>\n",
       "      <td>994</td>\n",
       "      <td>2647</td>\n",
       "      <td>0.0</td>\n",
       "      <td>(0.0, 0.0, 0.0, 0.0, 0.0, 0.0, 0.0, 0.0, 0.0, ...</td>\n",
       "      <td>(0.0, 0.0, 0.0, 0.0, 0.0, 0.0, 0.0, 0.0, 0.0, ...</td>\n",
       "      <td>0.0</td>\n",
       "      <td>0.0</td>\n",
       "      <td>0.0</td>\n",
       "      <td>0.000265</td>\n",
       "      <td>0.540366</td>\n",
       "      <td>0.285022</td>\n",
       "      <td>1</td>\n",
       "      <td>0.285022</td>\n",
       "      <td>1</td>\n",
       "    </tr>\n",
       "    <tr>\n",
       "      <th>2</th>\n",
       "      <td>274</td>\n",
       "      <td>3049</td>\n",
       "      <td>0.0</td>\n",
       "      <td>(0.0, 0.0, 0.0, 0.0, 0.0, 0.0, 0.0, 0.0, 0.0, ...</td>\n",
       "      <td>(0.0, 0.0, 0.0, 0.0, 0.0, 0.0, 0.0, 0.0, 0.0, ...</td>\n",
       "      <td>0.0</td>\n",
       "      <td>0.0</td>\n",
       "      <td>0.0</td>\n",
       "      <td>0.001325</td>\n",
       "      <td>0.536041</td>\n",
       "      <td>0.285541</td>\n",
       "      <td>1</td>\n",
       "      <td>0.285541</td>\n",
       "      <td>1</td>\n",
       "    </tr>\n",
       "    <tr>\n",
       "      <th>3</th>\n",
       "      <td>520</td>\n",
       "      <td>3899</td>\n",
       "      <td>0.0</td>\n",
       "      <td>(0.0, 0.0, 0.0, 0.0, 0.0, 0.0, 0.0, 0.0, 0.0, ...</td>\n",
       "      <td>(0.0, 0.0, 0.0, 0.0, 0.0, 0.0, 0.0, 0.0, 0.0, ...</td>\n",
       "      <td>0.0</td>\n",
       "      <td>0.0</td>\n",
       "      <td>0.0</td>\n",
       "      <td>0.000265</td>\n",
       "      <td>0.540366</td>\n",
       "      <td>0.285022</td>\n",
       "      <td>1</td>\n",
       "      <td>0.285022</td>\n",
       "      <td>1</td>\n",
       "    </tr>\n",
       "    <tr>\n",
       "      <th>4</th>\n",
       "      <td>351</td>\n",
       "      <td>1688</td>\n",
       "      <td>0.0</td>\n",
       "      <td>(0.0, 0.0, 0.0, 0.0, 0.0, 0.0, 0.0, 0.0, 0.0, ...</td>\n",
       "      <td>(0.0, 0.0, 0.0, 0.0, 0.0, 0.0, 0.0, 0.0, 0.0, ...</td>\n",
       "      <td>0.0</td>\n",
       "      <td>0.0</td>\n",
       "      <td>0.0</td>\n",
       "      <td>0.001060</td>\n",
       "      <td>0.537122</td>\n",
       "      <td>0.285411</td>\n",
       "      <td>1</td>\n",
       "      <td>0.285411</td>\n",
       "      <td>1</td>\n",
       "    </tr>\n",
       "  </tbody>\n",
       "</table>\n",
       "</div>"
      ],
      "text/plain": [
       "   node1  node2  goal                                       node_1_attrs  \\\n",
       "0   2298   3334   0.0  (0.0, 0.0, 0.0, 0.0, 0.0, 0.0, 0.0, 0.0, 0.346...   \n",
       "1    994   2647   0.0  (0.0, 0.0, 0.0, 0.0, 0.0, 0.0, 0.0, 0.0, 0.0, ...   \n",
       "2    274   3049   0.0  (0.0, 0.0, 0.0, 0.0, 0.0, 0.0, 0.0, 0.0, 0.0, ...   \n",
       "3    520   3899   0.0  (0.0, 0.0, 0.0, 0.0, 0.0, 0.0, 0.0, 0.0, 0.0, ...   \n",
       "4    351   1688   0.0  (0.0, 0.0, 0.0, 0.0, 0.0, 0.0, 0.0, 0.0, 0.0, ...   \n",
       "\n",
       "                                        node_2_attrs  RAI   JC  AAI        PA  \\\n",
       "0  (0.0, 0.0, 0.0, 0.0, 0.0, 0.0, 0.0, 0.0, 0.0, ...  0.0  0.0  0.0  0.000795   \n",
       "1  (0.0, 0.0, 0.0, 0.0, 0.0, 0.0, 0.0, 0.0, 0.0, ...  0.0  0.0  0.0  0.000265   \n",
       "2  (0.0, 0.0, 0.0, 0.0, 0.0, 0.0, 0.0, 0.0, 0.0, ...  0.0  0.0  0.0  0.001325   \n",
       "3  (0.0, 0.0, 0.0, 0.0, 0.0, 0.0, 0.0, 0.0, 0.0, ...  0.0  0.0  0.0  0.000265   \n",
       "4  (0.0, 0.0, 0.0, 0.0, 0.0, 0.0, 0.0, 0.0, 0.0, ...  0.0  0.0  0.0  0.001060   \n",
       "\n",
       "   predicted_quality_prob  predicted_link_probability  \\\n",
       "0                0.538204                    0.285281   \n",
       "1                0.540366                    0.285022   \n",
       "2                0.536041                    0.285541   \n",
       "3                0.540366                    0.285022   \n",
       "4                0.537122                    0.285411   \n",
       "\n",
       "   predicted_quality_label  true_abs_error  true_quality_label  \n",
       "0                        1        0.285281                   1  \n",
       "1                        1        0.285022                   1  \n",
       "2                        1        0.285541                   1  \n",
       "3                        1        0.285022                   1  \n",
       "4                        1        0.285411                   1  "
      ]
     },
     "execution_count": 200,
     "metadata": {},
     "output_type": "execute_result"
    }
   ],
   "source": [
    "classifier_test['true_quality_label'] = classifier_test.apply(lambda row: 1 if row['true_abs_error'] <= test_median_error else 0, axis=1)\n",
    "classifier_test.head(5)"
   ]
  },
  {
   "cell_type": "code",
   "execution_count": null,
   "metadata": {},
   "outputs": [
    {
     "data": {
      "text/plain": [
       "true_quality_label\n",
       "0                     801\n",
       "1                     801\n",
       "dtype: int64"
      ]
     },
     "execution_count": 201,
     "metadata": {},
     "output_type": "execute_result"
    }
   ],
   "source": [
    "classifier_test[['true_quality_label']].value_counts()"
   ]
  },
  {
   "cell_type": "code",
   "execution_count": null,
   "metadata": {},
   "outputs": [
    {
     "data": {
      "text/plain": [
       "predicted_quality_label\n",
       "1                          1219\n",
       "0                           383\n",
       "dtype: int64"
      ]
     },
     "execution_count": 202,
     "metadata": {},
     "output_type": "execute_result"
    }
   ],
   "source": [
    "classifier_test[['predicted_quality_label']].value_counts()"
   ]
  },
  {
   "cell_type": "code",
   "execution_count": null,
   "metadata": {},
   "outputs": [
    {
     "data": {
      "text/html": [
       "<div>\n",
       "<style scoped>\n",
       "    .dataframe tbody tr th:only-of-type {\n",
       "        vertical-align: middle;\n",
       "    }\n",
       "\n",
       "    .dataframe tbody tr th {\n",
       "        vertical-align: top;\n",
       "    }\n",
       "\n",
       "    .dataframe thead th {\n",
       "        text-align: right;\n",
       "    }\n",
       "</style>\n",
       "<table border=\"1\" class=\"dataframe\">\n",
       "  <thead>\n",
       "    <tr style=\"text-align: right;\">\n",
       "      <th></th>\n",
       "      <th>Metric</th>\n",
       "      <th>Score</th>\n",
       "    </tr>\n",
       "  </thead>\n",
       "  <tbody>\n",
       "    <tr>\n",
       "      <th>0</th>\n",
       "      <td>Sample length</td>\n",
       "      <td>1602.000000</td>\n",
       "    </tr>\n",
       "    <tr>\n",
       "      <th>1</th>\n",
       "      <td>Precision</td>\n",
       "      <td>0.634947</td>\n",
       "    </tr>\n",
       "    <tr>\n",
       "      <th>2</th>\n",
       "      <td>Recall</td>\n",
       "      <td>0.966292</td>\n",
       "    </tr>\n",
       "    <tr>\n",
       "      <th>3</th>\n",
       "      <td>F1 score</td>\n",
       "      <td>0.766337</td>\n",
       "    </tr>\n",
       "  </tbody>\n",
       "</table>\n",
       "</div>"
      ],
      "text/plain": [
       "          Metric        Score\n",
       "0  Sample length  1602.000000\n",
       "1      Precision     0.634947\n",
       "2         Recall     0.966292\n",
       "3       F1 score     0.766337"
      ]
     },
     "execution_count": 203,
     "metadata": {},
     "output_type": "execute_result"
    }
   ],
   "source": [
    "from sklearn import metrics\n",
    "\n",
    "classifier_test.dropna(inplace=True)\n",
    "y_true, y_pred = classifier_test['true_quality_label'], classifier_test['predicted_quality_label']\n",
    "\n",
    "scores_df = pd.DataFrame()\n",
    "scores_df['Metric'] = pd.Series(['Sample length', 'Precision', 'Recall', 'F1 score'])\n",
    "\n",
    "scores_df['Score'] = pd.Series([\n",
    "    len(classifier_test),\n",
    "    metrics.precision_score(y_true, y_pred),\n",
    "    metrics.recall_score(y_true, y_pred),\n",
    "    metrics.f1_score(y_true, y_pred)\n",
    "])\n",
    "\n",
    "scores_df"
   ]
  },
  {
   "cell_type": "code",
   "execution_count": null,
   "metadata": {},
   "outputs": [
    {
     "data": {
      "image/png": "[encoded data removed]",
      "text/plain": [
       "<Figure size 1000x625 with 1 Axes>"
      ]
     },
     "metadata": {
      "needs_background": "light"
     },
     "output_type": "display_data"
    }
   ],
   "source": [
    "plot_auc(classifier_test, 'true_quality_label', 'predicted_quality_prob')"
   ]
  }
 ],
 "metadata": {
  "interpreter": {
   "hash": "4ef45355e186006b0a343647c814adce907f8a3ddeb3456c78680fb6c2f6cfb7"
  },
  "kernelspec": {
   "display_name": "Python 3.8.5 64-bit ('base': conda)",
   "name": "python3"
  },
  "language_info": {
   "codemirror_mode": {
    "name": "ipython",
    "version": 3
   },
   "file_extension": ".py",
   "mimetype": "text/x-python",
   "name": "python",
   "nbconvert_exporter": "python",
   "pygments_lexer": "ipython3",
   "version": "3.8.5"
  }
 },
 "nbformat": 4,
 "nbformat_minor": 2
}
